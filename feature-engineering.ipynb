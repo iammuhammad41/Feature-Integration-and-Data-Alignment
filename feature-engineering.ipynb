{
  "cells": [
    {
      "metadata": {
        "_uuid": "868a790479135f33a8a40ca82671b3a4995ad147",
        "id": "up3xC8bw0PNT"
      },
      "cell_type": "markdown",
      "source": []
    },
    {
      "metadata": {
        "trusted": true,
        "collapsed": true,
        "_uuid": "6c667b348b3964093c09f1d3616e1c1026be5d91",
        "id": "TDfpVoLY0PNW"
      },
      "cell_type": "code",
      "source": [
        "# pandas and numpy for data manipulation\n",
        "import pandas as pd\n",
        "import numpy as np\n",
        "\n",
        "# automated feature engineering\n",
        "import featuretools as ft\n",
        "\n",
        "# Filter out pandas warnings\n",
        "import warnings\n",
        "warnings.filterwarnings('ignore')"
      ],
      "execution_count": null,
      "outputs": []
    },
    {
      "metadata": {
        "trusted": true,
        "collapsed": true,
        "_uuid": "8c518868f1a699faa807d6116bc4cc01dfbf0f1f",
        "id": "9hl_UuaM0PNY"
      },
      "cell_type": "code",
      "source": [
        "# Read in the datasets and limit to the first 1000 rows (sorted by SK_ID_CURR)\n",
        "# This allows us to actually see the results in a reasonable amount of time!\n",
        "app_train = pd.read_csv('../input/application_train.csv').sort_values('SK_ID_CURR').reset_index().loc[:1000, :].drop(columns = ['index'])\n",
        "app_test = pd.read_csv('../input/application_test.csv').sort_values('SK_ID_CURR').reset_index().loc[:1000, :].drop(columns = ['index'])\n",
        "bureau = pd.read_csv('../input/bureau.csv').sort_values(['SK_ID_CURR', 'SK_ID_BUREAU']).reset_index().loc[:1000, :].drop(columns = ['index'])\n",
        "bureau_balance = pd.read_csv('../input/bureau_balance.csv').sort_values('SK_ID_BUREAU').reset_index().loc[:1000, :].drop(columns = ['index'])\n",
        "cash = pd.read_csv('../input/POS_CASH_balance.csv').sort_values(['SK_ID_CURR', 'SK_ID_PREV']).reset_index().loc[:1000, :].drop(columns = ['index'])\n",
        "credit = pd.read_csv('../input/credit_card_balance.csv').sort_values(['SK_ID_CURR', 'SK_ID_PREV']).reset_index().loc[:1000, :].drop(columns = ['index'])\n",
        "previous = pd.read_csv('../input/previous_application.csv').sort_values(['SK_ID_CURR', 'SK_ID_PREV']).reset_index().loc[:1000, :].drop(columns = ['index'])\n",
        "installments = pd.read_csv('../input/installments_payments.csv').sort_values(['SK_ID_CURR', 'SK_ID_PREV']).reset_index().loc[:1000, :].drop(columns = ['index'])"
      ],
      "execution_count": null,
      "outputs": []
    },
    {
      "metadata": {
        "trusted": true,
        "_uuid": "3840e1bc6bf1b407c63ad4bab59e1fa033bee28e",
        "collapsed": true,
        "id": "vJO2i8Sq0PNY"
      },
      "cell_type": "code",
      "source": [
        "app_types = {}\n",
        "\n",
        "# Iterate through the columns and record the Boolean columns\n",
        "for col in app_train:\n",
        "    # If column is a number with only two values, encode it as a Boolean\n",
        "    if (app_train[col].dtype != 'object') and (len(app_train[col].unique()) <= 2):\n",
        "        app_types[col] = ft.variable_types.Boolean\n",
        "\n",
        "print('Number of boolean variables: ', len(app_types))"
      ],
      "execution_count": null,
      "outputs": []
    },
    {
      "metadata": {
        "trusted": true,
        "collapsed": true,
        "_uuid": "f39e523e010e243cfe5a9b0776e448dfa7f033f4",
        "id": "t4TXCjjA0PNZ"
      },
      "cell_type": "code",
      "source": [
        "# Record ordinal variables\n",
        "app_types['REGION_RATING_CLIENT'] = ft.variable_types.Ordinal\n",
        "app_types['REGION_RATING_CLIENT_W_CITY'] = ft.variable_types.Ordinal\n",
        "\n",
        "app_test_types = app_types.copy()\n",
        "del app_test_types['TARGET']"
      ],
      "execution_count": null,
      "outputs": []
    },
    {
      "metadata": {
        "trusted": true,
        "collapsed": true,
        "_uuid": "b4235cb6cd7b49a4493e35eda122cf824d0bf851",
        "id": "OVPo0S9l0PNa"
      },
      "cell_type": "code",
      "source": [
        "# Record boolean variables in the previous data\n",
        "previous_types= {'NFLAG_LAST_APPL_IN_DAY': ft.variable_types.Boolean,\n",
        "                 'NFLAG_INSURED_ON_APPROVAL': ft.variable_types.Boolean}"
      ],
      "execution_count": null,
      "outputs": []
    },
    {
      "metadata": {
        "trusted": true,
        "collapsed": true,
        "_uuid": "b77ee6020dfcae646123d8b38b2cd6b210d442b6",
        "id": "kK2-yV3d0PNb"
      },
      "cell_type": "code",
      "source": [
        "import re\n",
        "\n",
        "def replace_day_outliers(df):\n",
        "    \"\"\"Replace 365243 with np.nan in any columns with DAYS\"\"\"\n",
        "    for col in df.columns:\n",
        "        if \"DAYS\" in col:\n",
        "            df[col] = df[col].replace({365243: np.nan})\n",
        "\n",
        "    return df\n",
        "\n",
        "# Replace all the day outliers\n",
        "app_train = replace_day_outliers(app_train)\n",
        "app_test = replace_day_outliers(app_test)\n",
        "bureau = replace_day_outliers(bureau)\n",
        "bureau_balance = replace_day_outliers(bureau_balance)\n",
        "credit = replace_day_outliers(credit)\n",
        "cash = replace_day_outliers(cash)\n",
        "previous = replace_day_outliers(previous)\n",
        "installments = replace_day_outliers(installments)"
      ],
      "execution_count": null,
      "outputs": []
    },
    {
      "metadata": {
        "trusted": true,
        "_uuid": "3fbf30d7c485bd0e7fce8ca5c9eab524c24c629f",
        "collapsed": true,
        "id": "OlSb_itz0PNb"
      },
      "cell_type": "code",
      "source": [
        "# Establish a starting date for all applications at Home Credit\n",
        "start_date = pd.Timestamp(\"2025-01-01\") # (\"2016-01-01\")\n",
        "start_date"
      ],
      "execution_count": null,
      "outputs": []
    },
    {
      "metadata": {
        "trusted": true,
        "_uuid": "7f3b55740b78dee6db41aed941d76ecd36079d4c",
        "collapsed": true,
        "id": "w0INEbj60PNc"
      },
      "cell_type": "code",
      "source": [
        "# Convert to timedelta in days\n",
        "for col in ['DAYS_CREDIT', 'DAYS_CREDIT_ENDDATE', 'DAYS_ENDDATE_FACT', 'DAYS_CREDIT_UPDATE']:\n",
        "    bureau[col] = pd.to_timedelta(bureau[col], 'D')\n",
        "\n",
        "bureau[['DAYS_CREDIT', 'DAYS_CREDIT_ENDDATE', 'DAYS_ENDDATE_FACT', 'DAYS_CREDIT_UPDATE']].head()"
      ],
      "execution_count": null,
      "outputs": []
    },
    {
      "metadata": {
        "trusted": true,
        "collapsed": true,
        "_uuid": "9f6515d3f508021ea129327d21cf4ff0428682ea",
        "id": "LzRkFDBL0PNc"
      },
      "cell_type": "code",
      "source": [
        "# Create the date columns\n",
        "bureau['bureau_credit_application_date'] = start_date + bureau['DAYS_CREDIT']\n",
        "bureau['bureau_credit_end_date'] = start_date + bureau['DAYS_CREDIT_ENDDATE']\n",
        "bureau['bureau_credit_close_date'] = start_date + bureau['DAYS_ENDDATE_FACT']\n",
        "bureau['bureau_credit_update_date'] = start_date + bureau['DAYS_CREDIT_UPDATE']"
      ],
      "execution_count": null,
      "outputs": []
    },
    {
      "metadata": {
        "trusted": true,
        "_uuid": "e35b9c0a31ace5d9b516ec61647bb4e565c92be5",
        "collapsed": true,
        "id": "S2AhjQWf0PNc"
      },
      "cell_type": "code",
      "source": [
        "import matplotlib.pyplot as plt\n",
        "import seaborn as sns\n",
        "# Set up default plot styles\n",
        "plt.rcParams['font.size'] = 26\n",
        "plt.style.use('fivethirtyeight')\n",
        "\n",
        "# Drop the time offset columns\n",
        "bureau = bureau.drop(columns = ['DAYS_CREDIT', 'DAYS_CREDIT_ENDDATE', 'DAYS_ENDDATE_FACT', 'DAYS_CREDIT_UPDATE'])\n",
        "\n",
        "plt.figure(figsize = (10, 8))\n",
        "sns.distplot((bureau['bureau_credit_end_date'] - bureau['bureau_credit_application_date']).dropna().dt.days);\n",
        "plt.xlabel('Length of Loan (Days)', size = 24); plt.ylabel('Density', size = 24); plt.title('Loan Length', size = 30);"
      ],
      "execution_count": null,
      "outputs": []
    },
    {
      "metadata": {
        "trusted": true,
        "_uuid": "1b52e6985388321f912bb44cbcf3c1e039a4283e",
        "collapsed": true,
        "id": "sfXCEScW0PNd"
      },
      "cell_type": "code",
      "source": [
        "# Convert to timedelta\n",
        "bureau_balance['MONTHS_BALANCE'] = pd.to_timedelta(bureau_balance['MONTHS_BALANCE'], 'M')\n",
        "\n",
        "# Make a date column\n",
        "bureau_balance['bureau_balance_date'] = start_date + bureau_balance['MONTHS_BALANCE']\n",
        "bureau_balance = bureau_balance.drop(columns = ['MONTHS_BALANCE'])\n",
        "\n",
        "# Select one loan and plot\n",
        "example_credit = bureau_balance[bureau_balance['SK_ID_BUREAU'] == 5001709]\n",
        "plt.plot(example_credit['bureau_balance_date'], example_credit['STATUS'], 'ro');\n",
        "plt.title('Loan 5001709 over Time'); plt.xlabel('Date'); plt.ylabel('Status');"
      ],
      "execution_count": null,
      "outputs": []
    },
    {
      "metadata": {
        "trusted": true,
        "collapsed": true,
        "_uuid": "9e3d05b1f7ff822d38b0de243e1c69e560f0b65e",
        "id": "Me73fn6c0PNd"
      },
      "cell_type": "code",
      "source": [
        "# Convert to timedeltas in days\n",
        "for col in ['DAYS_DECISION', 'DAYS_FIRST_DRAWING', 'DAYS_FIRST_DUE', 'DAYS_LAST_DUE_1ST_VERSION', 'DAYS_LAST_DUE', 'DAYS_TERMINATION']:\n",
        "    previous[col] = pd.to_timedelta(previous[col], 'D')\n",
        "\n",
        "# Make date columns\n",
        "previous['previous_decision_date'] = start_date + previous['DAYS_DECISION']\n",
        "previous['previous_drawing_date'] = start_date + previous['DAYS_FIRST_DRAWING']\n",
        "previous['previous_first_due_date'] = start_date + previous['DAYS_FIRST_DUE']\n",
        "previous['previous_last_duefirst_date'] = start_date + previous['DAYS_LAST_DUE_1ST_VERSION']\n",
        "previous['previous_last_due_date'] = start_date + previous['DAYS_LAST_DUE']\n",
        "previous['previous_termination_date'] = start_date + previous['DAYS_TERMINATION']\n",
        "\n",
        "# Drop the time offset columns\n",
        "previous = previous.drop(columns = ['DAYS_DECISION', 'DAYS_FIRST_DRAWING', 'DAYS_FIRST_DUE', 'DAYS_LAST_DUE_1ST_VERSION', 'DAYS_LAST_DUE', 'DAYS_TERMINATION'])\n",
        "\n",
        "plt.figure(figsize = (8, 6))\n",
        "example_client = previous[previous['SK_ID_CURR'] == 100007]\n",
        "plt.plot(example_client['previous_decision_date'], example_client['AMT_CREDIT'], 'ro')\n",
        "plt.title('Client 100007 Previous Loan Amounts'); plt.xlabel('Date'); plt.ylabel('Credit Amount');"
      ],
      "execution_count": null,
      "outputs": []
    },
    {
      "metadata": {
        "trusted": true,
        "_uuid": "62b9d330933fbe74016bbb7f4980f8fc5e192ace",
        "collapsed": true,
        "id": "ILw1NXK70PNd"
      },
      "cell_type": "code",
      "source": [
        "# Convert to timedelta objects\n",
        "credit['MONTHS_BALANCE'] = pd.to_timedelta(credit['MONTHS_BALANCE'], 'M')\n",
        "cash['MONTHS_BALANCE'] = pd.to_timedelta(cash['MONTHS_BALANCE'], 'M')\n",
        "\n",
        "# Make a date column\n",
        "credit['credit_balance_date'] = start_date + credit['MONTHS_BALANCE']\n",
        "credit = credit.drop(columns = ['MONTHS_BALANCE'])\n",
        "\n",
        "# Make a date column\n",
        "cash['cash_balance_date'] = start_date + cash['MONTHS_BALANCE']\n",
        "cash = cash.drop(columns = ['MONTHS_BALANCE'])\n",
        "\n",
        "# Select on loan and plot\n",
        "example_credit = cash[cash['SK_ID_PREV'] == 1369693]\n",
        "\n",
        "plt.plot(example_credit['cash_balance_date'], example_credit['NAME_CONTRACT_STATUS'], 'ro');\n",
        "plt.title('Loan 1369693 over Time'); plt.xlabel('Date'); plt.ylabel('Contract Status');"
      ],
      "execution_count": null,
      "outputs": []
    },
    {
      "metadata": {
        "trusted": true,
        "_uuid": "e5b716ca0aecb467c3c368dbafc0a1f970325033",
        "collapsed": true,
        "id": "LhNkiy4B0PNe"
      },
      "cell_type": "code",
      "source": [
        "# Conver to time delta object\n",
        "installments['DAYS_INSTALMENT'] = pd.to_timedelta(installments['DAYS_INSTALMENT'], 'D')\n",
        "installments['DAYS_ENTRY_PAYMENT'] = pd.to_timedelta(installments['DAYS_ENTRY_PAYMENT'], 'D')\n",
        "\n",
        "# Create time column and drop\n",
        "installments['installments_due_date'] = start_date + installments['DAYS_INSTALMENT']\n",
        "installments = installments.drop(columns = ['DAYS_INSTALMENT'])\n",
        "\n",
        "installments['installments_paid_date'] = start_date + installments['DAYS_ENTRY_PAYMENT']\n",
        "installments = installments.drop(columns = ['DAYS_ENTRY_PAYMENT'])\n",
        "\n",
        "# Select one loan and plot\n",
        "example_credit = installments[installments['SK_ID_PREV'] == 1369693]\n",
        "plt.plot((example_credit['installments_due_date'] - example_credit['installments_paid_date']).dt.days, example_credit['AMT_INSTALMENT'], 'ro');\n",
        "plt.title('Loan 1369693'); plt.xlabel('Days Paid Early'); plt.ylabel('Installment Amount');"
      ],
      "execution_count": null,
      "outputs": []
    },
    {
      "metadata": {
        "trusted": true,
        "collapsed": true,
        "_uuid": "968ea4e675db3f7066b275fd688f2cba536c7d73",
        "id": "Dg-Tf5ci0PNe"
      },
      "cell_type": "code",
      "source": [
        "# Make an entityset\n",
        "es = ft.EntitySet(id = 'clients')"
      ],
      "execution_count": null,
      "outputs": []
    },
    {
      "metadata": {
        "trusted": true,
        "collapsed": true,
        "_uuid": "6e31e8014ffc780c83ff3d9aaf8644bef35157c5",
        "id": "a4kgdvMP0PNe"
      },
      "cell_type": "code",
      "source": [
        "# Entities with a unique index\n",
        "es = es.entity_from_dataframe(entity_id = 'app_train', dataframe = app_train,\n",
        "                              index = 'SK_ID_CURR', variable_types = app_types)\n",
        "\n",
        "es = es.entity_from_dataframe(entity_id = 'app_test', dataframe = app_test,\n",
        "                              index = 'SK_ID_CURR', variable_types = app_test_types)\n",
        "\n",
        "es = es.entity_from_dataframe(entity_id = 'bureau', dataframe = bureau,\n",
        "                              index = 'SK_ID_BUREAU', time_index='bureau_credit_application_date')\n",
        "\n",
        "es = es.entity_from_dataframe(entity_id = 'previous', dataframe = previous,\n",
        "                              index = 'SK_ID_PREV', time_index = 'previous_decision_date',\n",
        "                              variable_types = previous_types)\n",
        "\n",
        "# Entities that do not have a unique index\n",
        "es = es.entity_from_dataframe(entity_id = 'bureau_balance', dataframe = bureau_balance,\n",
        "                              make_index = True, index = 'bb_index',\n",
        "                              time_index = 'bureau_balance_date')\n",
        "\n",
        "es = es.entity_from_dataframe(entity_id = 'cash', dataframe = cash,\n",
        "                              make_index = True, index = 'cash_index',\n",
        "                              time_index = 'cash_balance_date')\n",
        "\n",
        "es = es.entity_from_dataframe(entity_id = 'installments', dataframe = installments,\n",
        "                              make_index = True, index = 'installments_index',\n",
        "                              time_index = 'installments_paid_date')\n",
        "\n",
        "es = es.entity_from_dataframe(entity_id = 'credit', dataframe = credit,\n",
        "                              make_index = True, index = 'credit_index',\n",
        "                              time_index = 'credit_balance_date')"
      ],
      "execution_count": null,
      "outputs": []
    },
    {
      "metadata": {
        "trusted": true,
        "_uuid": "2d793ffcb05bd6c20ef098fc78437e00859d3d3f",
        "collapsed": true,
        "id": "SHzczmcW0PNf"
      },
      "cell_type": "code",
      "source": [
        "# Relationship between app and bureau\n",
        "r_app_bureau = ft.Relationship(es['app_train']['SK_ID_CURR'], es['bureau']['SK_ID_CURR'])\n",
        "\n",
        "# Test Relationship between app and bureau\n",
        "r_test_app_bureau = ft.Relationship(es['app_test']['SK_ID_CURR'], es['bureau']['SK_ID_CURR'])\n",
        "\n",
        "# Relationship between bureau and bureau balance\n",
        "r_bureau_balance = ft.Relationship(es['bureau']['SK_ID_BUREAU'], es['bureau_balance']['SK_ID_BUREAU'])\n",
        "\n",
        "# Relationship between current app and previous apps\n",
        "r_app_previous = ft.Relationship(es['app_train']['SK_ID_CURR'], es['previous']['SK_ID_CURR'])\n",
        "\n",
        "# Test Relationship between current app and previous apps\n",
        "r_test_app_previous = ft.Relationship(es['app_test']['SK_ID_CURR'], es['previous']['SK_ID_CURR'])\n",
        "\n",
        "# Relationships between previous apps and cash, installments, and credit\n",
        "r_previous_cash = ft.Relationship(es['previous']['SK_ID_PREV'], es['cash']['SK_ID_PREV'])\n",
        "r_previous_installments = ft.Relationship(es['previous']['SK_ID_PREV'], es['installments']['SK_ID_PREV'])\n",
        "r_previous_credit = ft.Relationship(es['previous']['SK_ID_PREV'], es['credit']['SK_ID_PREV'])\n",
        "\n",
        "# Add in the defined relationships\n",
        "es = es.add_relationships([r_app_bureau, r_test_app_bureau, r_bureau_balance, r_app_previous, r_test_app_previous,\n",
        "                           r_previous_cash, r_previous_installments, r_previous_credit])\n",
        "# Print out the EntitySet\n",
        "es"
      ],
      "execution_count": null,
      "outputs": []
    },
    {
      "metadata": {
        "trusted": true,
        "_uuid": "a66fc6efe5ad82c84b8ebb30a7e2552f90b75a2b",
        "collapsed": true,
        "id": "g8Er8u9E0PNf"
      },
      "cell_type": "code",
      "source": [
        "time_features, time_feature_names = ft.dfs(entityset = es, target_entity = 'app_train',\n",
        "                                           trans_primitives = ['cum_sum', 'time_since_previous'], max_depth = 2,\n",
        "                                           agg_primitives = ['trend'] ,\n",
        "                                           features_only = False, verbose = True,\n",
        "                                           chunk_size = len(app_train),\n",
        "                                           ignore_entities = ['app_test'])"
      ],
      "execution_count": null,
      "outputs": []
    },
    {
      "metadata": {
        "trusted": true,
        "_uuid": "d1e856e2d5069b7536337096ca281d70a1aecbcf",
        "collapsed": true,
        "id": "q3pcSfIa0PNf"
      },
      "cell_type": "code",
      "source": [
        "time_features.iloc[:, -10:].head()"
      ],
      "execution_count": null,
      "outputs": []
    },
    {
      "metadata": {
        "trusted": true,
        "_uuid": "5675ebebc6ae1bba9c0fddf2422f69d1176148f4",
        "collapsed": true,
        "id": "mI9uh31M0PNl"
      },
      "cell_type": "code",
      "source": [
        "plt.figure(figsize = (8, 6))\n",
        "plt.hist(time_features['TREND(bureau.AMT_CREDIT_SUM, bureau_credit_application_date)'].dropna(), edgecolor = 'k');\n",
        "plt.xlabel('TREND(bureau.AMT_CREDIT_SUM, bureau_credit_application_date)'); plt.ylabel('Counts'); plt.title('Distribution of Trends in Credit Sum');"
      ],
      "execution_count": null,
      "outputs": []
    },
    {
      "metadata": {
        "trusted": true,
        "_uuid": "a70f6f3ce82ebbd3e1595123359f7b2d76622b8a",
        "collapsed": true,
        "id": "L-7zoRum0PNl"
      },
      "cell_type": "code",
      "source": [
        "plt.figure(figsize = (8, 6))\n",
        "plt.hist(time_features['TREND(previous.AMT_APPLICATION, previous_decision_date)'].dropna(), edgecolor = 'k');\n",
        "plt.xlabel('TREND(previous.AMT_APPLICATION, previous_decision_date)'); plt.ylabel('Counts'); plt.title('Distribution of Trends in Amount of Application');"
      ],
      "execution_count": null,
      "outputs": []
    },
    {
      "metadata": {
        "trusted": true,
        "_uuid": "09743addd4fe66a1fb37f86178bf471a98c40b4b",
        "collapsed": true,
        "id": "3ZMH3Vsq0PNl"
      },
      "cell_type": "code",
      "source": [
        "time_feature_names[-10:]"
      ],
      "execution_count": null,
      "outputs": []
    },
    {
      "metadata": {
        "trusted": true,
        "_uuid": "4c68349dee9dadccb7b4e2c6249769fad2061949",
        "collapsed": true,
        "id": "g7QDWCQY0PNm"
      },
      "cell_type": "code",
      "source": [
        "previous['NAME_CONTRACT_STATUS'].value_counts()"
      ],
      "execution_count": null,
      "outputs": []
    },
    {
      "metadata": {
        "_uuid": "dcdee9616c2c011aeecb7636fdab76b5a96cbece",
        "id": "o_03hexv0PNm"
      },
      "cell_type": "markdown",
      "source": [
        "To use interesting values, we assign them to the variable and then specify the `where_primitives` in the `dfs` call."
      ]
    },
    {
      "metadata": {
        "trusted": true,
        "_uuid": "34a29865f9a535e618699f67848560d53202bc04",
        "collapsed": true,
        "id": "u_hR47930PNm"
      },
      "cell_type": "code",
      "source": [
        "# Assign interesting values\n",
        "es['previous']['NAME_CONTRACT_STATUS'].interesting_values = ['Approved', 'Refused', 'Canceled']\n",
        "\n",
        "# Calculate the features with intereseting values\n",
        "interesting_features, interesting_feature_names = ft.dfs(entityset=es, target_entity='app_train', max_depth = 1,\n",
        "                                                         where_primitives = ['mean', 'mode'],\n",
        "                                                         trans_primitives=[], features_only = False, verbose = True,\n",
        "                                                         chunk_size = len(app_train),\n",
        "                                                         ignore_entities = ['app_test'])"
      ],
      "execution_count": null,
      "outputs": []
    },
    {
      "metadata": {
        "trusted": true,
        "_uuid": "fa9c22d154a9d6e51c644e6d4fe7cd3c8bf92297",
        "collapsed": true,
        "id": "r-VqtX9E0PNm"
      },
      "cell_type": "code",
      "source": [
        "interesting_features.iloc[:, -6:, ].head()"
      ],
      "execution_count": null,
      "outputs": []
    },
    {
      "metadata": {
        "trusted": true,
        "_uuid": "95c7073ad8a4b239b557cc4a4ac85ff86dc9ed67",
        "collapsed": true,
        "id": "MqGSyO4N0PNn"
      },
      "cell_type": "code",
      "source": [
        "plt.figure(figsize = (10, 8))\n",
        "sns.kdeplot(interesting_features['MEAN(previous.CNT_PAYMENT WHERE NAME_CONTRACT_STATUS = Approved)'].dropna(), label = 'Approved')\n",
        "sns.kdeplot(interesting_features['MEAN(previous.CNT_PAYMENT WHERE NAME_CONTRACT_STATUS = Canceled)'].dropna(), label = 'Canceled')\n",
        "plt.xlabel('MEAN(previous.CNT_PAYMENT)'); plt.ylabel('Density'); plt.title('Average Term of Previous Credit');"
      ],
      "execution_count": null,
      "outputs": []
    },
    {
      "metadata": {
        "trusted": true,
        "_uuid": "7654d838f5e9188f951f4034dc7c86ca676813b3",
        "collapsed": true,
        "id": "htmy9nLN0PNn"
      },
      "cell_type": "code",
      "source": [
        "# Plot of client type when contract was approved\n",
        "plt.figure(figsize = (20, 6))\n",
        "plt.subplot(1, 2, 1)\n",
        "plt.bar(list(range(3)), interesting_features['MODE(previous.NAME_CLIENT_TYPE WHERE NAME_CONTRACT_STATUS = Approved)'].value_counts())\n",
        "plt.xticks(list(range(3)), interesting_features['MODE(previous.NAME_CLIENT_TYPE WHERE NAME_CONTRACT_STATUS = Approved)'].value_counts().index);\n",
        "plt.xlabel(\"Client Type\"); plt.ylabel(\"Counts\");\n",
        "plt.title(\"Most Common Client Type where Contract was Approved\");\n",
        "\n",
        "# Plot of client type where contract was refused\n",
        "plt.subplot(1, 2, 2)\n",
        "plt.bar(list(range(4)), interesting_features['MODE(previous.NAME_CLIENT_TYPE WHERE NAME_CONTRACT_STATUS = Refused)'].value_counts())\n",
        "plt.xticks(list(range(4)), interesting_features['MODE(previous.NAME_CLIENT_TYPE WHERE NAME_CONTRACT_STATUS = Refused)'].value_counts().index);\n",
        "plt.xlabel(\"Client Type\"); plt.ylabel(\"Counts\");\n",
        "plt.title(\"Most Common Client Type where Contract was Refused\");"
      ],
      "execution_count": null,
      "outputs": []
    },
    {
      "metadata": {
        "trusted": true,
        "_uuid": "4fd988c21303fe69f4c1600e25a405c2710c8feb",
        "collapsed": true,
        "id": "chz1sRRp0PNn"
      },
      "cell_type": "code",
      "source": [
        "# Late Payment seed feature\n",
        "late_payment = ft.Feature(es['installments']['installments_due_date']) < ft.Feature(es['installments']['installments_paid_date'])\n",
        "\n",
        "# Rename the feature\n",
        "late_payment = late_payment.rename(\"late_payment\")\n",
        "\n",
        "# DFS with seed features\n",
        "seed_features, seed_feature_names = ft.dfs(entityset = es,\n",
        "                                           target_entity = 'app_train',\n",
        "                                           agg_primitives = ['percent_true', 'mean'],\n",
        "                                           trans_primitives = [],\n",
        "                                           seed_features = [late_payment],\n",
        "                                           features_only = False, verbose = True,\n",
        "                                           chunk_size = len(app_train),\n",
        "                                           ignore_entities = ['app_test'])"
      ],
      "execution_count": null,
      "outputs": []
    },
    {
      "metadata": {
        "trusted": true,
        "_uuid": "760ccd4de173c335d8e84ab08dc0c8368a0fa6aa",
        "collapsed": true,
        "id": "8qhySRBM0PNn"
      },
      "cell_type": "code",
      "source": [
        "seed_features.iloc[:, -2:].head(10)"
      ],
      "execution_count": null,
      "outputs": []
    },
    {
      "metadata": {
        "trusted": true,
        "_uuid": "ae77ed3b097b2bf5d836ee639e05175104d759ed",
        "collapsed": true,
        "id": "TpFHiK7F0PNo"
      },
      "cell_type": "code",
      "source": [
        "sns.kdeplot(seed_features['PERCENT_TRUE(installments.late_payment)'].dropna(), label = '')\n",
        "plt.xlabel('Late Installments'); plt.ylabel('Density'); plt.title('Late Installment Fraction by Client');"
      ],
      "execution_count": null,
      "outputs": []
    },
    {
      "metadata": {
        "_uuid": "439c977b2f542d46def4f7bb3032dcc96a20b540",
        "id": "9qvflMWk0PNo"
      },
      "cell_type": "markdown",
      "source": [
        "Another seed feature we can use is whether or not a previous loan at another institution was past due."
      ]
    },
    {
      "metadata": {
        "trusted": true,
        "collapsed": true,
        "_uuid": "fff2cdf330468b9f4e7511f25b3c07df301be3c0",
        "id": "AmTZsNsp0PNo"
      },
      "cell_type": "code",
      "source": [
        "# Create a feed representing whether the loan is past due\n",
        "past_due = ft.Feature(es['bureau_balance']['STATUS']).isin(['1', '2', '3', '4', '5'])\n",
        "past_due = past_due.rename(\"past_due\")"
      ],
      "execution_count": null,
      "outputs": []
    },
    {
      "metadata": {
        "trusted": true,
        "_uuid": "60367618d98a813537712c806fae7b328cffc066",
        "collapsed": true,
        "id": "8HvX2NUJ0PNo"
      },
      "cell_type": "code",
      "source": [
        "# DFS with specified seed feature\n",
        "seed_features, seed_feature_names = ft.dfs(entityset = es,\n",
        "                                           target_entity = 'app_train',\n",
        "                                           agg_primitives = ['percent_true', 'mean'],\n",
        "                                           trans_primitives = [],\n",
        "                                           seed_features = [past_due],\n",
        "                                           features_only = False, verbose = True,\n",
        "                                           chunk_size = len(app_train),\n",
        "                                           ignore_entities = ['app_test'])"
      ],
      "execution_count": null,
      "outputs": []
    },
    {
      "metadata": {
        "trusted": true,
        "collapsed": true,
        "_uuid": "2a009fb59aa0c5f262830f1c03407615a9179ba0",
        "id": "t0Q-rdRg0PNp"
      },
      "cell_type": "code",
      "source": [
        "from featuretools.variable_types import (\n",
        "    Boolean, Datetime,\n",
        "    DatetimeTimeIndex,\n",
        "    Discrete,\n",
        "    Index,\n",
        "    Numeric,\n",
        "    Variable,\n",
        "    Id\n",
        ")\n",
        "\n",
        "from featuretools.primitives import AggregationPrimitive, make_agg_primitive\n",
        "from datetime import datetime, timedelta\n",
        "\n",
        "from collections import Counter\n",
        "\n",
        "\n",
        "def normalized_mode_count(x):\n",
        "    \"\"\"\n",
        "    Return the fraction of total observations that\n",
        "    are the most common observation. For example,\n",
        "    in an array of ['A', 'A', 'A', 'B', 'B'], the\n",
        "    function will return 0.6.\"\"\"\n",
        "\n",
        "    if x.mode().shape[0] == 0:\n",
        "        return np.nan\n",
        "\n",
        "    # Count occurence of each value\n",
        "    counts = dict(Counter(x.values))\n",
        "    # Find the mode\n",
        "    mode = x.mode().iloc[0]\n",
        "    # Divide the occurences of mode by the total occurrences\n",
        "    return counts[mode] / np.sum(list(counts.values()))\n",
        "\n",
        "\n",
        "NormalizedModeCount = make_agg_primitive(function = normalized_mode_count,\n",
        "                                         input_types = [Discrete],\n",
        "                                         return_type = Numeric)\n",
        "\n",
        "# Function from https://codereview.stackexchange.com/a/15095\n",
        "def longest_repetition(x):\n",
        "    \"\"\"\n",
        "    Returns the item with most consecutive occurrences in `x`.\n",
        "    If there are multiple items with the same number of conseqcutive occurrences,\n",
        "    it will return the first one. If `x` is empty, returns None.\n",
        "    \"\"\"\n",
        "\n",
        "    x = x.dropna()\n",
        "\n",
        "    if x.shape[0] < 1:\n",
        "        return None\n",
        "\n",
        "    # Set the longest element\n",
        "    longest_element = current_element = None\n",
        "    longest_repeats = current_repeats = 0\n",
        "\n",
        "    # Iterate through the iterable\n",
        "    for element in x:\n",
        "        if current_element == element:\n",
        "            current_repeats += 1\n",
        "        else:\n",
        "            current_element = element\n",
        "            current_repeats = 1\n",
        "        if current_repeats > longest_repeats:\n",
        "            longest_repeats = current_repeats\n",
        "            longest_element = current_element\n",
        "\n",
        "    return longest_element\n",
        "\n",
        "LongestSeq = make_agg_primitive(function = longest_repetition,\n",
        "                                     input_types = [Discrete],\n",
        "                                     return_type = Discrete)"
      ],
      "execution_count": null,
      "outputs": []
    },
    {
      "metadata": {
        "trusted": true,
        "_uuid": "46e43561ec800ccdedb6247a8f11abe57a1db8c4",
        "collapsed": true,
        "id": "A7AoyK160PNp"
      },
      "cell_type": "code",
      "source": [
        "# DFS with custom features\n",
        "custom_features, custom_feature_names = ft.dfs(entityset = es,\n",
        "                                              target_entity = 'app_train',\n",
        "                                              agg_primitives = [NormalizedModeCount, LongestSeq],\n",
        "                                              max_depth = 2,\n",
        "                                              trans_primitives = [],\n",
        "                                              features_only = False, verbose = True,\n",
        "                                              chunk_size = len(app_train),\n",
        "                                              ignore_entities = ['app_test'])\n",
        "\n",
        "custom_features.iloc[:, -40:].head()"
      ],
      "execution_count": null,
      "outputs": []
    },
    {
      "metadata": {
        "trusted": true,
        "_uuid": "0a6afb90b7fc15165e3e04ad570b19f975cb505c",
        "collapsed": true,
        "id": "NFF9eZG_0PNp"
      },
      "cell_type": "code",
      "source": [
        "plt.figure(figsize = (8, 6))\n",
        "plt.bar(custom_features['LONGEST_REPETITION(previous.NAME_YIELD_GROUP)'].value_counts().index, custom_features['LONGEST_REPETITION(previous.NAME_YIELD_GROUP)'].value_counts(), edgecolor = 'k')\n",
        "plt.xlabel('NAME_YIELD_GROUP'); plt.ylabel('Counts'); plt.title('Longest Repetition of Previous Name Yield Group');"
      ],
      "execution_count": null,
      "outputs": []
    },
    {
      "metadata": {
        "trusted": true,
        "_uuid": "09ddb054fc5dcac31e0609bb8711c2d11e58f676",
        "collapsed": true,
        "id": "XgWQQHJS0PNq"
      },
      "cell_type": "code",
      "source": [
        "plt.figure(figsize = (8, 6))\n",
        "sns.kdeplot(custom_features['NORMALIZED_MODE_COUNT(previous.NAME_PRODUCT_TYPE)'], label = 'NORMALIZED_MODE_COUNT(previous.NAME_PRODUCT_TYPE)')\n",
        "sns.kdeplot(custom_features['NORMALIZED_MODE_COUNT(bureau.CREDIT_ACTIVE)'], label = 'NORMALIZED_MODE_COUNT(bureau.CREDIT_ACTIVE)')"
      ],
      "execution_count": null,
      "outputs": []
    },
    {
      "metadata": {
        "trusted": true,
        "collapsed": true,
        "_uuid": "2ac5ba95df7df570d19cf7ad252dfd519864839c",
        "id": "FXfm6Ovs0PNr"
      },
      "cell_type": "code",
      "source": [
        "# Building on the Trend Aggregation Primitive\n",
        "# Copied from https://github.com/Featuretools/featuretools/blob/master/featuretools/primitives/aggregation_primitives.py\n",
        "\n",
        "def most_recent(y, x):\n",
        "    df = pd.DataFrame({\"x\": x, \"y\": y}).dropna()\n",
        "\n",
        "    if df.shape[0] < 1:\n",
        "        return np.nan\n",
        "\n",
        "    # Sort the values by timestamps reversed\n",
        "    df = df.sort_values('x', ascending = False).reset_index()\n",
        "\n",
        "    # Return the most recent occurence\n",
        "    return df.iloc[0]['y']\n",
        "\n",
        "MostRecent = make_agg_primitive(function = most_recent,\n",
        "                                input_types = [Discrete, Datetime],\n",
        "                                return_type = Discrete)"
      ],
      "execution_count": null,
      "outputs": []
    },
    {
      "metadata": {
        "trusted": true,
        "_uuid": "e4756022bd4b85a1151afd0435ca0331ed2ef33d",
        "collapsed": true,
        "id": "HJpdLnTI0PNr"
      },
      "cell_type": "code",
      "source": [
        "# DFS with custom feature\n",
        "custom_features, custom_feature_names = ft.dfs(entityset = es,\n",
        "                                              target_entity = 'app_train',\n",
        "                                              agg_primitives = ['last', MostRecent],\n",
        "                                               max_depth = 1,\n",
        "                                              trans_primitives = [],\n",
        "                                              features_only = False, verbose = True,\n",
        "                                              chunk_size = len(app_train),\n",
        "                                              ignore_entities = ['app_test'])"
      ],
      "execution_count": null,
      "outputs": []
    },
    {
      "metadata": {
        "trusted": true,
        "_uuid": "c637391cbc2056d352ec2e8a5a02ecee878818dd",
        "collapsed": true,
        "id": "Kf9ixl-40PNs"
      },
      "cell_type": "code",
      "source": [
        "custom_features[['MOST_RECENT(bureau.CREDIT_TYPE, bureau_credit_end_date)', 'MOST_RECENT(bureau.CREDIT_TYPE, bureau_credit_application_date)']].head(10)"
      ],
      "execution_count": null,
      "outputs": []
    },
    {
      "metadata": {
        "trusted": true,
        "_uuid": "f4edb8a7c70aba9323019bea6a255d158045c067",
        "collapsed": true,
        "id": "Jdlc0xAi0PNs"
      },
      "cell_type": "code",
      "source": [
        "# Run and create the features\n",
        "feature_matrix, feature_names = ft.dfs(entityset = es, target_entity = 'app_train',\n",
        "                                       agg_primitives = ['mean', 'max', 'min', 'trend', 'mode', 'count',\n",
        "                                                         'sum', 'percent_true', NormalizedModeCount, MostRecent, LongestSeq],\n",
        "                                       trans_primitives = ['diff', 'cum_sum', 'cum_mean', 'percentile'],\n",
        "                                       where_primitives = ['mean', 'sum'],\n",
        "                                       seed_features = [late_payment, past_due],\n",
        "                                       max_depth = 2, features_only = False, verbose = True,\n",
        "                                       chunk_size = len(app_train),\n",
        "                                       ignore_entities = ['app_test'])"
      ],
      "execution_count": null,
      "outputs": []
    },
    {
      "metadata": {
        "trusted": true,
        "_uuid": "2b51c4617e9009358798ecfe13bf95cf0387d1f1",
        "collapsed": true,
        "id": "LELv7cz00PNt"
      },
      "cell_type": "code",
      "source": [
        "# Run and create the features\n",
        "feature_matrix_test, feature_names_test = ft.dfs(entityset = es, target_entity = 'app_test',\n",
        "                                                   agg_primitives = ['mean', 'max', 'min', 'trend', 'mode', 'count',\n",
        "                                                                     'sum', 'percent_true', NormalizedModeCount, MostRecent, LongestSeq],\n",
        "                                                   trans_primitives = ['diff', 'cum_sum', 'cum_mean', 'percentile'],\n",
        "                                                   where_primitives = ['mean', 'sum'],\n",
        "                                                   seed_features = [late_payment, past_due],\n",
        "                                                   max_depth = 2, features_only = False, verbose = True,\n",
        "                                                   chunk_size = len(app_test),\n",
        "                                                   ignore_entities = ['app_train'])"
      ],
      "execution_count": null,
      "outputs": []
    },
    {
      "metadata": {
        "trusted": true,
        "_uuid": "8a16d772dcc6d9e4481fcc219ccc3998d22c9818",
        "collapsed": true,
        "id": "iEpwkFOA0PNt"
      },
      "cell_type": "code",
      "source": [
        "import random\n",
        "random.sample(feature_names, 10)"
      ],
      "execution_count": null,
      "outputs": []
    },
    {
      "metadata": {
        "trusted": true,
        "_uuid": "0a90aacdfad1fed581583ad5fb8d08d0a90fd56b",
        "collapsed": true,
        "id": "vj6p7UGS0PNt"
      },
      "cell_type": "code",
      "source": [
        "from featuretools import selection\n",
        "\n",
        "# Remove low information features\n",
        "feature_matrix2 = selection.remove_low_information_features(feature_matrix)\n",
        "print('Removed %d features from training features'  % (feature_matrix.shape[1] - feature_matrix2.shape[1]))\n",
        "\n",
        "feature_matrix_test2 = selection.remove_low_information_features(feature_matrix_test)\n",
        "print('Removed %d features from testing features' % (feature_matrix_test.shape[1] - feature_matrix_test2.shape[1]))"
      ],
      "execution_count": null,
      "outputs": []
    },
    {
      "metadata": {
        "trusted": true,
        "_uuid": "5baa26e49ad61ff3b534fc35cda8f936f9ebcce0",
        "collapsed": true,
        "id": "VDraOiuz0PNu"
      },
      "cell_type": "code",
      "source": [
        "train_labels = feature_matrix['TARGET']\n",
        "feature_matrix, feature_matrix_test = feature_matrix2.align(feature_matrix_test2, join = 'inner', axis = 1)\n",
        "feature_matrix['TARGET'] = train_labels\n",
        "\n",
        "print('Final training shape: ', feature_matrix.shape)\n",
        "print('Final testing shape: ', feature_matrix_test.shape)"
      ],
      "execution_count": null,
      "outputs": []
    },
    {
      "metadata": {
        "trusted": true,
        "collapsed": true,
        "_uuid": "924b3135a6c0e3b3b0874725bfe14584f8b5323d",
        "id": "EDI3RJ1i0PNu"
      },
      "cell_type": "code",
      "source": [
        "# Save the feature matrix to a csv\n",
        "feature_matrix.to_csv('feature_matrix.csv')\n",
        "feature_matrix_test.to_csv('feature_matrix_test.csv')"
      ],
      "execution_count": null,
      "outputs": []
    }
  ],
  "metadata": {
    "kernelspec": {
      "display_name": "Python 3",
      "language": "python",
      "name": "python3"
    },
    "language_info": {
      "name": "python",
      "version": "3.6.5",
      "mimetype": "text/x-python",
      "codemirror_mode": {
        "name": "ipython",
        "version": 3
      },
      "pygments_lexer": "ipython3",
      "nbconvert_exporter": "python",
      "file_extension": ".py"
    },
    "colab": {
      "provenance": []
    }
  },
  "nbformat": 4,
  "nbformat_minor": 0
}