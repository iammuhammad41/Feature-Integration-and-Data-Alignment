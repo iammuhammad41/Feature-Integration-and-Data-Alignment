{
 "cells": [
  {
   "cell_type": "code",
   "execution_count": 1,
   "id": "d14dd76a",
   "metadata": {
    "_cell_guid": "b1076dfc-b9ad-4769-8c92-a6c4dae69d19",
    "_kg_hide-input": true,
    "_uuid": "8f2839f25d086af736a60e9eeb907d3b93b6e0e5",
    "execution": {
     "iopub.execute_input": "2023-05-10T06:28:24.460637Z",
     "iopub.status.busy": "2023-05-10T06:28:24.459668Z",
     "iopub.status.idle": "2023-05-10T06:28:26.117829Z",
     "shell.execute_reply": "2023-05-10T06:28:26.118496Z",
     "shell.execute_reply.started": "2023-05-10T06:13:49.369861Z"
    },
    "papermill": {
     "duration": 1.725221,
     "end_time": "2023-05-10T06:28:26.118860",
     "exception": false,
     "start_time": "2023-05-10T06:28:24.393639",
     "status": "completed"
    },
    "tags": []
   },
   "outputs": [],
   "source": [
    "''' Additional Functions '''\n",
    "import numpy as np # linear algebra\n",
    "import pandas as pd # data processing, CSV file I/O (e.g. pd.read_csv)\n",
    "import itertools\n",
    "from itertools import islice\n",
    "from re import sub, search\n",
    "import plotly.express as px\n",
    "import plotly.graph_objects as go\n",
    "from collections import Counter\n",
    "import os\n",
    "\n",
    "# nicer print variant\n",
    "def pprint(dlist):\n",
    "    ldf = pd.DataFrame(dlist)\n",
    "    display(ldf)"
   ]
  },
  {
   "cell_type": "code",
   "execution_count": 2,
   "id": "160cd219",
   "metadata": {
    "execution": {
     "iopub.execute_input": "2023-05-10T06:28:26.225690Z",
     "iopub.status.busy": "2023-05-10T06:28:26.224849Z",
     "iopub.status.idle": "2023-05-10T06:28:38.767615Z",
     "shell.execute_reply": "2023-05-10T06:28:38.766946Z",
     "shell.execute_reply.started": "2023-05-10T06:13:49.381464Z"
    },
    "papermill": {
     "duration": 12.59709,
     "end_time": "2023-05-10T06:28:38.767799",
     "exception": false,
     "start_time": "2023-05-10T06:28:26.170709",
     "status": "completed"
    },
    "tags": []
   },
   "outputs": [
    {
     "name": "stdout",
     "output_type": "stream",
     "text": [
      "Processing /kaggle/input/biopylib/biopylib-0.0.7-py3-none-any.whl\r\n",
      "Installing collected packages: biopylib\r\n",
      "Successfully installed biopylib-0.0.7\r\n",
      "\u001b[33mWARNING: Running pip as the 'root' user can result in broken permissions and conflicting behaviour with the system package manager. It is recommended to use a virtual environment instead: https://pip.pypa.io/warnings/venv\u001b[0m\r\n"
     ]
    }
   ],
   "source": [
    "!pip install /kaggle/input/biopylib/biopylib-0.0.7-py3-none-any.whl"
   ]
  },
  {
   "cell_type": "code",
   "execution_count": 3,
   "id": "b2887814",
   "metadata": {
    "execution": {
     "iopub.execute_input": "2023-05-10T06:28:38.877563Z",
     "iopub.status.busy": "2023-05-10T06:28:38.876382Z",
     "iopub.status.idle": "2023-05-10T06:28:41.408574Z",
     "shell.execute_reply": "2023-05-10T06:28:41.407881Z",
     "shell.execute_reply.started": "2023-05-10T06:14:00.086353Z"
    },
    "papermill": {
     "duration": 2.590064,
     "end_time": "2023-05-10T06:28:41.408749",
     "exception": false,
     "start_time": "2023-05-10T06:28:38.818685",
     "status": "completed"
    },
    "tags": []
   },
   "outputs": [
    {
     "data": {
      "application/javascript": [
       "\n",
       "(function(root) {\n",
       "  function now() {\n",
       "    return new Date();\n",
       "  }\n",
       "\n",
       "  var force = true;\n",
       "\n",
       "  if (typeof root._bokeh_onload_callbacks === \"undefined\" || force === true) {\n",
       "    root._bokeh_onload_callbacks = [];\n",
       "    root._bokeh_is_loading = undefined;\n",
       "  }\n",
       "\n",
       "  if (typeof (root._bokeh_timeout) === \"undefined\" || force === true) {\n",
       "    root._bokeh_timeout = Date.now() + 5000;\n",
       "    root._bokeh_failed_load = false;\n",
       "  }\n",
       "\n",
       "  function run_callbacks() {\n",
       "    try {\n",
       "      root._bokeh_onload_callbacks.forEach(function(callback) {\n",
       "        if (callback != null)\n",
       "          callback();\n",
       "      });\n",
       "    } finally {\n",
       "      delete root._bokeh_onload_callbacks\n",
       "    }\n",
       "    console.debug(\"Bokeh: all callbacks have finished\");\n",
       "  }\n",
       "\n",
       "  function load_libs(css_urls, js_urls, js_modules, callback) {\n",
       "    if (css_urls == null) css_urls = [];\n",
       "    if (js_urls == null) js_urls = [];\n",
       "    if (js_modules == null) js_modules = [];\n",
       "\n",
       "    root._bokeh_onload_callbacks.push(callback);\n",
       "    if (root._bokeh_is_loading > 0) {\n",
       "      console.debug(\"Bokeh: BokehJS is being loaded, scheduling callback at\", now());\n",
       "      return null;\n",
       "    }\n",
       "    if (js_urls.length === 0 && js_modules.length === 0) {\n",
       "      run_callbacks();\n",
       "      return null;\n",
       "    }\n",
       "    console.debug(\"Bokeh: BokehJS not loaded, scheduling load and callback at\", now());\n",
       "    root._bokeh_is_loading = css_urls.length + js_urls.length + js_modules.length;\n",
       "\n",
       "    function on_load() {\n",
       "      root._bokeh_is_loading--;\n",
       "      if (root._bokeh_is_loading === 0) {\n",
       "        console.debug(\"Bokeh: all BokehJS libraries/stylesheets loaded\");\n",
       "        run_callbacks()\n",
       "      }\n",
       "    }\n",
       "\n",
       "    function on_error() {\n",
       "      console.error(\"failed to load \" + url);\n",
       "    }\n",
       "\n",
       "    for (var i = 0; i < css_urls.length; i++) {\n",
       "      var url = css_urls[i];\n",
       "      const element = document.createElement(\"link\");\n",
       "      element.onload = on_load;\n",
       "      element.onerror = on_error;\n",
       "      element.rel = \"stylesheet\";\n",
       "      element.type = \"text/css\";\n",
       "      element.href = url;\n",
       "      console.debug(\"Bokeh: injecting link tag for BokehJS stylesheet: \", url);\n",
       "      document.body.appendChild(element);\n",
       "    }\n",
       "\n",
       "    var skip = [];\n",
       "    if (window.requirejs) {\n",
       "      window.requirejs.config({'packages': {}, 'paths': {}, 'shim': {}});\n",
       "      \n",
       "    }\n",
       "    for (var i = 0; i < js_urls.length; i++) {\n",
       "      var url = js_urls[i];\n",
       "      if (skip.indexOf(url) >= 0) { on_load(); continue; }\n",
       "      var element = document.createElement('script');\n",
       "      element.onload = on_load;\n",
       "      element.onerror = on_error;\n",
       "      element.async = false;\n",
       "      element.src = url;\n",
       "      console.debug(\"Bokeh: injecting script tag for BokehJS library: \", url);\n",
       "      document.head.appendChild(element);\n",
       "    }\n",
       "    for (var i = 0; i < js_modules.length; i++) {\n",
       "      var url = js_modules[i];\n",
       "      if (skip.indexOf(url) >= 0) { on_load(); continue; }\n",
       "      var element = document.createElement('script');\n",
       "      element.onload = on_load;\n",
       "      element.onerror = on_error;\n",
       "      element.async = false;\n",
       "      element.src = url;\n",
       "      element.type = \"module\";\n",
       "      console.debug(\"Bokeh: injecting script tag for BokehJS library: \", url);\n",
       "      document.head.appendChild(element);\n",
       "    }\n",
       "    if (!js_urls.length && !js_modules.length) {\n",
       "      on_load()\n",
       "    }\n",
       "  };\n",
       "\n",
       "  function inject_raw_css(css) {\n",
       "    const element = document.createElement(\"style\");\n",
       "    element.appendChild(document.createTextNode(css));\n",
       "    document.body.appendChild(element);\n",
       "  }\n",
       "\n",
       "  var js_urls = [\"https://cdn.bokeh.org/bokeh/release/bokeh-2.4.0.min.js\", \"https://cdn.bokeh.org/bokeh/release/bokeh-gl-2.4.0.min.js\", \"https://cdn.bokeh.org/bokeh/release/bokeh-widgets-2.4.0.min.js\", \"https://cdn.bokeh.org/bokeh/release/bokeh-tables-2.4.0.min.js\", \"https://cdn.bokeh.org/bokeh/release/bokeh-mathjax-2.4.0.min.js\", \"https://unpkg.com/@holoviz/panel@0.12.4/dist/panel.min.js\"];\n",
       "  var js_modules = [];\n",
       "  var css_urls = [\"https://unpkg.com/@holoviz/panel@0.12.4/dist/css/loading.css\", \"https://unpkg.com/@holoviz/panel@0.12.4/dist/css/markdown.css\", \"https://unpkg.com/@holoviz/panel@0.12.4/dist/css/alerts.css\", \"https://unpkg.com/@holoviz/panel@0.12.4/dist/css/json.css\", \"https://unpkg.com/@holoviz/panel@0.12.4/dist/css/widgets.css\", \"https://unpkg.com/@holoviz/panel@0.12.4/dist/css/card.css\", \"https://unpkg.com/@holoviz/panel@0.12.4/dist/css/dataframe.css\"];\n",
       "  var inline_js = [\n",
       "    function(Bokeh) {\n",
       "      inject_raw_css(\"\\n    .bk.pn-loading.arcs:before {\\n      background-image: url(\\\"data:image/svg+xml;base64,PHN2ZyB4bWxucz0iaHR0cDovL3d3dy53My5vcmcvMjAwMC9zdmciIHhtbG5zOnhsaW5rPSJodHRwOi8vd3d3LnczLm9yZy8xOTk5L3hsaW5rIiBzdHlsZT0ibWFyZ2luOiBhdXRvOyBiYWNrZ3JvdW5kOiBub25lOyBkaXNwbGF5OiBibG9jazsgc2hhcGUtcmVuZGVyaW5nOiBhdXRvOyIgdmlld0JveD0iMCAwIDEwMCAxMDAiIHByZXNlcnZlQXNwZWN0UmF0aW89InhNaWRZTWlkIj4gIDxjaXJjbGUgY3g9IjUwIiBjeT0iNTAiIHI9IjMyIiBzdHJva2Utd2lkdGg9IjgiIHN0cm9rZT0iI2MzYzNjMyIgc3Ryb2tlLWRhc2hhcnJheT0iNTAuMjY1NDgyNDU3NDM2NjkgNTAuMjY1NDgyNDU3NDM2NjkiIGZpbGw9Im5vbmUiIHN0cm9rZS1saW5lY2FwPSJyb3VuZCI+ICAgIDxhbmltYXRlVHJhbnNmb3JtIGF0dHJpYnV0ZU5hbWU9InRyYW5zZm9ybSIgdHlwZT0icm90YXRlIiByZXBlYXRDb3VudD0iaW5kZWZpbml0ZSIgZHVyPSIxcyIga2V5VGltZXM9IjA7MSIgdmFsdWVzPSIwIDUwIDUwOzM2MCA1MCA1MCI+PC9hbmltYXRlVHJhbnNmb3JtPiAgPC9jaXJjbGU+PC9zdmc+\\\")\\n    }\\n    \");\n",
       "    },\n",
       "    function(Bokeh) {\n",
       "      Bokeh.set_log_level(\"info\");\n",
       "    },\n",
       "    function(Bokeh) {} // ensure no trailing comma for IE\n",
       "  ];\n",
       "\n",
       "  function run_inline_js() {\n",
       "    if ((root.Bokeh !== undefined) || (force === true)) {\n",
       "      for (var i = 0; i < inline_js.length; i++) {\n",
       "        inline_js[i].call(root, root.Bokeh);\n",
       "      }} else if (Date.now() < root._bokeh_timeout) {\n",
       "      setTimeout(run_inline_js, 100);\n",
       "    } else if (!root._bokeh_failed_load) {\n",
       "      console.log(\"Bokeh: BokehJS failed to load within specified timeout.\");\n",
       "      root._bokeh_failed_load = true;\n",
       "    }\n",
       "  }\n",
       "\n",
       "  if (root._bokeh_is_loading === 0) {\n",
       "    console.debug(\"Bokeh: BokehJS loaded, going straight to plotting\");\n",
       "    run_inline_js();\n",
       "  } else {\n",
       "    load_libs(css_urls, js_urls, js_modules, function() {\n",
       "      console.debug(\"Bokeh: BokehJS plotting callback run at\", now());\n",
       "      run_inline_js();\n",
       "    });\n",
       "  }\n",
       "}(window));"
      ],
      "application/vnd.holoviews_load.v0+json": "\n(function(root) {\n  function now() {\n    return new Date();\n  }\n\n  var force = true;\n\n  if (typeof root._bokeh_onload_callbacks === \"undefined\" || force === true) {\n    root._bokeh_onload_callbacks = [];\n    root._bokeh_is_loading = undefined;\n  }\n\n  if (typeof (root._bokeh_timeout) === \"undefined\" || force === true) {\n    root._bokeh_timeout = Date.now() + 5000;\n    root._bokeh_failed_load = false;\n  }\n\n  function run_callbacks() {\n    try {\n      root._bokeh_onload_callbacks.forEach(function(callback) {\n        if (callback != null)\n          callback();\n      });\n    } finally {\n      delete root._bokeh_onload_callbacks\n    }\n    console.debug(\"Bokeh: all callbacks have finished\");\n  }\n\n  function load_libs(css_urls, js_urls, js_modules, callback) {\n    if (css_urls == null) css_urls = [];\n    if (js_urls == null) js_urls = [];\n    if (js_modules == null) js_modules = [];\n\n    root._bokeh_onload_callbacks.push(callback);\n    if (root._bokeh_is_loading > 0) {\n      console.debug(\"Bokeh: BokehJS is being loaded, scheduling callback at\", now());\n      return null;\n    }\n    if (js_urls.length === 0 && js_modules.length === 0) {\n      run_callbacks();\n      return null;\n    }\n    console.debug(\"Bokeh: BokehJS not loaded, scheduling load and callback at\", now());\n    root._bokeh_is_loading = css_urls.length + js_urls.length + js_modules.length;\n\n    function on_load() {\n      root._bokeh_is_loading--;\n      if (root._bokeh_is_loading === 0) {\n        console.debug(\"Bokeh: all BokehJS libraries/stylesheets loaded\");\n        run_callbacks()\n      }\n    }\n\n    function on_error() {\n      console.error(\"failed to load \" + url);\n    }\n\n    for (var i = 0; i < css_urls.length; i++) {\n      var url = css_urls[i];\n      const element = document.createElement(\"link\");\n      element.onload = on_load;\n      element.onerror = on_error;\n      element.rel = \"stylesheet\";\n      element.type = \"text/css\";\n      element.href = url;\n      console.debug(\"Bokeh: injecting link tag for BokehJS stylesheet: \", url);\n      document.body.appendChild(element);\n    }\n\n    var skip = [];\n    if (window.requirejs) {\n      window.requirejs.config({'packages': {}, 'paths': {}, 'shim': {}});\n      \n    }\n    for (var i = 0; i < js_urls.length; i++) {\n      var url = js_urls[i];\n      if (skip.indexOf(url) >= 0) { on_load(); continue; }\n      var element = document.createElement('script');\n      element.onload = on_load;\n      element.onerror = on_error;\n      element.async = false;\n      element.src = url;\n      console.debug(\"Bokeh: injecting script tag for BokehJS library: \", url);\n      document.head.appendChild(element);\n    }\n    for (var i = 0; i < js_modules.length; i++) {\n      var url = js_modules[i];\n      if (skip.indexOf(url) >= 0) { on_load(); continue; }\n      var element = document.createElement('script');\n      element.onload = on_load;\n      element.onerror = on_error;\n      element.async = false;\n      element.src = url;\n      element.type = \"module\";\n      console.debug(\"Bokeh: injecting script tag for BokehJS library: \", url);\n      document.head.appendChild(element);\n    }\n    if (!js_urls.length && !js_modules.length) {\n      on_load()\n    }\n  };\n\n  function inject_raw_css(css) {\n    const element = document.createElement(\"style\");\n    element.appendChild(document.createTextNode(css));\n    document.body.appendChild(element);\n  }\n\n  var js_urls = [\"https://cdn.bokeh.org/bokeh/release/bokeh-2.4.0.min.js\", \"https://cdn.bokeh.org/bokeh/release/bokeh-gl-2.4.0.min.js\", \"https://cdn.bokeh.org/bokeh/release/bokeh-widgets-2.4.0.min.js\", \"https://cdn.bokeh.org/bokeh/release/bokeh-tables-2.4.0.min.js\", \"https://cdn.bokeh.org/bokeh/release/bokeh-mathjax-2.4.0.min.js\", \"https://unpkg.com/@holoviz/panel@0.12.4/dist/panel.min.js\"];\n  var js_modules = [];\n  var css_urls = [\"https://unpkg.com/@holoviz/panel@0.12.4/dist/css/loading.css\", \"https://unpkg.com/@holoviz/panel@0.12.4/dist/css/markdown.css\", \"https://unpkg.com/@holoviz/panel@0.12.4/dist/css/alerts.css\", \"https://unpkg.com/@holoviz/panel@0.12.4/dist/css/json.css\", \"https://unpkg.com/@holoviz/panel@0.12.4/dist/css/widgets.css\", \"https://unpkg.com/@holoviz/panel@0.12.4/dist/css/card.css\", \"https://unpkg.com/@holoviz/panel@0.12.4/dist/css/dataframe.css\"];\n  var inline_js = [\n    function(Bokeh) {\n      inject_raw_css(\"\\n    .bk.pn-loading.arcs:before {\\n      background-image: url(\\\"data:image/svg+xml;base64,PHN2ZyB4bWxucz0iaHR0cDovL3d3dy53My5vcmcvMjAwMC9zdmciIHhtbG5zOnhsaW5rPSJodHRwOi8vd3d3LnczLm9yZy8xOTk5L3hsaW5rIiBzdHlsZT0ibWFyZ2luOiBhdXRvOyBiYWNrZ3JvdW5kOiBub25lOyBkaXNwbGF5OiBibG9jazsgc2hhcGUtcmVuZGVyaW5nOiBhdXRvOyIgdmlld0JveD0iMCAwIDEwMCAxMDAiIHByZXNlcnZlQXNwZWN0UmF0aW89InhNaWRZTWlkIj4gIDxjaXJjbGUgY3g9IjUwIiBjeT0iNTAiIHI9IjMyIiBzdHJva2Utd2lkdGg9IjgiIHN0cm9rZT0iI2MzYzNjMyIgc3Ryb2tlLWRhc2hhcnJheT0iNTAuMjY1NDgyNDU3NDM2NjkgNTAuMjY1NDgyNDU3NDM2NjkiIGZpbGw9Im5vbmUiIHN0cm9rZS1saW5lY2FwPSJyb3VuZCI+ICAgIDxhbmltYXRlVHJhbnNmb3JtIGF0dHJpYnV0ZU5hbWU9InRyYW5zZm9ybSIgdHlwZT0icm90YXRlIiByZXBlYXRDb3VudD0iaW5kZWZpbml0ZSIgZHVyPSIxcyIga2V5VGltZXM9IjA7MSIgdmFsdWVzPSIwIDUwIDUwOzM2MCA1MCA1MCI+PC9hbmltYXRlVHJhbnNmb3JtPiAgPC9jaXJjbGU+PC9zdmc+\\\")\\n    }\\n    \");\n    },\n    function(Bokeh) {\n      Bokeh.set_log_level(\"info\");\n    },\n    function(Bokeh) {} // ensure no trailing comma for IE\n  ];\n\n  function run_inline_js() {\n    if ((root.Bokeh !== undefined) || (force === true)) {\n      for (var i = 0; i < inline_js.length; i++) {\n        inline_js[i].call(root, root.Bokeh);\n      }} else if (Date.now() < root._bokeh_timeout) {\n      setTimeout(run_inline_js, 100);\n    } else if (!root._bokeh_failed_load) {\n      console.log(\"Bokeh: BokehJS failed to load within specified timeout.\");\n      root._bokeh_failed_load = true;\n    }\n  }\n\n  if (root._bokeh_is_loading === 0) {\n    console.debug(\"Bokeh: BokehJS loaded, going straight to plotting\");\n    run_inline_js();\n  } else {\n    load_libs(css_urls, js_urls, js_modules, function() {\n      console.debug(\"Bokeh: BokehJS plotting callback run at\", now());\n      run_inline_js();\n    });\n  }\n}(window));"
     },
     "metadata": {},
     "output_type": "display_data"
    },
    {
     "data": {
      "application/javascript": [
       "\n",
       "if ((window.PyViz === undefined) || (window.PyViz instanceof HTMLElement)) {\n",
       "  window.PyViz = {comms: {}, comm_status:{}, kernels:{}, receivers: {}, plot_index: []}\n",
       "}\n",
       "\n",
       "\n",
       "    function JupyterCommManager() {\n",
       "    }\n",
       "\n",
       "    JupyterCommManager.prototype.register_target = function(plot_id, comm_id, msg_handler) {\n",
       "      if (window.comm_manager || ((window.Jupyter !== undefined) && (Jupyter.notebook.kernel != null))) {\n",
       "        var comm_manager = window.comm_manager || Jupyter.notebook.kernel.comm_manager;\n",
       "        comm_manager.register_target(comm_id, function(comm) {\n",
       "          comm.on_msg(msg_handler);\n",
       "        });\n",
       "      } else if ((plot_id in window.PyViz.kernels) && (window.PyViz.kernels[plot_id])) {\n",
       "        window.PyViz.kernels[plot_id].registerCommTarget(comm_id, function(comm) {\n",
       "          comm.onMsg = msg_handler;\n",
       "        });\n",
       "      } else if (typeof google != 'undefined' && google.colab.kernel != null) {\n",
       "        google.colab.kernel.comms.registerTarget(comm_id, (comm) => {\n",
       "          var messages = comm.messages[Symbol.asyncIterator]();\n",
       "          function processIteratorResult(result) {\n",
       "            var message = result.value;\n",
       "            console.log(message)\n",
       "            var content = {data: message.data, comm_id};\n",
       "            var buffers = []\n",
       "            for (var buffer of message.buffers || []) {\n",
       "              buffers.push(new DataView(buffer))\n",
       "            }\n",
       "            var metadata = message.metadata || {};\n",
       "            var msg = {content, buffers, metadata}\n",
       "            msg_handler(msg);\n",
       "            return messages.next().then(processIteratorResult);\n",
       "          }\n",
       "          return messages.next().then(processIteratorResult);\n",
       "        })\n",
       "      }\n",
       "    }\n",
       "\n",
       "    JupyterCommManager.prototype.get_client_comm = function(plot_id, comm_id, msg_handler) {\n",
       "      if (comm_id in window.PyViz.comms) {\n",
       "        return window.PyViz.comms[comm_id];\n",
       "      } else if (window.comm_manager || ((window.Jupyter !== undefined) && (Jupyter.notebook.kernel != null))) {\n",
       "        var comm_manager = window.comm_manager || Jupyter.notebook.kernel.comm_manager;\n",
       "        var comm = comm_manager.new_comm(comm_id, {}, {}, {}, comm_id);\n",
       "        if (msg_handler) {\n",
       "          comm.on_msg(msg_handler);\n",
       "        }\n",
       "      } else if ((plot_id in window.PyViz.kernels) && (window.PyViz.kernels[plot_id])) {\n",
       "        var comm = window.PyViz.kernels[plot_id].connectToComm(comm_id);\n",
       "        comm.open();\n",
       "        if (msg_handler) {\n",
       "          comm.onMsg = msg_handler;\n",
       "        }\n",
       "      } else if (typeof google != 'undefined' && google.colab.kernel != null) {\n",
       "        var comm_promise = google.colab.kernel.comms.open(comm_id)\n",
       "        comm_promise.then((comm) => {\n",
       "          window.PyViz.comms[comm_id] = comm;\n",
       "          if (msg_handler) {\n",
       "            var messages = comm.messages[Symbol.asyncIterator]();\n",
       "            function processIteratorResult(result) {\n",
       "              var message = result.value;\n",
       "              var content = {data: message.data};\n",
       "              var metadata = message.metadata || {comm_id};\n",
       "              var msg = {content, metadata}\n",
       "              msg_handler(msg);\n",
       "              return messages.next().then(processIteratorResult);\n",
       "            }\n",
       "            return messages.next().then(processIteratorResult);\n",
       "          }\n",
       "        }) \n",
       "        var sendClosure = (data, metadata, buffers, disposeOnDone) => {\n",
       "          return comm_promise.then((comm) => {\n",
       "            comm.send(data, metadata, buffers, disposeOnDone);\n",
       "          });\n",
       "        };\n",
       "        var comm = {\n",
       "          send: sendClosure\n",
       "        };\n",
       "      }\n",
       "      window.PyViz.comms[comm_id] = comm;\n",
       "      return comm;\n",
       "    }\n",
       "    window.PyViz.comm_manager = new JupyterCommManager();\n",
       "    \n",
       "\n",
       "\n",
       "var JS_MIME_TYPE = 'application/javascript';\n",
       "var HTML_MIME_TYPE = 'text/html';\n",
       "var EXEC_MIME_TYPE = 'application/vnd.holoviews_exec.v0+json';\n",
       "var CLASS_NAME = 'output';\n",
       "\n",
       "/**\n",
       " * Render data to the DOM node\n",
       " */\n",
       "function render(props, node) {\n",
       "  var div = document.createElement(\"div\");\n",
       "  var script = document.createElement(\"script\");\n",
       "  node.appendChild(div);\n",
       "  node.appendChild(script);\n",
       "}\n",
       "\n",
       "/**\n",
       " * Handle when a new output is added\n",
       " */\n",
       "function handle_add_output(event, handle) {\n",
       "  var output_area = handle.output_area;\n",
       "  var output = handle.output;\n",
       "  if ((output.data == undefined) || (!output.data.hasOwnProperty(EXEC_MIME_TYPE))) {\n",
       "    return\n",
       "  }\n",
       "  var id = output.metadata[EXEC_MIME_TYPE][\"id\"];\n",
       "  var toinsert = output_area.element.find(\".\" + CLASS_NAME.split(' ')[0]);\n",
       "  if (id !== undefined) {\n",
       "    var nchildren = toinsert.length;\n",
       "    var html_node = toinsert[nchildren-1].children[0];\n",
       "    html_node.innerHTML = output.data[HTML_MIME_TYPE];\n",
       "    var scripts = [];\n",
       "    var nodelist = html_node.querySelectorAll(\"script\");\n",
       "    for (var i in nodelist) {\n",
       "      if (nodelist.hasOwnProperty(i)) {\n",
       "        scripts.push(nodelist[i])\n",
       "      }\n",
       "    }\n",
       "\n",
       "    scripts.forEach( function (oldScript) {\n",
       "      var newScript = document.createElement(\"script\");\n",
       "      var attrs = [];\n",
       "      var nodemap = oldScript.attributes;\n",
       "      for (var j in nodemap) {\n",
       "        if (nodemap.hasOwnProperty(j)) {\n",
       "          attrs.push(nodemap[j])\n",
       "        }\n",
       "      }\n",
       "      attrs.forEach(function(attr) { newScript.setAttribute(attr.name, attr.value) });\n",
       "      newScript.appendChild(document.createTextNode(oldScript.innerHTML));\n",
       "      oldScript.parentNode.replaceChild(newScript, oldScript);\n",
       "    });\n",
       "    if (JS_MIME_TYPE in output.data) {\n",
       "      toinsert[nchildren-1].children[1].textContent = output.data[JS_MIME_TYPE];\n",
       "    }\n",
       "    output_area._hv_plot_id = id;\n",
       "    if ((window.Bokeh !== undefined) && (id in Bokeh.index)) {\n",
       "      window.PyViz.plot_index[id] = Bokeh.index[id];\n",
       "    } else {\n",
       "      window.PyViz.plot_index[id] = null;\n",
       "    }\n",
       "  } else if (output.metadata[EXEC_MIME_TYPE][\"server_id\"] !== undefined) {\n",
       "    var bk_div = document.createElement(\"div\");\n",
       "    bk_div.innerHTML = output.data[HTML_MIME_TYPE];\n",
       "    var script_attrs = bk_div.children[0].attributes;\n",
       "    for (var i = 0; i < script_attrs.length; i++) {\n",
       "      toinsert[toinsert.length - 1].childNodes[1].setAttribute(script_attrs[i].name, script_attrs[i].value);\n",
       "    }\n",
       "    // store reference to server id on output_area\n",
       "    output_area._bokeh_server_id = output.metadata[EXEC_MIME_TYPE][\"server_id\"];\n",
       "  }\n",
       "}\n",
       "\n",
       "/**\n",
       " * Handle when an output is cleared or removed\n",
       " */\n",
       "function handle_clear_output(event, handle) {\n",
       "  var id = handle.cell.output_area._hv_plot_id;\n",
       "  var server_id = handle.cell.output_area._bokeh_server_id;\n",
       "  if (((id === undefined) || !(id in PyViz.plot_index)) && (server_id !== undefined)) { return; }\n",
       "  var comm = window.PyViz.comm_manager.get_client_comm(\"hv-extension-comm\", \"hv-extension-comm\", function () {});\n",
       "  if (server_id !== null) {\n",
       "    comm.send({event_type: 'server_delete', 'id': server_id});\n",
       "    return;\n",
       "  } else if (comm !== null) {\n",
       "    comm.send({event_type: 'delete', 'id': id});\n",
       "  }\n",
       "  delete PyViz.plot_index[id];\n",
       "  if ((window.Bokeh !== undefined) & (id in window.Bokeh.index)) {\n",
       "    var doc = window.Bokeh.index[id].model.document\n",
       "    doc.clear();\n",
       "    const i = window.Bokeh.documents.indexOf(doc);\n",
       "    if (i > -1) {\n",
       "      window.Bokeh.documents.splice(i, 1);\n",
       "    }\n",
       "  }\n",
       "}\n",
       "\n",
       "/**\n",
       " * Handle kernel restart event\n",
       " */\n",
       "function handle_kernel_cleanup(event, handle) {\n",
       "  delete PyViz.comms[\"hv-extension-comm\"];\n",
       "  window.PyViz.plot_index = {}\n",
       "}\n",
       "\n",
       "/**\n",
       " * Handle update_display_data messages\n",
       " */\n",
       "function handle_update_output(event, handle) {\n",
       "  handle_clear_output(event, {cell: {output_area: handle.output_area}})\n",
       "  handle_add_output(event, handle)\n",
       "}\n",
       "\n",
       "function register_renderer(events, OutputArea) {\n",
       "  function append_mime(data, metadata, element) {\n",
       "    // create a DOM node to render to\n",
       "    var toinsert = this.create_output_subarea(\n",
       "    metadata,\n",
       "    CLASS_NAME,\n",
       "    EXEC_MIME_TYPE\n",
       "    );\n",
       "    this.keyboard_manager.register_events(toinsert);\n",
       "    // Render to node\n",
       "    var props = {data: data, metadata: metadata[EXEC_MIME_TYPE]};\n",
       "    render(props, toinsert[0]);\n",
       "    element.append(toinsert);\n",
       "    return toinsert\n",
       "  }\n",
       "\n",
       "  events.on('output_added.OutputArea', handle_add_output);\n",
       "  events.on('output_updated.OutputArea', handle_update_output);\n",
       "  events.on('clear_output.CodeCell', handle_clear_output);\n",
       "  events.on('delete.Cell', handle_clear_output);\n",
       "  events.on('kernel_ready.Kernel', handle_kernel_cleanup);\n",
       "\n",
       "  OutputArea.prototype.register_mime_type(EXEC_MIME_TYPE, append_mime, {\n",
       "    safe: true,\n",
       "    index: 0\n",
       "  });\n",
       "}\n",
       "\n",
       "if (window.Jupyter !== undefined) {\n",
       "  try {\n",
       "    var events = require('base/js/events');\n",
       "    var OutputArea = require('notebook/js/outputarea').OutputArea;\n",
       "    if (OutputArea.prototype.mime_types().indexOf(EXEC_MIME_TYPE) == -1) {\n",
       "      register_renderer(events, OutputArea);\n",
       "    }\n",
       "  } catch(err) {\n",
       "  }\n",
       "}\n"
      ],
      "application/vnd.holoviews_load.v0+json": "\nif ((window.PyViz === undefined) || (window.PyViz instanceof HTMLElement)) {\n  window.PyViz = {comms: {}, comm_status:{}, kernels:{}, receivers: {}, plot_index: []}\n}\n\n\n    function JupyterCommManager() {\n    }\n\n    JupyterCommManager.prototype.register_target = function(plot_id, comm_id, msg_handler) {\n      if (window.comm_manager || ((window.Jupyter !== undefined) && (Jupyter.notebook.kernel != null))) {\n        var comm_manager = window.comm_manager || Jupyter.notebook.kernel.comm_manager;\n        comm_manager.register_target(comm_id, function(comm) {\n          comm.on_msg(msg_handler);\n        });\n      } else if ((plot_id in window.PyViz.kernels) && (window.PyViz.kernels[plot_id])) {\n        window.PyViz.kernels[plot_id].registerCommTarget(comm_id, function(comm) {\n          comm.onMsg = msg_handler;\n        });\n      } else if (typeof google != 'undefined' && google.colab.kernel != null) {\n        google.colab.kernel.comms.registerTarget(comm_id, (comm) => {\n          var messages = comm.messages[Symbol.asyncIterator]();\n          function processIteratorResult(result) {\n            var message = result.value;\n            console.log(message)\n            var content = {data: message.data, comm_id};\n            var buffers = []\n            for (var buffer of message.buffers || []) {\n              buffers.push(new DataView(buffer))\n            }\n            var metadata = message.metadata || {};\n            var msg = {content, buffers, metadata}\n            msg_handler(msg);\n            return messages.next().then(processIteratorResult);\n          }\n          return messages.next().then(processIteratorResult);\n        })\n      }\n    }\n\n    JupyterCommManager.prototype.get_client_comm = function(plot_id, comm_id, msg_handler) {\n      if (comm_id in window.PyViz.comms) {\n        return window.PyViz.comms[comm_id];\n      } else if (window.comm_manager || ((window.Jupyter !== undefined) && (Jupyter.notebook.kernel != null))) {\n        var comm_manager = window.comm_manager || Jupyter.notebook.kernel.comm_manager;\n        var comm = comm_manager.new_comm(comm_id, {}, {}, {}, comm_id);\n        if (msg_handler) {\n          comm.on_msg(msg_handler);\n        }\n      } else if ((plot_id in window.PyViz.kernels) && (window.PyViz.kernels[plot_id])) {\n        var comm = window.PyViz.kernels[plot_id].connectToComm(comm_id);\n        comm.open();\n        if (msg_handler) {\n          comm.onMsg = msg_handler;\n        }\n      } else if (typeof google != 'undefined' && google.colab.kernel != null) {\n        var comm_promise = google.colab.kernel.comms.open(comm_id)\n        comm_promise.then((comm) => {\n          window.PyViz.comms[comm_id] = comm;\n          if (msg_handler) {\n            var messages = comm.messages[Symbol.asyncIterator]();\n            function processIteratorResult(result) {\n              var message = result.value;\n              var content = {data: message.data};\n              var metadata = message.metadata || {comm_id};\n              var msg = {content, metadata}\n              msg_handler(msg);\n              return messages.next().then(processIteratorResult);\n            }\n            return messages.next().then(processIteratorResult);\n          }\n        }) \n        var sendClosure = (data, metadata, buffers, disposeOnDone) => {\n          return comm_promise.then((comm) => {\n            comm.send(data, metadata, buffers, disposeOnDone);\n          });\n        };\n        var comm = {\n          send: sendClosure\n        };\n      }\n      window.PyViz.comms[comm_id] = comm;\n      return comm;\n    }\n    window.PyViz.comm_manager = new JupyterCommManager();\n    \n\n\nvar JS_MIME_TYPE = 'application/javascript';\nvar HTML_MIME_TYPE = 'text/html';\nvar EXEC_MIME_TYPE = 'application/vnd.holoviews_exec.v0+json';\nvar CLASS_NAME = 'output';\n\n/**\n * Render data to the DOM node\n */\nfunction render(props, node) {\n  var div = document.createElement(\"div\");\n  var script = document.createElement(\"script\");\n  node.appendChild(div);\n  node.appendChild(script);\n}\n\n/**\n * Handle when a new output is added\n */\nfunction handle_add_output(event, handle) {\n  var output_area = handle.output_area;\n  var output = handle.output;\n  if ((output.data == undefined) || (!output.data.hasOwnProperty(EXEC_MIME_TYPE))) {\n    return\n  }\n  var id = output.metadata[EXEC_MIME_TYPE][\"id\"];\n  var toinsert = output_area.element.find(\".\" + CLASS_NAME.split(' ')[0]);\n  if (id !== undefined) {\n    var nchildren = toinsert.length;\n    var html_node = toinsert[nchildren-1].children[0];\n    html_node.innerHTML = output.data[HTML_MIME_TYPE];\n    var scripts = [];\n    var nodelist = html_node.querySelectorAll(\"script\");\n    for (var i in nodelist) {\n      if (nodelist.hasOwnProperty(i)) {\n        scripts.push(nodelist[i])\n      }\n    }\n\n    scripts.forEach( function (oldScript) {\n      var newScript = document.createElement(\"script\");\n      var attrs = [];\n      var nodemap = oldScript.attributes;\n      for (var j in nodemap) {\n        if (nodemap.hasOwnProperty(j)) {\n          attrs.push(nodemap[j])\n        }\n      }\n      attrs.forEach(function(attr) { newScript.setAttribute(attr.name, attr.value) });\n      newScript.appendChild(document.createTextNode(oldScript.innerHTML));\n      oldScript.parentNode.replaceChild(newScript, oldScript);\n    });\n    if (JS_MIME_TYPE in output.data) {\n      toinsert[nchildren-1].children[1].textContent = output.data[JS_MIME_TYPE];\n    }\n    output_area._hv_plot_id = id;\n    if ((window.Bokeh !== undefined) && (id in Bokeh.index)) {\n      window.PyViz.plot_index[id] = Bokeh.index[id];\n    } else {\n      window.PyViz.plot_index[id] = null;\n    }\n  } else if (output.metadata[EXEC_MIME_TYPE][\"server_id\"] !== undefined) {\n    var bk_div = document.createElement(\"div\");\n    bk_div.innerHTML = output.data[HTML_MIME_TYPE];\n    var script_attrs = bk_div.children[0].attributes;\n    for (var i = 0; i < script_attrs.length; i++) {\n      toinsert[toinsert.length - 1].childNodes[1].setAttribute(script_attrs[i].name, script_attrs[i].value);\n    }\n    // store reference to server id on output_area\n    output_area._bokeh_server_id = output.metadata[EXEC_MIME_TYPE][\"server_id\"];\n  }\n}\n\n/**\n * Handle when an output is cleared or removed\n */\nfunction handle_clear_output(event, handle) {\n  var id = handle.cell.output_area._hv_plot_id;\n  var server_id = handle.cell.output_area._bokeh_server_id;\n  if (((id === undefined) || !(id in PyViz.plot_index)) && (server_id !== undefined)) { return; }\n  var comm = window.PyViz.comm_manager.get_client_comm(\"hv-extension-comm\", \"hv-extension-comm\", function () {});\n  if (server_id !== null) {\n    comm.send({event_type: 'server_delete', 'id': server_id});\n    return;\n  } else if (comm !== null) {\n    comm.send({event_type: 'delete', 'id': id});\n  }\n  delete PyViz.plot_index[id];\n  if ((window.Bokeh !== undefined) & (id in window.Bokeh.index)) {\n    var doc = window.Bokeh.index[id].model.document\n    doc.clear();\n    const i = window.Bokeh.documents.indexOf(doc);\n    if (i > -1) {\n      window.Bokeh.documents.splice(i, 1);\n    }\n  }\n}\n\n/**\n * Handle kernel restart event\n */\nfunction handle_kernel_cleanup(event, handle) {\n  delete PyViz.comms[\"hv-extension-comm\"];\n  window.PyViz.plot_index = {}\n}\n\n/**\n * Handle update_display_data messages\n */\nfunction handle_update_output(event, handle) {\n  handle_clear_output(event, {cell: {output_area: handle.output_area}})\n  handle_add_output(event, handle)\n}\n\nfunction register_renderer(events, OutputArea) {\n  function append_mime(data, metadata, element) {\n    // create a DOM node to render to\n    var toinsert = this.create_output_subarea(\n    metadata,\n    CLASS_NAME,\n    EXEC_MIME_TYPE\n    );\n    this.keyboard_manager.register_events(toinsert);\n    // Render to node\n    var props = {data: data, metadata: metadata[EXEC_MIME_TYPE]};\n    render(props, toinsert[0]);\n    element.append(toinsert);\n    return toinsert\n  }\n\n  events.on('output_added.OutputArea', handle_add_output);\n  events.on('output_updated.OutputArea', handle_update_output);\n  events.on('clear_output.CodeCell', handle_clear_output);\n  events.on('delete.Cell', handle_clear_output);\n  events.on('kernel_ready.Kernel', handle_kernel_cleanup);\n\n  OutputArea.prototype.register_mime_type(EXEC_MIME_TYPE, append_mime, {\n    safe: true,\n    index: 0\n  });\n}\n\nif (window.Jupyter !== undefined) {\n  try {\n    var events = require('base/js/events');\n    var OutputArea = require('notebook/js/outputarea').OutputArea;\n    if (OutputArea.prototype.mime_types().indexOf(EXEC_MIME_TYPE) == -1) {\n      register_renderer(events, OutputArea);\n    }\n  } catch(err) {\n  }\n}\n"
     },
     "metadata": {},
     "output_type": "display_data"
    }
   ],
   "source": [
    "# import sequence related classes \n",
    "from biopylib.sequence import SQ\n",
    "from biopylib.read_sequence import readSeq\n",
    "from biopylib.sequence_alignment import SUBM,ALI,PSA,MSA"
   ]
  },
  {
   "cell_type": "markdown",
   "id": "8777f82d",
   "metadata": {
    "papermill": {
     "duration": 0.055435,
     "end_time": "2023-05-10T06:28:41.517161",
     "exception": false,
     "start_time": "2023-05-10T06:28:41.461726",
     "status": "completed"
    },
    "tags": []
   },
   "source": [
    "![](https://i.imgur.com/MTR8R2d.jpg)\n",
    "\n",
    "# <div style=\"padding: 30px;color:white;margin:10;font-size:60%;text-align:left;display:fill;border-radius:10px;background-color:#FFFFFF;overflow:hidden;background-color:#E888BB\"><b><span style='color:#FFFFFF'>1 |</span></b> <b>BACKGROUND</b></div>\n",
    "\n",
    "### <b><span style='color:#E888BB'> 1.1 |</span> BIOPYLIB </b>\n",
    "\n",
    "- In this notebook, we'll introduce a few **<span style='color:#E888BB'>custom classes</span>** that will enable us to **<mark style=\"background-color:#E888BB;color:white;border-radius:5px;opacity:0.9\">align</mark>** & compare multiple **<mark style=\"background-color:#E888BB;color:white;border-radius:5px;opacity:0.9\">biological sequences</mark>**; a common task in **<mark style=\"background-color:#E888BB;color:white;border-radius:5px;opacity:0.9\">bioinformatics</mark>**\n",
    "- And whilst it's quite handy to already to preexisting libraries & it is worthwile to make our own libraries that will be to our liking, the end product of course being **[a library](https://www.kaggle.com/shtrausslearning/bioseq)** we can use and update\n",
    "- Nevertheless, in **<mark style=\"background-color:#323232;color:white;border-radius:5px;opacity:0.9\">Section 7</mark>**, we've added sequence alignment related operations in  **<span style='color:#E888BB'>biopython</span>** as well, which is quite handy because we don't need to fiddle with any internal code\n",
    "\n",
    "This notebook is a continuation from **[Biological Sequence Operations](https://www.kaggle.com/shtrausslearning/biological-sequence-operations)**, so it's better to read that one first as we need functions from <code>bioseq-1.0-py3-none-any.whl</code>:\n",
    "> - We'll be needing <code>read_seq</code> to read any FASTA files containing sequences\n",
    "> - As well as the main sequence operations class <code>SQ</code>, as the classes introduces here will require it\n",
    "\n",
    "### <b><span style='color:#E888BB'> 1.2 |</span> Cell Information </b>\n",
    "\n",
    "Cells contain molecules which will reference to througout the notebook: **<mark style=\"background-color:#E888BB;color:white;border-radius:5px;opacity:0.9\">amino acids</mark>**, **<mark style=\"background-color:#E888BB;color:white;border-radius:5px;opacity:0.9\">nucleotides</mark>**, **<mark style=\"background-color:#E888BB;color:white;border-radius:5px;opacity:0.9\">proteins</mark>**\n",
    "\n",
    "A **<mark style=\"background-color:#E888BB;color:white;border-radius:5px;opacity:0.9\">cell</mark>** is mostly composed of water:\n",
    "> - a bacteria cell has a weight composition of roughly 70% water & 30% <b>chemical origin</b>, \n",
    "> - <b>7% -> small molecules</b> Inc. **<mark style=\"background-color:#E888BB;color:white;border-radius:5px;opacity:0.9\">amino acids</mark>** and **<mark style=\"background-color:#E888BB;color:white;border-radius:5px;opacity:0.9\">nucleotides</mark>**\n",
    "> - 23% -> <b>macro molecules</b> (**<mark style=\"background-color:#E888BB;color:white;border-radius:5px;opacity:0.9\">proteins</mark>**,lipids,polysaccharides)\n",
    "\n",
    "\n",
    "\n",
    "According to their internal structure, they can be divided into to major categories:\n",
    "\n",
    "> - **<mark style=\"background-color:#E888BB;color:white;border-radius:5px;opacity:0.9\">Prokaryotic</mark>** cells : have no nucleus or internal membranes\n",
    "> - **<mark style=\"background-color:#E888BB;color:white;border-radius:5px;opacity:0.9\">Eukaryotic</mark>** cells : which have a defined <b>nucleus</b>, <b>internal membranes</b> and functional elements called <b>organelles</b>.\n",
    "\n",
    "\n",
    "- At a structural level, all cells are surrounded by a structure called cell <b>membrane</b> or <b>plasma membrane</b>. \n",
    "- This <b>membrane</b> is permeable to molecules that cells need to absorb from or excrete to the outside medium.\n",
    "- Within the cell we find the <b>cytoplasm</b> (largely composed of water), which serves as the medium for the cell"
   ]
  },
  {
   "cell_type": "markdown",
   "id": "fdfce301",
   "metadata": {
    "papermill": {
     "duration": 0.053445,
     "end_time": "2023-05-10T06:28:41.624849",
     "exception": false,
     "start_time": "2023-05-10T06:28:41.571404",
     "status": "completed"
    },
    "tags": []
   },
   "source": [
    "### <b><span style='color:#E888BB'> 1.3 |</span> DNA Strands </b>\n",
    "\n",
    "#### <b><span style='color:#E888BB'>COMPLEMENTARY STRANDS IN DNA</span></b>\n",
    "\n",
    "- DNA is a molecule composed of **<span style='color:#E888BB'>two complementary strands</span>** that form and stick together due to the connections established between the nucleotides in both strands\n",
    "- This is made possible by due to the chemical phenomenon:\n",
    "    - Where **<mark style=\"background-color:#E888BB;color:white;border-radius:5px;opacity:0.9\">Adenine (A)</mark>** bonds only with **<mark style=\"background-color:#E888BB;color:white;border-radius:5px;opacity:0.9\">Thymine (T)</mark>** nucleotides; as a result of **two hydrogen connections**\n",
    "    - Similarly, **<mark style=\"background-color:#E888BB;color:white;border-radius:5px;opacity:0.9\">Guanine (G)</mark>** bonds only with **<mark style=\"background-color:#E888BB;color:white;border-radius:5px;opacity:0.9\">Cytosine (C)</mark>** nucleotides by three hydrogen connections\n",
    "\n",
    "#### <b><span style='color:#E888BB'>REVERSE COMPLEMENT</span></b>\n",
    "\n",
    "- This results in **two complementary** and **anti-parallel strands** (connected in opposite directions), if we know the nucleotide sequence in one of the strands, we can get the sequence in the opposite strand by taking the complement of its nucleotides, which are also read backwards, thus we have the **reverse complement** of the other strand.\n",
    "- It has become a **standard to describe the DNA though only one** of the strands, due to this **complementarity** using <b>[A,T,G,C]</b>.\n",
    "- The existence of these two strands is essential in order to **pass on genetic information** to new cells and **produce proteins**."
   ]
  },
  {
   "cell_type": "markdown",
   "id": "9c3f63b4",
   "metadata": {
    "papermill": {
     "duration": 0.052881,
     "end_time": "2023-05-10T06:28:41.730179",
     "exception": false,
     "start_time": "2023-05-10T06:28:41.677298",
     "status": "completed"
    },
    "tags": []
   },
   "source": [
    "### <b><span style='color:#E888BB'> 1.4 |</span> Sequence Alphabets </b>\n",
    "\n",
    "**<mark style=\"background-color:#E888BB;color:white;border-radius:5px;opacity:0.9\">ABC (I/II)</mark>** **<mark style=\"background-color:#E888BB;color:white;border-radius:5px;opacity:0.9\">Nucleic Acids</mark>**\n",
    "\n",
    "> - Among <b>molecules with a biological role</b>, we can find **<span style='color:#E888BB'>nucleic acids</span>**\n",
    "> - Nucleic acids encode and express the genetic code that is kept within the cell\n",
    "- There are two major types of **<span style='color:#E888BB'>nucleic acids</span>**: \n",
    "> - **<span style='color:#E888BB'>Deoxyribo Nucleic Acid (DNA)</span>**\n",
    "> - **<span style='color:#E888BB'>Ribonucleic Acid (RNA)</span>** (Obtainable via transcription)\n",
    "- DNA contains the information necessary to build a cell, and keep it functioning. \n",
    "- In <b>eukaryotic</b> cells, DNA will be found in the nucleus, whilst in the <b>prokaryotic</b> cells, it will be found in the cytoplasm. \n",
    "- <b>IUPAC</b> defines the full list of nucleotides as shown in the table below, with <b>A,T,G,C</b> being the main four:\n",
    "- Another type of nucleotide list often used is **[IUB Ambiguity Codes](http://biocorp.ca/IUB.php)**, which we use later in the notebook as well\n",
    "\n",
    "**<mark style=\"background-color:#E888BB;color:white;border-radius:5px;opacity:0.9\">ABC (II/II)</mark>** **<mark style=\"background-color:#E888BB;color:white;border-radius:5px;opacity:0.9\">Amino Acids</mark>**\n",
    "\n",
    "**<span style='color:#E888BB'>Amino acids</span>**:\n",
    "> The **building blocks of proteins**, which are <b>macromolecules</b> that perform most of the functions inside a cell\n",
    "\n",
    "Proteins have a **broad range of functions**, spanning from **catalytic** to **structural functions**:\n",
    "\n",
    "> - **<span style='color:#E888BB'>Enzymes</span>** : Type of abundant proteins that promote chemical reactions & convert some molecules into other types of molecules required for the functioning of the cell\n",
    "> - **<span style='color:#E888BB'>Carbohydrates</span>** : Serve as energy storage, both for immediate and long term energy demands\n",
    "> - **<span style='color:#E888BB'>Lipids</span>** : Part of the plasma membrane, doing signaling and energy storage\n",
    "\n",
    "The cell also contains other components of varying complexity. Of importance: \n",
    "> - <b>Mitochondria</b> & the <b>Chloroplasts</b> : Organelles involved in the production of energy. \n",
    "> - <b>Ribosomes</b> : Large and complex molecules composed of a mixture of genetic material, req. to assemble proteins and play a central role in the flow of genetic information"
   ]
  },
  {
   "cell_type": "markdown",
   "id": "74570a21",
   "metadata": {
    "papermill": {
     "duration": 0.053827,
     "end_time": "2023-05-10T06:28:41.836706",
     "exception": false,
     "start_time": "2023-05-10T06:28:41.782879",
     "status": "completed"
    },
    "tags": []
   },
   "source": [
    "### <b><span style='color:#E888BB'> 1.5 |</span> Biological Sequences </b>\n",
    "\n",
    "- A **<span style='color:#E888BB'>biological sequence</span>** represents a single, continuous molecules of **<span style='color:#E888BB'>nucleic acid (nucleotide)</span>** or **<span style='color:#E888BB'>amino acids</span>**\n",
    "- Subsequently we can also **<span style='color:#E888BB'>compare multiple sequences</span>** based on some form of alignment methodology, so that's what this notebook is about\n",
    "    \n",
    "**<mark style=\"background-color:#E888BB;color:white;border-radius:5px;opacity:0.9\">Sequence Alignment Introduction</mark>** | **[Data Mining Trends and Research Frontiers](https://www.sciencedirect.com/topics/computer-science/biological-sequence)**\n",
    "\n",
    "<div style=\" background-color:#3b3745; padding: 13px 13px; border-radius: 8px; color: white\">\n",
    "    \n",
    "<ul>\n",
    "    <li>Sequence alignment is based on the fact that all living organisms are related by evolution.</li>\n",
    "    <li>This implies that the nucleotide (DNA, RNA) and protein sequences of species that are closer to each other in evolution should exhibit more similarities.</li>\n",
    "    <li>An alignment is the process of lining up sequences to achieve a maximal identity level, which also expresses the degree of similarity between sequences.</li>\n",
    "    <li>Two sequences are homologous if they share a common ancestor. The degree of similarity obtained by sequence alignment can be useful in determining the possibility of homology between two sequences</li>\n",
    "    <li>Such an alignment also helps determine the relative positions of multiple species in an evolution tree, which is called a phylogenetic tree.</li>\n",
    "    </ul>\n",
    "    \n",
    "</div> "
   ]
  },
  {
   "cell_type": "markdown",
   "id": "731cbcc3",
   "metadata": {
    "papermill": {
     "duration": 0.051885,
     "end_time": "2023-05-10T06:28:41.941686",
     "exception": false,
     "start_time": "2023-05-10T06:28:41.889801",
     "status": "completed"
    },
    "tags": []
   },
   "source": [
    "### <b><span style='color:#E888BB'> 1.6 |</span> Bio Sequence Examples </b>\n",
    "\n",
    "In notebook **[Biological Sequence Operations](https://www.kaggle.com/shtrausslearning/biological-sequence-operations)**, we looked at how to read biological sequence files, here are two examples of what they might look like:\n",
    "\n",
    "- An example of a **<mark style=\"background-color:#E888BB;color:white;border-radius:5px;opacity:0.9\">Nucleotide</mark>** Sequence:\n",
    "\n",
    "ref|NC_005816.1|:4343-4780 pesticin immunity protein [Yersinia pestis biovar Microtus str. 91001]\n",
    "> ATGGGAGGGGGAATGATCTCAAAGTTATTTTGCTTGGCTCTCATATTTTTATCATCAAGTGGCCTTGCAG\n",
    "AAAAAAACACATATACAGCAAAAGACATCTTGCAAAACCTAGAATTAAATACCTTTGGCAATTCATTGTC\n",
    "TCATGGCATCTATGGGAAACAGACAACCTTCAAGCAAACCGAGTTTACAAATATTAAAAGCAACACCAAA\n",
    "AAACACATTGCACTTATCAATAAAGACAACTCATGGATGATATCATTAAAAATACTAGGAATTAAGAGAG\n",
    "ATGAGTATACTGTCTGTTTTGAAGATTTCTCTCTAATAAGACCGCCAACATATGTAGCCATACATCCTCT\n",
    "ACTTATAAAAAAAGTAAAATCTGGAAACTTTATAGTAGTGAAAGAAATAAAGAAATCTATCCCTGGTTGC\n",
    "ACTGTATATTATCATTAA\n",
    "\n",
    "- An example of an **<mark style=\"background-color:#E888BB;color:white;border-radius:5px;opacity:0.9\">Amino Acid</mark>** Sequence:\n",
    "\n",
    "gi|7525080|ref|NP_051037.1| ribosomal protein S12 [Arabidopsis thaliana]\n",
    "> MPTIKQLIRNTRQPIRNVTKSPALRGCPQRRGTCTRVYTITPKKPNSALRKVARVRLTSGFEITAYIPGI\n",
    "GHNLQEHSVVLVRGGRVKDLPGVRYHIVRGTLDAVGVKDRQQGRSKYGVKKPK"
   ]
  },
  {
   "cell_type": "markdown",
   "id": "c2ca61d5",
   "metadata": {
    "papermill": {
     "duration": 0.053716,
     "end_time": "2023-05-10T06:28:42.049642",
     "exception": false,
     "start_time": "2023-05-10T06:28:41.995926",
     "status": "completed"
    },
    "tags": []
   },
   "source": [
    "### <b><span style='color:#E888BB'> 1.7 |</span> Homology & Similarity </b>\n",
    "\n",
    "- Some key terms in **biological sequence alignment** : **<mark style=\"background-color:#E888BB;color:white;border-radius:5px;opacity:0.9\">Homology</mark>** & **<mark style=\"background-color:#E888BB;color:white;border-radius:5px;opacity:0.9\">Similarity</mark>**, we probably want to familiarise ourselves with them first\n",
    "\n",
    "\n",
    "First things first, we have two sequences, **<span style='color:#E888BB'>DNA</span>** sequences to be exact (here they are from file **<span style='color:#E888BB'>NC_005816.1</span>**):\n",
    "\n",
    "#### <b><span style='color:#E888BB'>SELECT TWO SEQUENCES</span></b>\n",
    "\n",
    "**<mark style=\"background-color:#323232;color:white;border-radius:5px;opacity:0.9\">Sequence #1</mark>**\n",
    "\n",
    "ref|NC_005816.1|:c8360-8088 hypothetical protein YP_pPCP10 [Yersinia pestis biovar Microtus str. 91001]\n",
    "\n",
    "> TTGGCTGATTTGAAAAAGCTACAGGTTTACGGACCTGAGTTACCCAGGCCATATGCCGATACCGTGAAAG\n",
    "GTTCTCGGTACAAAAATATGAAAGAGCTTCGCGTTCAGTTTTCTGGCCGTCCGATAAGAGCCTTTTATGC\n",
    "GTTCGATCCGATTCGTCGGGCTATCGTTCTTTGTGCAGGAGATAAAAGTAATGATAAGCGGTTTTATGAA\n",
    "AAACTGGTGCGTATAGCTGAGGATGAATTTACAGCACATCTGAACACACTGGAGAGCAAGTAA\n",
    "\n",
    "**<mark style=\"background-color:#323232;color:white;border-radius:5px;opacity:0.9\">Sequence #2</mark>**\n",
    "\n",
    "ref|NC_005816.1|:c8088-7789 putative transcriptional regulator [Yersinia pestis biovar Microtus str. 91001]\n",
    "\n",
    "> ATGAGAACATTAGATGAGGTGATTGCCAGTCGTTCACCTGAAAGCCAGACACGAATTAAAGAAATGGCAG\n",
    "ATGAGATGATTCTTGAGGTCGGCTTGCAGATGATGCGTGAAGAACTCCAGTTATCACAAAAACAAGTTGC\n",
    "TGAGGCGATGGGTATAAGCCAGCCAGCAGTAACAAAGCTGGAGCAGCGCGGAAATGATTTAAAGCTGGCG\n",
    "ACGTTAAAGCGTTACGTTGAAGCAATGGGAGGCAAATTAAGCTTGGATGTTGAGCTTCCTACAGGAAGGA\n",
    "GAGTAGCGTTCCATGTCTAA\n",
    "\n",
    "#### <b><span style='color:#E888BB'>HOW TO TELL IF TWO SEQUENCES ARE HOMOLOGOUS?</span></b>\n",
    "\n",
    "**<mark style=\"background-color:#E888BB;color:white;border-radius:5px;opacity:0.9\">HOMOLOGOUS</mark>** | **[Wikipedia](https://en.wikipedia.org/wiki/Homology_(biology)**\n",
    "> - Similar biological structures or sequences in different taxa are homologous if they are derived from a common ancestor\n",
    "> - Thus, two sequences are said to be **<mark style=\"background-color:#E888BB;color:white;border-radius:5px;opacity:0.9\">homologous</mark>** if they are both derived from a **<span style='color:#E888BB'>common ancestral sequence</span>**\n",
    "\n",
    "#### <b><span style='color:#E888BB'>HOW SIMILAR ARE THESE SEQUENCES?</span></b>\n",
    "\n",
    "If we wanted to know how **closely they are related**, we could **<span style='color:#E888BB'>make some assumptions</span>** about their relation to one another:\n",
    "> - We are assuming that there exists an ancestry relation between the two sequences, which is based on this **<mark style=\"background-color:#E888BB;color:white;border-radius:5px;opacity:0.9\">sequence similarity</mark>**\n",
    "> - We can **<span style='color:#E888BB'>generate a hypothesis</span>** about the biological function of a sequence we are exploring, based on its **<span style='color:#E888BB'>similarity to another sequence</span>**, which already has a determined function\n",
    "> - Sequences that display a significant **<span style='color:#E888BB'>degree of similarity</span>** have a high probability of being **<span style='color:#E888BB'>homologous</span>** and **<span style='color:#E888BB'>sharing similar functions</span>**\n",
    "> - Two sequences that have a high order of similarity -> have a high probability of being homologous\n",
    "> - There doesn't seem to exist a point at which this becomes a certainty & thus requires experimental verification\n",
    "> - The **<span style='color:#E888BB'>higher the degree of similarity</span>**, the more confident we can be that **<span style='color:#E888BB'>two sequences are homologous</span>** & thus share similar functions"
   ]
  },
  {
   "cell_type": "markdown",
   "id": "a4500a8b",
   "metadata": {
    "papermill": {
     "duration": 0.052514,
     "end_time": "2023-05-10T06:28:42.156835",
     "exception": false,
     "start_time": "2023-05-10T06:28:42.104321",
     "status": "completed"
    },
    "tags": []
   },
   "source": [
    "### <b><span style='color:#E888BB'> 1.8 |</span> Biological Mutations </b>\n",
    "\n",
    "So what stops us from just placing two sequences next to eachother & comparing them; there exist some factors that do add an extra level of complication to our similarity assumption:\n",
    "\n",
    "- Biological **<mark style=\"background-color:#E888BB;color:white;border-radius:5px;opacity:0.9\">mutations</mark>** signifcantly complicate the process of what may seem quite a straightforward task\n",
    "- **<mark style=\"background-color:#E888BB;color:white;border-radius:5px;opacity:0.9\">Insertions</mark>** & **<mark style=\"background-color:#E888BB;color:white;border-radius:5px;opacity:0.9\">deletions</mark>**, as well as **<span style='color:#E888BB'>changes in multiple nucleotides</span>** due to these mutations can make the comparison of sequences more complex\n",
    "\n",
    "**<mark style=\"background-color:#3b3745;color:white;border-radius:5px;opacity:0.9\">MUTATIONS</mark>** | **[GENOME.GOV](https://www.genome.gov/genetics-glossary/Mutation)**\n",
    "\n",
    "<div style=\" background-color:#3b3745; padding: 13px 13px; border-radius: 8px; color: white\">\n",
    "    \n",
    "<ul>\n",
    "    <li>A <b><span style='color:#E888BB'>mutation</span></b> is a change in a DNA sequence.</li>\n",
    "    <li>Mutations can result from DNA copying mistakes made during cell division, <br>\n",
    "        exposure to ionizing radiation, exposure to chemicals called mutagens, or infection by viruses.</li>\n",
    "    <li>Germ line mutations occur in the eggs and sperm and can be passed on to offspring, while <br>\n",
    "        somatic mutations occur in body cells and are not passed on.</li>\n",
    "    </ul>\n",
    "\n",
    "</div>\n",
    "\n",
    "<br>\n",
    "    \n",
    "**<mark style=\"background-color:#323232;color:white;border-radius:5px;opacity:0.9\">INSERTIONS & DELETIONS</mark>** | **[NATURE](https://www.nature.com/scitable/topicpage/dna-is-constantly-changing-through-the-process-6524898/)**\n",
    "\n",
    "<div style=\" background-color:#3b3745; padding: 13px 13px; border-radius: 8px; color: white\">\n",
    "    \n",
    "<ul>\n",
    "    <li><b>Insertions</b> and <b>deletions</b> are two other types of mutations that can affect cells at the gene level.</li>\n",
    "    <li>An insertion mutation occurs when an extra nucleotide is added to the DNA strand during replication. </li>\n",
    "    <li>This can happen when the replicating strand \"slips,\" or wrinkles, which allows the extra nucleotide to be incorporated</li>\n",
    "    <li><b>Strand slippage</b> can also lead to deletion mutations.</li>\n",
    "    <li>A deletion mutation occurs when a wrinkle forms on the DNA template strand and subsequently causes a nucleotide to be omitted from the replicated strand.</li>\n",
    "    </ul>\n",
    "</div>"
   ]
  },
  {
   "cell_type": "markdown",
   "id": "6c37b77e",
   "metadata": {
    "papermill": {
     "duration": 0.054043,
     "end_time": "2023-05-10T06:28:42.329896",
     "exception": false,
     "start_time": "2023-05-10T06:28:42.275853",
     "status": "completed"
    },
    "tags": []
   },
   "source": [
    "### <b><span style='color:#E888BB'> 1.9 |</span> Comparing Sequences </b>\n",
    "\n",
    "#### <b><span style='color:#E888BB'>SEQUENCE ALIGNMENT ALGORITHMS</span></b>\n",
    "\n",
    "The process of determining how similar two sequences are, taking into account biological **<mark style=\"background-color:#E888BB;color:white;border-radius:5px;opacity:0.9\">mutations</mark>**:\n",
    "\n",
    "- Is referred to as <b><span style='color:#E888BB'>sequence alignment</span></b> & its subsequent **<span style='color:#E888BB'>algorithms</span>** are developed to achieve this\n",
    "- The aim of such algorithms is to find <b>shared individual characters</b> in <b>both sequences</b>, <b><span style='color:#E888BB'>without changing the order</b>\n",
    "- <b><span style='color:#E888BB'>gaps</span></b> | We will introduce <b><span style='color:#E888BB'>gaps</span></b> (spacing characters '_' or \"-\" ) : In an attempt to <b><span style='color:#E888BB'>maximise the characters shared between two sequences</span></b>\n",
    "- Sequences with a high degree of similarity: Have a large number of <b>identical characters</b> (**nucleotides** or **aminoacids**) \n",
    "- There are two main classes of <b><span style='color:#E888BB'>sequence alignment</span></b>: **<mark style=\"background-color:#E888BB;color:white;border-radius:5px;opacity:0.9\">global sequence alignment</mark>** **<mark style=\"background-color:#E888BB;color:white;border-radius:5px;opacity:0.9\">local sequence alignment</mark>**"
   ]
  },
  {
   "cell_type": "markdown",
   "id": "78d6de82",
   "metadata": {
    "papermill": {
     "duration": 0.0528,
     "end_time": "2023-05-10T06:28:42.437072",
     "exception": false,
     "start_time": "2023-05-10T06:28:42.384272",
     "status": "completed"
    },
    "tags": []
   },
   "source": [
    "### <b><span style='color:#E888BB'> 1.10 |</span> Object Fuctions </b>\n",
    "\n",
    "#### <b><span style='color:#E888BB'>OPTIMISATION PROBLEM</span></b>\n",
    "\n",
    "An important part of sequence alignment algorithms:\n",
    "\n",
    "- Sequence alignment is treated as an <b><span style='color:#E888BB'>optimisation problem</span></b>, with a defined <b>objective function</b>\n",
    "- The <b><span style='color:#E888BB'>objective function</span></b> in the optimisation problem is used to <b><span style='color:#E888BB'>evaluate all feasible solutions</span></b> for the problem\n",
    "- Assigning to each feasible solution (**all possible pairs**) a value & <b><span style='color:#E888BB'>finding the solution that maximises this function</span></b>; <b>score</b>\n",
    "\n",
    "#### <b><span style='color:#E888BB'>COMPONENTS OF THE ALGORITHM</span></b>\n",
    "\n",
    "In short, the **objective function** -> <b><span style='color:#E888BB'>substitution matrix</span></b> & <b><span style='color:#E888BB'>gap penalty</span></b> model:\n",
    "> - **<mark style=\"background-color:#E888BB;color:white;border-radius:5px;opacity:0.9\">Substitution Matrix</mark>** - Matrix which includes score values for all combinations of alignment where there are no gaps present in the comparison of two characters\n",
    "> - **<mark style=\"background-color:#E888BB;color:white;border-radius:5px;opacity:0.9\">Gap Penalty Model</mark>** - Model which defines how to penalise the case where we have no matches & the alignment has a gap in one of the sequences"
   ]
  },
  {
   "cell_type": "markdown",
   "id": "7aa42e63",
   "metadata": {
    "papermill": {
     "duration": 0.054259,
     "end_time": "2023-05-10T06:28:42.545453",
     "exception": false,
     "start_time": "2023-05-10T06:28:42.491194",
     "status": "completed"
    },
    "tags": []
   },
   "source": [
    "### <b><span style='color:#E888BB'> 1.11 |</span> Sequence alignment uses </b>\n",
    "\n",
    "#### <b><span style='color:#E888BB'>SEQUENCE ANNOTATION & PHYLOGENETIC ANALYSIS</span></b>\n",
    "\n",
    "- Both **<mark style=\"background-color:#E888BB;color:white;border-radius:5px;opacity:0.9\">DNA</mark>** & **<mark style=\"background-color:#E888BB;color:white;border-radius:5px;opacity:0.9\">protein</mark>** sequence sequence alignment can be used for <b>sequence annotation</b>; **<span style='color:#E888BB'>giving functions to sequences</span>** (or parts of it)\n",
    "\n",
    "**<mark style=\"background-color:#E888BB;color:white;border-radius:5px;opacity:0.9\">MSA: algorithms and applications</mark>** | **[@NCBI](https://pubmed.ncbi.nlm.nih.gov/10463075/)**\n",
    "\n",
    "<div style=\" background-color:#3b3745; padding: 13px 13px; border-radius: 8px; color: white\">\n",
    "    \n",
    "Multiple sequence alignment has been proven to be a powerful tool for many fields of studies; \n",
    "Such as <b>phylogenetic reconstruction</b>, illumination of functionally important regions, and prediction of higher order structures of proteins and RNAs\n",
    "\n",
    "</div>\n",
    "      \n",
    "- Such an alignment also helps determine the relative positions of multiple species in **<span style='color:#E888BB'>an evolution tree</span>**, which is called a **<span style='color:#E888BB'>phylogenetic tree</span>** (in **<span style='color:#E888BB'>phylogenetic analysis</span>**)\n",
    "- An example notebook about **[phylogenetic trees](https://www.kaggle.com/nwheeler443/understanding-phylogenetic-trees)**\n",
    "\n",
    "#### <b><span style='color:#E888BB'>RELEVANT REFERENCES</span></b>\n",
    "\n",
    "- **[Needleman-Wunsch algorithm for sequence alignment](https://www.cs.sjsu.edu/~aid/cs152/NeedlemanWunsch.pdf)**\n",
    "- **[BLAST Global Sequence Alignment](https://blast.ncbi.nlm.nih.gov/Blast.cgi?PAGE_TYPE=BlastSearch&PROG_DEF=blastn&BLAST_PROG_DEF=blastn&BLAST_SPEC=GlobalAln&LINK_LOC=BlastHomeLink)**\n",
    "- **[Freiburg Smith Waterman Tutorial](http://rna.informatik.uni-freiburg.de/Teaching/index.jsp?toolName=Smith-Waterman)**"
   ]
  },
  {
   "cell_type": "markdown",
   "id": "a22719a1",
   "metadata": {
    "papermill": {
     "duration": 0.052787,
     "end_time": "2023-05-10T06:28:42.651600",
     "exception": false,
     "start_time": "2023-05-10T06:28:42.598813",
     "status": "completed"
    },
    "tags": []
   },
   "source": [
    "# <div style=\"padding: 30px;color:white;margin:10;font-size:60%;text-align:left;display:fill;border-radius:10px;background-color:#FFFFFF;overflow:hidden;background-color:#E888BB\"><b><span style='color:#FFFFFF'>2 |</span></b> <b>Class Stucture & Outline</b></div>\n",
    "\n",
    "#### <b><span style='color:#E888BB'>BIOPYLIB - SEQUENCE ALIGNMENT PART</span></b>\n",
    "\n",
    "- As part of the <b><mark style=\"background-color:#E888BB;color:white;border-radius:5px;opacity:0.9\">biopylib</mark></b> module, the following classes are incorporated\n",
    "- The main class for **<mark style=\"background-color:#E888BB;color:white;border-radius:5px;opacity:0.9\">biological sequence alignment</mark>** operations:\n",
    "> <b><mark style=\"background-color:#E888BB;color:white;border-radius:5px;opacity:0.9\">MSA</mark></b> for **<span style='color:#E888BB'>multiple sequence alignment</span>** operations & <b><mark style=\"background-color:#E888BB;color:white;border-radius:5px;opacity:0.9\">PSA</mark></b> for **<span style='color:#E888BB'>pairwise sequence alignment operations</span>** <br>\n",
    "> <b><mark style=\"background-color:#E888BB;color:white;border-radius:5px;opacity:0.9\">SUBM</mark></b> class needs to be initialised and passed onto whichever alignment approach is of interest\n",
    "\n",
    "#### <b><span style='color:#E888BB'>CLASS CONTENT</span></b>\n",
    "\n",
    "The structure isn't too complicated, however there are some classes which inherit other classes:\n",
    "\n",
    "- <b><mark style=\"background-color:#E888BB;color:white;border-radius:5px;opacity:0.9\">SUBM</mark></b> | Substitution matrix related class <br>\n",
    "- <b><mark style=\"background-color:#E888BB;color:white;border-radius:5px;opacity:0.9\">ali_view</mark></b> | class for displaying alignment -> passed onto class <code>ALI</code>, <code>PSA</code> <br>\n",
    "- <b><mark style=\"background-color:#E888BB;color:white;border-radius:5px;opacity:0.9\">ALI</mark></b> | class for storage, modification and display of alignments  -> requires <code>ali_view</code> class <br>\n",
    "- <b><mark style=\"background-color:#E888BB;color:white;border-radius:5px;opacity:0.9\">PSA</mark></b> | class for pairwise sequence alignment operations -> requires <code>SQ</code>,<code>ali_view</code> classes <br>\n",
    "- <b><mark style=\"background-color:#E888BB;color:white;border-radius:5px;opacity:0.9\">MSA</mark></b> | class for multiple sequence alignment operations -> requires <code>PSA</code> <br>"
   ]
  },
  {
   "cell_type": "markdown",
   "id": "a8c8a268",
   "metadata": {
    "papermill": {
     "duration": 0.052775,
     "end_time": "2023-05-10T06:28:42.756566",
     "exception": false,
     "start_time": "2023-05-10T06:28:42.703791",
     "status": "completed"
    },
    "tags": []
   },
   "source": [
    "### <b><span style='color:#E888BB'> 3.2 |</span> SUBM example usage </b>\n",
    "\n",
    "- We can utlise the class by itself, calling the functions/methods outlined above:"
   ]
  },
  {
   "cell_type": "code",
   "execution_count": 4,
   "id": "87b7b5b0",
   "metadata": {
    "execution": {
     "iopub.execute_input": "2023-05-10T06:28:42.869484Z",
     "iopub.status.busy": "2023-05-10T06:28:42.868670Z",
     "iopub.status.idle": "2023-05-10T06:28:42.885724Z",
     "shell.execute_reply": "2023-05-10T06:28:42.885067Z",
     "shell.execute_reply.started": "2023-05-10T06:14:00.095454Z"
    },
    "papermill": {
     "duration": 0.076408,
     "end_time": "2023-05-10T06:28:42.885896",
     "exception": false,
     "start_time": "2023-05-10T06:28:42.809488",
     "status": "completed"
    },
    "tags": []
   },
   "outputs": [
    {
     "name": "stdout",
     "output_type": "stream",
     "text": [
      "alphabet: CSTPAGNDEQHRKMILVFYW\n",
      "score pair W & N : -4\n",
      "score pair W & N : 11\n",
      "direct score pair W & N : 11\n"
     ]
    },
    {
     "data": {
      "text/plain": [
       "[('AA', 2), ('AT', -1), ('AC', -1), ('AG', -1), ('TA', -1)]"
      ]
     },
     "execution_count": 4,
     "metadata": {},
     "output_type": "execute_result"
    }
   ],
   "source": [
    "# Read Substitution Matrix from File\n",
    "subm = SUBM()\n",
    "subm.read(\"/kaggle/input/bioinformatics/substitution_matrices/blosum62.mat\")\n",
    "\n",
    "# Get all unique characters\n",
    "print(f'alphabet: {subm.abc}')\n",
    "\n",
    "# Get Character Scores\n",
    "print(f\"score pair W & N : {subm.score_pair('W','N')}\") # Two Characters aren't identical\n",
    "print(f\"score pair W & N : {subm.score_pair('W','W')}\") # Two Characters are identical\n",
    "print(f\"direct score pair W & N : {subm['W','W']}\")     # used in some class functions\n",
    "\n",
    "# Make out own substitution matrix\n",
    "subm = SUBM()\n",
    "subm.make('ATCG',2,-1)   # Constant Match Score of 2, mismatch score of -1 (all alphabet)\n",
    "subm.head()"
   ]
  },
  {
   "cell_type": "markdown",
   "id": "68a248ca",
   "metadata": {
    "papermill": {
     "duration": 0.054319,
     "end_time": "2023-05-10T06:28:42.995723",
     "exception": false,
     "start_time": "2023-05-10T06:28:42.941404",
     "status": "completed"
    },
    "tags": []
   },
   "source": [
    "# <div style=\"padding: 30px;color:white;margin:10;font-size:60%;text-align:left;display:fill;border-radius:10px;background-color:#FFFFFF;overflow:hidden;background-color:#E888BB\"><b><span style='color:#FFFFFF'>4 |</span></b> <b>Sequence Alignment</b></div>\n",
    "\n",
    "#### <b><span style='color:#E888BB'>USING BOKEH FOR ALIGNMENT VISUALISATION</span></b>\n",
    "\n",
    "- Thanks to **[@nwheeler443](https://www.kaggle.com/nwheeler443)'s** **[Understanding Phylogenetic Trees](https://www.kaggle.com/nwheeler443/understanding-phylogenetic-trees)** notebook\n",
    "- I've added the Bokeh function into class format (<code>ali_view</code>) & used simple **class inheritence** to add the option to <b>plot class alignments</b> for both the custom class & Biopython\n",
    "- Both Biopython & Bioconductor lack such an awesome feature bokeh gives us, doable with plotly as well (although drains more resources).\n",
    "> - So this is an example where we benefit from using custom classes, making our own modifications as we like\n",
    "> - Over existing libraries as we can **immediately integrate them into our alignment classes code** & only call <code>.view</code>\n",
    "- We can quickly **view very long alignmnents via scrolling**, which is much better printed alignments using a simple operation <code>.view()</code> after we have aligned sequences for <b>MSA</b> & <b>PSA</b>\n",
    "\n",
    "#### <b><span style='color:#E888BB'>COLOUR SCHEMES</span></b>\n",
    "- Although not quite as sophisticated as say **<span style='color:#E888BB'>bioconductor</span>**, **<span style='color:#E888BB'>bokeh</span>** does allow us to customise the background rectangular colours, so we can define our own colourcoding scheme\n",
    "- Custom colourcoding schemes can be added into the static method **<span style='color:#E888BB'>get_colors</span>**, at the moment there are two options:\n",
    "> - **<mark style=\"background-color:#E888BB;color:white;border-radius:5px;opacity:0.9\">general</mark>** : Very general colouring of characters\n",
    "> - **<mark style=\"background-color:#E888BB;color:white;border-radius:5px;opacity:0.9\">charge_aa</mark>** : Colour variation of amino acids based on a simple division **<mark style=\"background-color:#E888BB;color:white;border-radius:5px;opacity:0.9\">Hydrophobic</mark>** **<mark style=\"background-color:#E888BB;color:white;border-radius:5px;opacity:0.9\">Negative</mark>** & **<mark style=\"background-color:#E888BB;color:white;border-radius:5px;opacity:0.9\">Positive</mark>**, more information about **[hydrophobic & polar](https://www2.chem.wisc.edu/deptfiles/genchem/netorial/modules/biomolecules/modules/protein1/prot13.htm)** amino acids\n",
    "- You can add your own colour scheme by adding a new dictionary named <code>clrs</code>. It makes sense set colours that can easily reveal patterns in the current sequence"
   ]
  },
  {
   "cell_type": "markdown",
   "id": "13799b09",
   "metadata": {
    "papermill": {
     "duration": 0.053319,
     "end_time": "2023-05-10T06:28:43.104159",
     "exception": false,
     "start_time": "2023-05-10T06:28:43.050840",
     "status": "completed"
    },
    "tags": []
   },
   "source": [
    "### <b><span style='color:#E888BB'> 4.1 |</span> Alignment Visualisation Class </b>\n",
    "\n",
    "Next, we'll be needing a class that can be used to **<span style='color:#E888BB'>visualise alignment</span>**, so multiple sequence lines:\n",
    "\n",
    "\n",
    "**<mark style=\"background-color:#323232;color:white;border-radius:5px;opacity:0.9\">ATTRIBUTES</mark>**\n",
    "\n",
    "- <code>aln</code> - Stores the alignment\n",
    "- <code>colcod</code> - Colourcoding options\n",
    "\n",
    "**<mark style=\"background-color:#323232;color:white;border-radius:5px;opacity:0.9\">METHODS</mark>**\n",
    "\n",
    "- <code>get_colors</code> - method used to get the **<span style='color:#E888BB'>colour</span>** corresponding to the character (from a predefined dictionary)\n",
    "- <code>view</code> - Create <b>Bokeh</b> gridplot, containing alignments"
   ]
  },
  {
   "cell_type": "markdown",
   "id": "eb249589",
   "metadata": {
    "papermill": {
     "duration": 0.05274,
     "end_time": "2023-05-10T06:28:43.209870",
     "exception": false,
     "start_time": "2023-05-10T06:28:43.157130",
     "status": "completed"
    },
    "tags": []
   },
   "source": [
    "### <b><span style='color:#E888BB'> 4.2 |</span> Alignment Storage/Operations Class </b>\n",
    "\n",
    "Next, we'll need a class for **<span style='color:#E888BB'>storing the alignment</span>** & any subsequent modiciation to the alignment (such as finding the **<span style='color:#E888BB'>consensus</span>**)\n",
    "\n",
    "#### **<span style='color:#E888BB'>STORING & MANAGING ALIGNMENTS</span>**\n",
    "\n",
    "- Having aligned two or more sequences using <b><span style='color:#E888BB'>pairwise or multiple</span></b> sequence alignment, we need a way to store this alignment data\n",
    "- Similar to how we we can store <b><span style='color:#E888BB'>single sequences</span></b> in the <code>SQ</code> class, we need to be able to <b><span style='color:#E888BB'>store sequences which are alligned</span></b> as follows:\n",
    "> **<span style='color:#E888BB'>[SEQUENCE 1]</span>** - ACG**GG**T-**ACG**TTT**C**A <br>\n",
    "> **<span style='color:#E888BB'>[SEQUENCE 2]</span>** - GT**GG**---**ACG**GCC**C**T <br>\n",
    "> ...\n",
    "- Using class <code>ALI</code>, we are able to store the alignment information of two or multiple sequence and do various alignment related operations \n",
    "- The main operation that we need to use with <code>ALI</code> is <code>consensus</code>; which is used to find the most frequently occuring set of character in each column\n",
    "\n",
    "**<mark style=\"background-color:#323232;color:white;border-radius:5px;opacity:0.9\">ATTRIBUTES</mark>**\n",
    "\n",
    "- <code>lst_seq</code> - list of aligned sequences\n",
    "- <code>al_type</code> - alignment sequence type\n",
    "- <code>lst_SQ</code> - list of SQ objects of each sequence in the alignment\n",
    "    \n",
    "**<mark style=\"background-color:#323232;color:white;border-radius:5px;opacity:0.9\">METHODS</mark>**\n",
    "    \n",
    "- <code>__str__</code> - Special method, when using <code>print()</code>, basic sequence print & information\n",
    "- <code>__len__</code> - Special method, when calling <code>len()</code>, shows the alignment length (should all be same)\n",
    "- <code>col</code> - Show column number **n**'s characters\n",
    "- <code>consensus</code> - Find the consesnsus between sequences\n",
    "- <code>view</code> - View Alignment using Bokeh"
   ]
  },
  {
   "cell_type": "markdown",
   "id": "c6add59a",
   "metadata": {
    "papermill": {
     "duration": 0.054355,
     "end_time": "2023-05-10T06:28:43.318882",
     "exception": false,
     "start_time": "2023-05-10T06:28:43.264527",
     "status": "completed"
    },
    "tags": []
   },
   "source": [
    "### <b><span style='color:#E888BB'> 4.3 |</span> ALI Examples Usage </b>\n",
    "\n",
    "- Although it is a class used for **storing stacked sequences after alignment** & used as a secondary class with MSA,PSA\n",
    "- We can show examples of its use using **already aligned** <code>seq1</code>, <code>seq2</code> & <code>seq3</code>"
   ]
  },
  {
   "cell_type": "code",
   "execution_count": 5,
   "id": "c2d69683",
   "metadata": {
    "execution": {
     "iopub.execute_input": "2023-05-10T06:28:43.436584Z",
     "iopub.status.busy": "2023-05-10T06:28:43.435700Z",
     "iopub.status.idle": "2023-05-10T06:28:43.642450Z",
     "shell.execute_reply": "2023-05-10T06:28:43.643198Z",
     "shell.execute_reply.started": "2023-05-10T06:14:00.140450Z"
    },
    "papermill": {
     "duration": 0.267697,
     "end_time": "2023-05-10T06:28:43.643404",
     "exception": false,
     "start_time": "2023-05-10T06:28:43.375707",
     "status": "completed"
    },
    "tags": []
   },
   "outputs": [
    {
     "name": "stdout",
     "output_type": "stream",
     "text": [
      "Return one of the alignments: MHQAIFIYQIGYPLKSGYIQSIRSPEYDNW\n",
      "\n",
      "Return alignmnent column ['M', 'M', 'M']\n",
      "\n",
      "Alignment with 3 rows and 30 columns.\n",
      "MHQAIFIYQIGYPLKSGYIQSIRSPEYDNW\n",
      "MH--IFIYQIGYALKSGYIQSIRSPEY-NW\n",
      "MHQAIFI-QIGYALKSGY-QSIRSPEYDNW\n",
      "\n",
      "Consensus sequence: MHQAIFIYQIGYALKSGYIQSIRSPEYDNW\n",
      "\n",
      "Alignment visualisation w/ bokeh\n"
     ]
    },
    {
     "data": {},
     "metadata": {},
     "output_type": "display_data"
    },
    {
     "data": {
      "application/vnd.holoviews_exec.v0+json": "",
      "text/html": [
       "<div id='1085'>\n",
       "\n",
       "\n",
       "\n",
       "\n",
       "\n",
       "  <div class=\"bk-root\" id=\"4e24f8c9-d250-4046-81e4-6c2e34371b3d\" data-root-id=\"1085\"></div>\n",
       "</div>\n",
       "<script type=\"application/javascript\">(function(root) {\n",
       "  function embed_document(root) {\n",
       "    var docs_json = {\"9baccfb3-d220-493c-b6bc-0316399fb87c\":{\"defs\":[{\"extends\":null,\"module\":null,\"name\":\"ReactiveHTML1\",\"overrides\":[],\"properties\":[]},{\"extends\":null,\"module\":null,\"name\":\"FlexBox1\",\"overrides\":[],\"properties\":[{\"default\":\"flex-start\",\"kind\":null,\"name\":\"align_content\"},{\"default\":\"flex-start\",\"kind\":null,\"name\":\"align_items\"},{\"default\":\"row\",\"kind\":null,\"name\":\"flex_direction\"},{\"default\":\"wrap\",\"kind\":null,\"name\":\"flex_wrap\"},{\"default\":\"flex-start\",\"kind\":null,\"name\":\"justify_content\"}]},{\"extends\":null,\"module\":null,\"name\":\"TemplateActions1\",\"overrides\":[],\"properties\":[{\"default\":0,\"kind\":null,\"name\":\"open_modal\"},{\"default\":0,\"kind\":null,\"name\":\"close_modal\"}]},{\"extends\":null,\"module\":null,\"name\":\"MaterialTemplateActions1\",\"overrides\":[],\"properties\":[{\"default\":0,\"kind\":null,\"name\":\"open_modal\"},{\"default\":0,\"kind\":null,\"name\":\"close_modal\"}]}],\"roots\":{\"references\":[{\"attributes\":{},\"id\":\"1048\",\"type\":\"CategoricalTicker\"},{\"attributes\":{\"children\":[{\"id\":\"1081\"},{\"id\":\"1083\"}]},\"id\":\"1084\",\"type\":\"Column\"},{\"attributes\":{\"below\":[{\"id\":\"1043\"}],\"center\":[{\"id\":\"1046\"},{\"id\":\"1049\"}],\"height\":70,\"left\":[{\"id\":\"1047\"}],\"min_border\":0,\"renderers\":[{\"id\":\"1057\"},{\"id\":\"1059\"}],\"title\":null,\"toolbar\":{\"id\":\"1052\"},\"toolbar_location\":null,\"width\":800,\"x_range\":{\"id\":\"1035\"},\"x_scale\":{\"id\":\"1039\"},\"y_range\":{\"id\":\"1037\"},\"y_scale\":{\"id\":\"1041\"}},\"id\":\"1033\",\"subtype\":\"Figure\",\"type\":\"Plot\"},{\"attributes\":{\"source\":{\"id\":\"1002\"}},\"id\":\"1060\",\"type\":\"CDSView\"},{\"attributes\":{},\"id\":\"1044\",\"type\":\"BasicTicker\"},{\"attributes\":{\"toolbars\":[{\"id\":\"1025\"},{\"id\":\"1052\"}],\"tools\":[{\"id\":\"1021\"},{\"id\":\"1022\"},{\"id\":\"1023\"},{\"id\":\"1024\"},{\"id\":\"1050\"},{\"id\":\"1051\"}]},\"id\":\"1082\",\"type\":\"ProxyToolbar\"},{\"attributes\":{\"toolbar\":{\"id\":\"1082\"},\"toolbar_location\":\"below\"},\"id\":\"1083\",\"type\":\"ToolbarBox\"},{\"attributes\":{\"axis\":{\"id\":\"1043\"},\"coordinates\":null,\"group\":null,\"ticker\":null,\"visible\":false},\"id\":\"1046\",\"type\":\"Grid\"},{\"attributes\":{\"coordinates\":null,\"formatter\":{\"id\":\"1063\"},\"group\":null,\"major_label_policy\":{\"id\":\"1064\"},\"ticker\":{\"id\":\"1018\"},\"visible\":false},\"id\":\"1017\",\"type\":\"LinearAxis\"},{\"attributes\":{},\"id\":\"1076\",\"type\":\"BasicTickFormatter\"},{\"attributes\":{\"tools\":[{\"id\":\"1021\"},{\"id\":\"1022\"},{\"id\":\"1023\"},{\"id\":\"1024\"}]},\"id\":\"1025\",\"type\":\"Toolbar\"},{\"attributes\":{\"axis\":{\"id\":\"1047\"},\"coordinates\":null,\"dimension\":1,\"group\":null,\"ticker\":null,\"visible\":false},\"id\":\"1049\",\"type\":\"Grid\"},{\"attributes\":{},\"id\":\"1074\",\"type\":\"AllLabels\"},{\"attributes\":{\"coordinates\":null,\"formatter\":{\"id\":\"1073\"},\"group\":null,\"major_label_policy\":{\"id\":\"1074\"},\"major_tick_line_width\":0,\"minor_tick_line_width\":0,\"ticker\":{\"id\":\"1048\"}},\"id\":\"1047\",\"type\":\"CategoricalAxis\"},{\"attributes\":{},\"id\":\"1018\",\"type\":\"BasicTicker\"},{\"attributes\":{\"fill_alpha\":{\"value\":0.7},\"fill_color\":{\"field\":\"colors\"},\"height\":{\"value\":1},\"line_color\":{\"value\":null},\"width\":{\"value\":1.0},\"x\":{\"field\":\"x\"},\"y\":{\"field\":\"recty\"}},\"id\":\"1056\",\"type\":\"Rect\"},{\"attributes\":{\"coordinates\":null,\"data_source\":{\"id\":\"1002\"},\"glyph\":{\"id\":\"1055\"},\"group\":null,\"hover_glyph\":null,\"view\":{\"id\":\"1060\"}},\"id\":\"1059\",\"type\":\"GlyphRenderer\"},{\"attributes\":{},\"id\":\"1073\",\"type\":\"CategoricalTickFormatter\"},{\"attributes\":{\"bounds\":\"auto\",\"end\":31},\"id\":\"1003\",\"type\":\"Range1d\"},{\"attributes\":{},\"id\":\"1009\",\"type\":\"LinearScale\"},{\"attributes\":{\"dimensions\":\"width\"},\"id\":\"1050\",\"type\":\"PanTool\"},{\"attributes\":{},\"id\":\"1077\",\"type\":\"AllLabels\"},{\"attributes\":{\"text_align\":{\"value\":\"center\"},\"text_color\":{\"value\":\"black\"},\"text_font_size\":{\"value\":\"9pt\"},\"text_font_style\":{\"value\":\"bold\"},\"x\":{\"field\":\"x\"},\"y\":{\"field\":\"y\"}},\"id\":\"1055\",\"type\":\"Text\"},{\"attributes\":{},\"id\":\"1051\",\"type\":\"ResetTool\"},{\"attributes\":{\"children\":[{\"id\":\"1084\"}],\"margin\":[0,0,0,0],\"name\":\"Row00102\"},\"id\":\"1085\",\"type\":\"Row\"},{\"attributes\":{\"axis\":{\"id\":\"1017\"},\"coordinates\":null,\"dimension\":1,\"group\":null,\"ticker\":null,\"visible\":false},\"id\":\"1020\",\"type\":\"Grid\"},{\"attributes\":{\"reload\":false},\"id\":\"1215\",\"type\":\"panel.models.location.Location\"},{\"attributes\":{\"children\":[[{\"id\":\"1004\"},0,0],[{\"id\":\"1033\"},1,0]]},\"id\":\"1081\",\"type\":\"GridBox\"},{\"attributes\":{\"coordinates\":null,\"data_source\":{\"id\":\"1002\"},\"glyph\":{\"id\":\"1030\"},\"group\":null,\"hover_glyph\":null,\"view\":{\"id\":\"1032\"}},\"id\":\"1031\",\"type\":\"GlyphRenderer\"},{\"attributes\":{\"end\":30},\"id\":\"1035\",\"type\":\"Range1d\"},{\"attributes\":{\"tools\":[{\"id\":\"1050\"},{\"id\":\"1051\"}]},\"id\":\"1052\",\"type\":\"Toolbar\"},{\"attributes\":{\"coordinates\":null,\"data_source\":{\"id\":\"1002\"},\"glyph\":{\"id\":\"1056\"},\"group\":null,\"hover_glyph\":null,\"view\":{\"id\":\"1058\"}},\"id\":\"1057\",\"type\":\"GlyphRenderer\"},{\"attributes\":{\"data\":{\"colors\":[\"#2C679E\",\"#37ADBB\",\"#24CE5D\",\"#2C679E\",\"#2C679E\",\"#2C679E\",\"#2C679E\",\"#37ADBB\",\"#24CE5D\",\"#2C679E\",\"#FF5733\",\"#37ADBB\",\"#E3E710\",\"#2C679E\",\"#D3385E\",\"#24CE5D\",\"#FF5733\",\"#37ADBB\",\"#2C679E\",\"#24CE5D\",\"#24CE5D\",\"#2C679E\",\"#D3385E\",\"#24CE5D\",\"#E3E710\",\"#B842B2\",\"#37ADBB\",\"#B842B2\",\"#24CE5D\",\"#2C679E\",\"#2C679E\",\"#37ADBB\",\"white\",\"white\",\"#2C679E\",\"#2C679E\",\"#2C679E\",\"#37ADBB\",\"#24CE5D\",\"#2C679E\",\"#FF5733\",\"#37ADBB\",\"#2C679E\",\"#2C679E\",\"#D3385E\",\"#24CE5D\",\"#FF5733\",\"#37ADBB\",\"#2C679E\",\"#24CE5D\",\"#24CE5D\",\"#2C679E\",\"#D3385E\",\"#24CE5D\",\"#E3E710\",\"#B842B2\",\"#37ADBB\",\"white\",\"#24CE5D\",\"#2C679E\",\"#2C679E\",\"#37ADBB\",\"#24CE5D\",\"#2C679E\",\"#2C679E\",\"#2C679E\",\"#2C679E\",\"white\",\"#24CE5D\",\"#2C679E\",\"#FF5733\",\"#37ADBB\",\"#2C679E\",\"#2C679E\",\"#D3385E\",\"#24CE5D\",\"#FF5733\",\"#37ADBB\",\"white\",\"#24CE5D\",\"#24CE5D\",\"#2C679E\",\"#D3385E\",\"#24CE5D\",\"#E3E710\",\"#B842B2\",\"#37ADBB\",\"#B842B2\",\"#24CE5D\",\"#2C679E\"],\"recty\":{\"__ndarray__\":\"AAAAAAAA4D8AAAAAAADgPwAAAAAAAOA/AAAAAAAA4D8AAAAAAADgPwAAAAAAAOA/AAAAAAAA4D8AAAAAAADgPwAAAAAAAOA/AAAAAAAA4D8AAAAAAADgPwAAAAAAAOA/AAAAAAAA4D8AAAAAAADgPwAAAAAAAOA/AAAAAAAA4D8AAAAAAADgPwAAAAAAAOA/AAAAAAAA4D8AAAAAAADgPwAAAAAAAOA/AAAAAAAA4D8AAAAAAADgPwAAAAAAAOA/AAAAAAAA4D8AAAAAAADgPwAAAAAAAOA/AAAAAAAA4D8AAAAAAADgPwAAAAAAAOA/AAAAAAAA+D8AAAAAAAD4PwAAAAAAAPg/AAAAAAAA+D8AAAAAAAD4PwAAAAAAAPg/AAAAAAAA+D8AAAAAAAD4PwAAAAAAAPg/AAAAAAAA+D8AAAAAAAD4PwAAAAAAAPg/AAAAAAAA+D8AAAAAAAD4PwAAAAAAAPg/AAAAAAAA+D8AAAAAAAD4PwAAAAAAAPg/AAAAAAAA+D8AAAAAAAD4PwAAAAAAAPg/AAAAAAAA+D8AAAAAAAD4PwAAAAAAAPg/AAAAAAAA+D8AAAAAAAD4PwAAAAAAAPg/AAAAAAAA+D8AAAAAAAD4PwAAAAAAAPg/AAAAAAAABEAAAAAAAAAEQAAAAAAAAARAAAAAAAAABEAAAAAAAAAEQAAAAAAAAARAAAAAAAAABEAAAAAAAAAEQAAAAAAAAARAAAAAAAAABEAAAAAAAAAEQAAAAAAAAARAAAAAAAAABEAAAAAAAAAEQAAAAAAAAARAAAAAAAAABEAAAAAAAAAEQAAAAAAAAARAAAAAAAAABEAAAAAAAAAEQAAAAAAAAARAAAAAAAAABEAAAAAAAAAEQAAAAAAAAARAAAAAAAAABEAAAAAAAAAEQAAAAAAAAARAAAAAAAAABEAAAAAAAAAEQAAAAAAAAARA\",\"dtype\":\"float64\",\"order\":\"little\",\"shape\":[90]},\"text\":[\"M\",\"H\",\"Q\",\"A\",\"I\",\"F\",\"I\",\"Y\",\"Q\",\"I\",\"G\",\"Y\",\"P\",\"L\",\"K\",\"S\",\"G\",\"Y\",\"I\",\"Q\",\"S\",\"I\",\"R\",\"S\",\"P\",\"E\",\"Y\",\"D\",\"N\",\"W\",\"M\",\"H\",\"-\",\"-\",\"I\",\"F\",\"I\",\"Y\",\"Q\",\"I\",\"G\",\"Y\",\"A\",\"L\",\"K\",\"S\",\"G\",\"Y\",\"I\",\"Q\",\"S\",\"I\",\"R\",\"S\",\"P\",\"E\",\"Y\",\"-\",\"N\",\"W\",\"M\",\"H\",\"Q\",\"A\",\"I\",\"F\",\"I\",\"-\",\"Q\",\"I\",\"G\",\"Y\",\"A\",\"L\",\"K\",\"S\",\"G\",\"Y\",\"-\",\"Q\",\"S\",\"I\",\"R\",\"S\",\"P\",\"E\",\"Y\",\"D\",\"N\",\"W\"],\"x\":{\"__ndarray__\":\"AAAAAAAA4D8AAAAAAAD4PwAAAAAAAARAAAAAAAAADEAAAAAAAAASQAAAAAAAABZAAAAAAAAAGkAAAAAAAAAeQAAAAAAAACFAAAAAAAAAI0AAAAAAAAAlQAAAAAAAACdAAAAAAAAAKUAAAAAAAAArQAAAAAAAAC1AAAAAAAAAL0AAAAAAAIAwQAAAAAAAgDFAAAAAAACAMkAAAAAAAIAzQAAAAAAAgDRAAAAAAACANUAAAAAAAIA2QAAAAAAAgDdAAAAAAACAOEAAAAAAAIA5QAAAAAAAgDpAAAAAAACAO0AAAAAAAIA8QAAAAAAAgD1AAAAAAAAA4D8AAAAAAAD4PwAAAAAAAARAAAAAAAAADEAAAAAAAAASQAAAAAAAABZAAAAAAAAAGkAAAAAAAAAeQAAAAAAAACFAAAAAAAAAI0AAAAAAAAAlQAAAAAAAACdAAAAAAAAAKUAAAAAAAAArQAAAAAAAAC1AAAAAAAAAL0AAAAAAAIAwQAAAAAAAgDFAAAAAAACAMkAAAAAAAIAzQAAAAAAAgDRAAAAAAACANUAAAAAAAIA2QAAAAAAAgDdAAAAAAACAOEAAAAAAAIA5QAAAAAAAgDpAAAAAAACAO0AAAAAAAIA8QAAAAAAAgD1AAAAAAAAA4D8AAAAAAAD4PwAAAAAAAARAAAAAAAAADEAAAAAAAAASQAAAAAAAABZAAAAAAAAAGkAAAAAAAAAeQAAAAAAAACFAAAAAAAAAI0AAAAAAAAAlQAAAAAAAACdAAAAAAAAAKUAAAAAAAAArQAAAAAAAAC1AAAAAAAAAL0AAAAAAAIAwQAAAAAAAgDFAAAAAAACAMkAAAAAAAIAzQAAAAAAAgDRAAAAAAACANUAAAAAAAIA2QAAAAAAAgDdAAAAAAACAOEAAAAAAAIA5QAAAAAAAgDpAAAAAAACAO0AAAAAAAIA8QAAAAAAAgD1A\",\"dtype\":\"float64\",\"order\":\"little\",\"shape\":[90]},\"y\":[0,0,0,0,0,0,0,0,0,0,0,0,0,0,0,0,0,0,0,0,0,0,0,0,0,0,0,0,0,0,1,1,1,1,1,1,1,1,1,1,1,1,1,1,1,1,1,1,1,1,1,1,1,1,1,1,1,1,1,1,2,2,2,2,2,2,2,2,2,2,2,2,2,2,2,2,2,2,2,2,2,2,2,2,2,2,2,2,2,2]},\"selected\":{\"id\":\"1069\"},\"selection_policy\":{\"id\":\"1068\"}},\"id\":\"1002\",\"type\":\"ColumnDataSource\"},{\"attributes\":{},\"id\":\"1063\",\"type\":\"BasicTickFormatter\"},{\"attributes\":{},\"id\":\"1068\",\"type\":\"UnionRenderers\"},{\"attributes\":{},\"id\":\"1041\",\"type\":\"CategoricalScale\"},{\"attributes\":{},\"id\":\"1023\",\"type\":\"ResetTool\"},{\"attributes\":{},\"id\":\"1064\",\"type\":\"AllLabels\"},{\"attributes\":{\"axis\":{\"id\":\"1013\"},\"coordinates\":null,\"group\":null,\"ticker\":null,\"visible\":false},\"id\":\"1016\",\"type\":\"Grid\"},{\"attributes\":{\"dimensions\":\"width\"},\"id\":\"1022\",\"type\":\"WheelZoomTool\"},{\"attributes\":{\"client_comm_id\":\"1a0e97af02dc435d9aaa78e932f194cd\",\"comm_id\":\"0d39dfe2db81485893e0d9b5a411c313\",\"plot_id\":\"1085\"},\"id\":\"1166\",\"type\":\"panel.models.comm_manager.CommManager\"},{\"attributes\":{\"fill_alpha\":{\"value\":0.7},\"fill_color\":{\"field\":\"colors\"},\"height\":{\"value\":0.5},\"line_color\":{\"value\":null},\"width\":{\"value\":1},\"x\":{\"field\":\"x\"},\"y\":{\"field\":\"recty\"}},\"id\":\"1030\",\"type\":\"Rect\"},{\"attributes\":{\"end\":3},\"id\":\"1007\",\"type\":\"Range1d\"},{\"attributes\":{\"factors\":[\"sequence0\",\"sequence1\",\"sequence2\"]},\"id\":\"1037\",\"type\":\"FactorRange\"},{\"attributes\":{\"dimensions\":\"width\"},\"id\":\"1021\",\"type\":\"PanTool\"},{\"attributes\":{},\"id\":\"1024\",\"type\":\"SaveTool\"},{\"attributes\":{},\"id\":\"1066\",\"type\":\"BasicTickFormatter\"},{\"attributes\":{},\"id\":\"1069\",\"type\":\"Selection\"},{\"attributes\":{},\"id\":\"1014\",\"type\":\"BasicTicker\"},{\"attributes\":{\"below\":[{\"id\":\"1013\"}],\"center\":[{\"id\":\"1016\"},{\"id\":\"1020\"}],\"height\":50,\"left\":[{\"id\":\"1017\"}],\"min_border\":0,\"renderers\":[{\"id\":\"1031\"}],\"title\":null,\"toolbar\":{\"id\":\"1025\"},\"toolbar_location\":null,\"width\":800,\"x_range\":{\"id\":\"1003\"},\"x_scale\":{\"id\":\"1009\"},\"y_range\":{\"id\":\"1007\"},\"y_scale\":{\"id\":\"1011\"}},\"id\":\"1004\",\"subtype\":\"Figure\",\"type\":\"Plot\"},{\"attributes\":{\"source\":{\"id\":\"1002\"}},\"id\":\"1032\",\"type\":\"CDSView\"},{\"attributes\":{},\"id\":\"1067\",\"type\":\"AllLabels\"},{\"attributes\":{},\"id\":\"1011\",\"type\":\"LinearScale\"},{\"attributes\":{},\"id\":\"1039\",\"type\":\"LinearScale\"},{\"attributes\":{\"source\":{\"id\":\"1002\"}},\"id\":\"1058\",\"type\":\"CDSView\"},{\"attributes\":{\"coordinates\":null,\"formatter\":{\"id\":\"1066\"},\"group\":null,\"major_label_policy\":{\"id\":\"1067\"},\"ticker\":{\"id\":\"1014\"}},\"id\":\"1013\",\"type\":\"LinearAxis\"},{\"attributes\":{\"coordinates\":null,\"formatter\":{\"id\":\"1076\"},\"group\":null,\"major_label_policy\":{\"id\":\"1077\"},\"major_label_text_font_style\":\"bold\",\"ticker\":{\"id\":\"1044\"}},\"id\":\"1043\",\"type\":\"LinearAxis\"}],\"root_ids\":[\"1085\",\"1166\",\"1215\"]},\"title\":\"Bokeh Application\",\"version\":\"2.4.0\"}};\n",
       "    var render_items = [{\"docid\":\"9baccfb3-d220-493c-b6bc-0316399fb87c\",\"root_ids\":[\"1085\"],\"roots\":{\"1085\":\"4e24f8c9-d250-4046-81e4-6c2e34371b3d\"}}];\n",
       "    root.Bokeh.embed.embed_items_notebook(docs_json, render_items);\n",
       "  }\n",
       "  if (root.Bokeh !== undefined && root.Bokeh.Panel !== undefined) {\n",
       "    embed_document(root);\n",
       "  } else {\n",
       "    var attempts = 0;\n",
       "    var timer = setInterval(function(root) {\n",
       "      if (root.Bokeh !== undefined && root.Bokeh.Panel !== undefined) {\n",
       "        clearInterval(timer);\n",
       "        embed_document(root);\n",
       "      } else if (document.readyState == \"complete\") {\n",
       "        attempts++;\n",
       "        if (attempts > 200) {\n",
       "          clearInterval(timer);\n",
       "          console.log(\"Bokeh: ERROR: Unable to run BokehJS code because BokehJS library is missing\");\n",
       "        }\n",
       "      }\n",
       "    }, 25, root)\n",
       "  }\n",
       "})(window);</script>"
      ],
      "text/plain": [
       "Bokeh(Column)"
      ]
     },
     "metadata": {
      "application/vnd.holoviews_exec.v0+json": {
       "id": "1085"
      }
     },
     "output_type": "display_data"
    }
   ],
   "source": [
    "# Having aligned three protein sequences we get \n",
    "seq1 = \"MHQAIFIYQIGYPLKSGYIQSIRSPEYDNW\"\n",
    "seq2 = \"MH--IFIYQIGYALKSGYIQSIRSPEY-NW\"\n",
    "seq3 = \"MHQAIFI-QIGYALKSGY-QSIRSPEYDNW\"\n",
    "\n",
    "# define an alignment (done during psa,msa)\n",
    "alig2 = ALI(lst_seqs = [seq1,seq2,seq3],\n",
    "             al_type = 'aa')\n",
    "\n",
    "print(f'Return one of the alignments: {alig2[0]}\\n')\n",
    "print(f'Return alignmnent column {alig2.col(0)}\\n')\n",
    "\n",
    "# print alignment via print\n",
    "print(alig2)\n",
    "\n",
    "print(f'Consensus sequence: {alig2.consensus()}')\n",
    "\n",
    "print(f'\\nAlignment visualisation w/ bokeh')\n",
    "alig2.view()"
   ]
  },
  {
   "cell_type": "markdown",
   "id": "552b2cfe",
   "metadata": {
    "papermill": {
     "duration": 0.056158,
     "end_time": "2023-05-10T06:28:43.757101",
     "exception": false,
     "start_time": "2023-05-10T06:28:43.700943",
     "status": "completed"
    },
    "tags": []
   },
   "source": [
    "# <div style=\"padding: 30px;color:white;margin:10;font-size:60%;text-align:left;display:fill;border-radius:10px;background-color:#FFFFFF;overflow:hidden;background-color:#E888BB\"><b><span style='color:#FFFFFF'>5 |</span></b> <b>Pairwise Sequence Alignment</b></div>\n",
    "\n",
    "### <b><span style='color:#E888BB'> 5.1 |</span> Types of Pairwise Sequence Alignments </b>\n",
    "\n",
    "- Two main classes of sequence alignments exist, **<span style='color:#E888BB'>global</span>** & **<span style='color:#E888BB'>local sequence alignment</span>**, as mentioned in **<span style='color:#E888BB'>Section 1.5</span>**\n",
    "- A **[Dynamic Programming (DP)](https://developer.ibm.com/articles/j-seqalign/)** approach is often used for this problem, both algorithms mentioned here use this approach & it is also used in the <code>pairwise2</code> module of **[biopython](https://biopython.org/docs/1.75/api/Bio.pairwise2.html)**\n",
    "- All algorithms aim to achieve the same thing & differ mainly in speed of processing, DP is generally not used for a very sizable number of sequences, however two sequences are more than fine\n",
    "\n",
    "### **<span style='color:#E888BB'>GLOBAL</span> SEQUENCE ALIGNMENT**\n",
    "\n",
    "**<span style='color:#E888BB'>THE AIM</span>** | We want to **<span style='color:#E888BB'>align the two provided sequences completely (entire length)</span>**\n",
    "> - It is therefore best for highly similar sequences of **approximately the same length**\n",
    "> - Popular global sequence alignment algorithm; **<span style='color:#E888BB'>Needleman-Wunsch</span>**\n",
    "\n",
    "### **<span style='color:#E888BB'>LOCAL </span> SEQUENCE ALIGNMENT**\n",
    "**<span style='color:#E888BB'>THE AIM </span>** | We want to **<span style='color:#E888BB'>find a part of both segments</span>**, which **<span style='color:#E888BB'>has the best alignment</span>**\n",
    "> - Local alignment **<span style='color:#E888BB'>searches for the most similar regions</span>** in the two sequences\n",
    "> - It is best used for sequences that share some degree of similarity or of different lengths\n",
    "> - Popular local sequence alignment algorithm; **<span style='color:#E888BB'>Smith-Waterman</span>**"
   ]
  },
  {
   "cell_type": "markdown",
   "id": "3937c21f",
   "metadata": {
    "papermill": {
     "duration": 0.054779,
     "end_time": "2023-05-10T06:28:43.867808",
     "exception": false,
     "start_time": "2023-05-10T06:28:43.813029",
     "status": "completed"
    },
    "tags": []
   },
   "source": [
    "### <b><span style='color:#E888BB'> 5.2 |</span> Needleman-Wunsch Algorithm </b>\n",
    "\n",
    "### **<span style='color:#E888BB'>STEPS IN THE ALGORITHM</span>**\n",
    "\n",
    "**<span style='color:#E888BB'>Needleman-Wunsch Algorithm</span>** consists of three steps:\n",
    "> - (1) Initialisation of the **<span style='color:#E888BB'>Score Matrix</span>** (<code>.SM</code>)\n",
    "> - (2) Calculation of the scores and filling of the **<span style='color:#E888BB'>Traceback Matrix</span>** (<code>.TM</code>)\n",
    "> - (3) **<span style='color:#E888BB'>Realignment</span>** | Deducing the alignment from the Traceback Matrix (<code>.TM</code>)\n",
    "\n",
    "### **RELATING TO <span style='color:#E888BB'> SCORING MATRIX (SM)</span>**\n",
    "\n",
    "- The purpose of the algorithm is to **<span style='color:#E888BB'>fill the score matrix</span>**, <code>.SM</code> \n",
    "- The main idea of the algorithm is that this matrix <code>.SM</code> can be **<span style='color:#E888BB'>filled cell by cell</span>**, **<span style='color:#E888BB'>using adjacent cells to reach the value of the target cell</span>**.\n",
    "- Initialising the top row & left column, we have an **<span style='color:#E888BB'>initial condition</span>** & move towards the bottom right corner, which is our target value.\n",
    "> - For global alignment, the initialisation values are set to g x n (number of columns in the alignment x gap)\n",
    "\n",
    "**<mark style=\"background-color:#E888BB;color:white;border-radius:5px;opacity:0.9\">SCORE MATRIX</mark>** | The reccurence relation used to fill the scoring matrix, moving from top left to bottom right:\n",
    "\n",
    "> - v1 = S[i-1,j-1] + sm(a[i]b[j])\n",
    "> - v2 = S_[i-1,j] + g\n",
    "> - v3 = S_[i,j-1] + g\n",
    "> -  S[i][j] = max(v1,v2,v3)\n",
    "\n",
    "### **RELATING TO <span style='color:#E888BB'>TRACE-BACK MATRIX (TM)</span>**\n",
    "- Encoding a <b>three direction constants/alphabets</b>, we want to also **<span style='color:#E888BB'>keep track of our alignment pathways</span>** we take when filling out the <b>SM</b>\n",
    "- The information is stored in the **<span style='color:#E888BB'>traceback matrix</span>**, as we are scoring. "
   ]
  },
  {
   "cell_type": "markdown",
   "id": "808b3854",
   "metadata": {
    "papermill": {
     "duration": 0.054679,
     "end_time": "2023-05-10T06:28:43.977206",
     "exception": false,
     "start_time": "2023-05-10T06:28:43.922527",
     "status": "completed"
    },
    "tags": []
   },
   "source": [
    "### <b><span style='color:#E888BB'> 5.3 |</span> Smith-Waterman Algorithm</b>\n",
    "\n",
    "- We are interested in the best subset alignment among the two sequences of interest, that **<span style='color:#E888BB'>maximises the objective function</span>**, ie. score\n",
    "- The **<span style='color:#E888BB'>algorithm consists of the same three steps</span>** as outied above:\n",
    "> - (1) Initialisation of the **<span style='color:#E888BB'>Score Matrix</span>** (<code>.SM</code>)\n",
    "> - (2) Calculation of the scores and filling of the **<span style='color:#E888BB'>Traceback Matrix</span>** (<code>.TM</code>)\n",
    "> - (3) **<span style='color:#E888BB'>Realignment</span>** | Deducing the alignment from the Traceback Matrix (<code>.TM</code>)\n",
    "- The main idea of the algorithm is that this matrix <code>.SM</code> can be **<span style='color:#E888BB'>filled cell by cell</span>**, **<span style='color:#E888BB'>using adjacent cells to reach the value of the target cell</span>**, similar to the algorithm above.\n",
    "\n",
    "**<mark style=\"background-color:#323232;color:white;border-radius:5px;opacity:0.9\">SCORE MATRIX</mark>** | The reccurence relation used to fill the scoring matrix, moving from top left to bottom right:\n",
    "\n",
    "> - v1 = S[i-1,j-1] + SM(a[i],b[j])\n",
    "> - v2 = S[i-1,j] + g\n",
    "> - v3 = S[i,j-1] + g\n",
    "> - S[i][j] = max(v1,v2,v3,0)\n",
    "\n",
    "- If the best alternative from the three considered before leads to a negative score, this means that in that position the best is to restart the alignment from this position onward, ignoring the previous parts of the sequence\n",
    "- Initialising the top row & left column, we have an **<span style='color:#E888BB'>initial condition</span>** & move towards the bottom right corner, which is our target value.\n",
    "> - For local alignment the initialisation values are set to 0"
   ]
  },
  {
   "cell_type": "markdown",
   "id": "ccb29e2b",
   "metadata": {
    "papermill": {
     "duration": 0.054461,
     "end_time": "2023-05-10T06:28:44.086807",
     "exception": false,
     "start_time": "2023-05-10T06:28:44.032346",
     "status": "completed"
    },
    "tags": []
   },
   "source": [
    "### <b><span style='color:#E888BB'> 5.4 |</span> Pairwise Sequence Alignment Class </b>\n",
    "\n",
    "- Having defined the information about **<span style='color:#E888BB'>pairwise</span>** sequence alignment above, we can define the main class:\n",
    "\n",
    "**<mark style=\"background-color:#323232;color:white;border-radius:5px;opacity:0.9\">ATTRIBUTES</mark>**\n",
    "\n",
    "- <code>seq1</code> - Storage of sequence #1 (<code>SQ</code> class) \n",
    "- <code>seq2</code> - Storage of sequence #2 (<code>SQ</code> class) \n",
    "- <code>g</code> - Input requires storage of a gap penalty (constant value)\n",
    "- <code>subm</code> - Input requires storage of a substitution matrix (needs to be set before)\n",
    "\n",
    "**<mark style=\"background-color:#323232;color:white;border-radius:5px;opacity:0.9\">METHODS</mark>**\n",
    "\n",
    "- <code>maxidx</code> - Find index of max value\n",
    "- <code>score_pos</code> - If a gap was not defined, set the score value from \n",
    "- <code>initial_condition</code> - Set initial scoring & traceback matrix conditions\n",
    "- <code>nW</code> - Calculate scoring & traceback matrices\n",
    "- <code>realign</code> - Realign sequence from the traceback matrix & store in <code>ALI</code> class\n",
    "- <code>view</code> - View pairwise sequence alignment"
   ]
  },
  {
   "cell_type": "markdown",
   "id": "dcaf7c1c",
   "metadata": {
    "papermill": {
     "duration": 0.055639,
     "end_time": "2023-05-10T06:28:44.197579",
     "exception": false,
     "start_time": "2023-05-10T06:28:44.141940",
     "status": "completed"
    },
    "tags": []
   },
   "source": [
    "### <b><span style='color:#E888BB'> 5.5 |</span> Global Alignment Walkthrough </b>\n",
    "\n",
    "- As mentioned above, the algorithm revolves around filling two matrices **<span style='color:#E888BB'>scoring & traceback</span>** matrices\n",
    "- To start iterating from the top left corner to the bottom right, we need to initialise the top-left corner of both matrices\n",
    "\n",
    "### **<mark style=\"background-color:#323232;color:white;border-radius:5px;opacity:0.9\">NEEDLEMAN-WUNSCH</mark>**  **| INITIAL CONDITION EXAMPLE**\n",
    "\n",
    "- As stated above, the algorithm requires some starting condition, which involves the use of the <code>g</code> values.\n",
    "- In the Needleman-Wunsch case, we initialise the row & column by 2x<code>g</code> x n except the top left corner."
   ]
  },
  {
   "cell_type": "code",
   "execution_count": 6,
   "id": "e23826ce",
   "metadata": {
    "execution": {
     "iopub.execute_input": "2023-05-10T06:28:44.315638Z",
     "iopub.status.busy": "2023-05-10T06:28:44.314768Z",
     "iopub.status.idle": "2023-05-10T06:28:44.322207Z",
     "shell.execute_reply": "2023-05-10T06:28:44.322838Z",
     "shell.execute_reply.started": "2023-05-10T06:14:00.354771Z"
    },
    "papermill": {
     "duration": 0.067566,
     "end_time": "2023-05-10T06:28:44.323039",
     "exception": false,
     "start_time": "2023-05-10T06:28:44.255473",
     "status": "completed"
    },
    "tags": []
   },
   "outputs": [],
   "source": [
    "seq3 = SQ(seq=\"KPFKRTCYKPF\",seq_type='aa')\n",
    "seq4 = SQ(seq=\"AKPKKPYI\",seq_type='aa')\n",
    "\n",
    "# Define Substitution Matrix \n",
    "blosum62 = '/kaggle/input/bioinformatics/substitution_matrices/blosum62.mat'\n",
    "\n",
    "# # Global Sequence Alignment\n",
    "gpsa_prot = PSA(seqs=[seq3,seq4],\n",
    "                subm=SUBM().read(blosum62),\n",
    "                g=-2)     \n",
    "\n",
    "gpsa_prot.initial_condition(ids='nW') # by default included in .nW method "
   ]
  },
  {
   "cell_type": "markdown",
   "id": "78f80bc4",
   "metadata": {
    "papermill": {
     "duration": 0.073797,
     "end_time": "2023-05-10T06:28:44.462351",
     "exception": false,
     "start_time": "2023-05-10T06:28:44.388554",
     "status": "completed"
    },
    "tags": []
   },
   "source": [
    "### **<mark style=\"background-color:#323232;color:white;border-radius:5px;opacity:0.9\">NEEDLEMAN-WUNSCH</mark>**  **| FILLED SM & TM MATRICES**\n",
    "- As per the scoring rules outlined in **<mark style=\"background-color:#323232;color:white;border-radius:5px;opacity:0.9\">Section 5.3</mark>**, we obtain the filled scoring matrix, for the global alignment\n",
    "- We're only interested in the value at the bottom right hand corner; **<span style='color:#E888BB'>global alignment score</span>**"
   ]
  },
  {
   "cell_type": "code",
   "execution_count": 7,
   "id": "162b44a4",
   "metadata": {
    "execution": {
     "iopub.execute_input": "2023-05-10T06:28:44.582628Z",
     "iopub.status.busy": "2023-05-10T06:28:44.581798Z",
     "iopub.status.idle": "2023-05-10T06:28:44.590577Z",
     "shell.execute_reply": "2023-05-10T06:28:44.591290Z",
     "shell.execute_reply.started": "2023-05-10T06:14:00.368280Z"
    },
    "papermill": {
     "duration": 0.069532,
     "end_time": "2023-05-10T06:28:44.591503",
     "exception": false,
     "start_time": "2023-05-10T06:28:44.521971",
     "status": "completed"
    },
    "tags": []
   },
   "outputs": [
    {
     "name": "stdout",
     "output_type": "stream",
     "text": [
      "Finalised Score Matrix\n"
     ]
    }
   ],
   "source": [
    "sm = SUBM()\n",
    "sm.read(blosum62)\n",
    "\n",
    "gpsa_prot = PSA(seqs=[seq3,seq4],\n",
    "                subm=sm,\n",
    "                g=-2)    \n",
    "\n",
    "gpsa_prot.nW()\n",
    "print('Finalised Score Matrix')"
   ]
  },
  {
   "cell_type": "code",
   "execution_count": 8,
   "id": "30e84ff4",
   "metadata": {
    "execution": {
     "iopub.execute_input": "2023-05-10T06:28:44.714407Z",
     "iopub.status.busy": "2023-05-10T06:28:44.713375Z",
     "iopub.status.idle": "2023-05-10T06:28:44.717203Z",
     "shell.execute_reply": "2023-05-10T06:28:44.716561Z",
     "shell.execute_reply.started": "2023-05-10T06:14:00.383441Z"
    },
    "papermill": {
     "duration": 0.067682,
     "end_time": "2023-05-10T06:28:44.717360",
     "exception": false,
     "start_time": "2023-05-10T06:28:44.649678",
     "status": "completed"
    },
    "tags": []
   },
   "outputs": [
    {
     "name": "stdout",
     "output_type": "stream",
     "text": [
      "global alignment score: 7\n"
     ]
    }
   ],
   "source": [
    "print(f'global alignment score: {gpsa_prot.score}')"
   ]
  },
  {
   "cell_type": "code",
   "execution_count": 9,
   "id": "2c0bce3b",
   "metadata": {
    "execution": {
     "iopub.execute_input": "2023-05-10T06:28:44.837552Z",
     "iopub.status.busy": "2023-05-10T06:28:44.836736Z",
     "iopub.status.idle": "2023-05-10T06:28:44.864710Z",
     "shell.execute_reply": "2023-05-10T06:28:44.864053Z",
     "shell.execute_reply.started": "2023-05-10T06:14:00.395274Z"
    },
    "papermill": {
     "duration": 0.090076,
     "end_time": "2023-05-10T06:28:44.864882",
     "exception": false,
     "start_time": "2023-05-10T06:28:44.774806",
     "status": "completed"
    },
    "tags": []
   },
   "outputs": [
    {
     "data": {
      "text/html": [
       "<div>\n",
       "<style scoped>\n",
       "    .dataframe tbody tr th:only-of-type {\n",
       "        vertical-align: middle;\n",
       "    }\n",
       "\n",
       "    .dataframe tbody tr th {\n",
       "        vertical-align: top;\n",
       "    }\n",
       "\n",
       "    .dataframe thead th {\n",
       "        text-align: right;\n",
       "    }\n",
       "</style>\n",
       "<table border=\"1\" class=\"dataframe\">\n",
       "  <thead>\n",
       "    <tr style=\"text-align: right;\">\n",
       "      <th></th>\n",
       "      <th>gap</th>\n",
       "      <th>A</th>\n",
       "      <th>K</th>\n",
       "      <th>P</th>\n",
       "      <th>K</th>\n",
       "      <th>K</th>\n",
       "      <th>P</th>\n",
       "      <th>Y</th>\n",
       "      <th>I</th>\n",
       "    </tr>\n",
       "  </thead>\n",
       "  <tbody>\n",
       "    <tr>\n",
       "      <th>gap</th>\n",
       "      <td>0</td>\n",
       "      <td>3</td>\n",
       "      <td>3</td>\n",
       "      <td>3</td>\n",
       "      <td>3</td>\n",
       "      <td>3</td>\n",
       "      <td>3</td>\n",
       "      <td>3</td>\n",
       "      <td>3</td>\n",
       "    </tr>\n",
       "    <tr>\n",
       "      <th>K</th>\n",
       "      <td>2</td>\n",
       "      <td>1</td>\n",
       "      <td>1</td>\n",
       "      <td>3</td>\n",
       "      <td>3</td>\n",
       "      <td>3</td>\n",
       "      <td>3</td>\n",
       "      <td>3</td>\n",
       "      <td>3</td>\n",
       "    </tr>\n",
       "    <tr>\n",
       "      <th>P</th>\n",
       "      <td>2</td>\n",
       "      <td>2</td>\n",
       "      <td>2</td>\n",
       "      <td>1</td>\n",
       "      <td>3</td>\n",
       "      <td>3</td>\n",
       "      <td>3</td>\n",
       "      <td>3</td>\n",
       "      <td>3</td>\n",
       "    </tr>\n",
       "    <tr>\n",
       "      <th>F</th>\n",
       "      <td>2</td>\n",
       "      <td>2</td>\n",
       "      <td>2</td>\n",
       "      <td>2</td>\n",
       "      <td>1</td>\n",
       "      <td>3</td>\n",
       "      <td>3</td>\n",
       "      <td>1</td>\n",
       "      <td>3</td>\n",
       "    </tr>\n",
       "    <tr>\n",
       "      <th>K</th>\n",
       "      <td>2</td>\n",
       "      <td>2</td>\n",
       "      <td>1</td>\n",
       "      <td>3</td>\n",
       "      <td>1</td>\n",
       "      <td>1</td>\n",
       "      <td>3</td>\n",
       "      <td>3</td>\n",
       "      <td>3</td>\n",
       "    </tr>\n",
       "    <tr>\n",
       "      <th>R</th>\n",
       "      <td>2</td>\n",
       "      <td>2</td>\n",
       "      <td>2</td>\n",
       "      <td>1</td>\n",
       "      <td>2</td>\n",
       "      <td>1</td>\n",
       "      <td>3</td>\n",
       "      <td>3</td>\n",
       "      <td>3</td>\n",
       "    </tr>\n",
       "    <tr>\n",
       "      <th>T</th>\n",
       "      <td>2</td>\n",
       "      <td>1</td>\n",
       "      <td>2</td>\n",
       "      <td>1</td>\n",
       "      <td>2</td>\n",
       "      <td>2</td>\n",
       "      <td>1</td>\n",
       "      <td>3</td>\n",
       "      <td>3</td>\n",
       "    </tr>\n",
       "    <tr>\n",
       "      <th>C</th>\n",
       "      <td>2</td>\n",
       "      <td>2</td>\n",
       "      <td>2</td>\n",
       "      <td>2</td>\n",
       "      <td>2</td>\n",
       "      <td>2</td>\n",
       "      <td>2</td>\n",
       "      <td>1</td>\n",
       "      <td>1</td>\n",
       "    </tr>\n",
       "    <tr>\n",
       "      <th>Y</th>\n",
       "      <td>2</td>\n",
       "      <td>2</td>\n",
       "      <td>2</td>\n",
       "      <td>2</td>\n",
       "      <td>2</td>\n",
       "      <td>2</td>\n",
       "      <td>2</td>\n",
       "      <td>1</td>\n",
       "      <td>3</td>\n",
       "    </tr>\n",
       "    <tr>\n",
       "      <th>K</th>\n",
       "      <td>2</td>\n",
       "      <td>2</td>\n",
       "      <td>1</td>\n",
       "      <td>2</td>\n",
       "      <td>1</td>\n",
       "      <td>1</td>\n",
       "      <td>3</td>\n",
       "      <td>2</td>\n",
       "      <td>1</td>\n",
       "    </tr>\n",
       "    <tr>\n",
       "      <th>P</th>\n",
       "      <td>2</td>\n",
       "      <td>2</td>\n",
       "      <td>2</td>\n",
       "      <td>1</td>\n",
       "      <td>2</td>\n",
       "      <td>2</td>\n",
       "      <td>1</td>\n",
       "      <td>2</td>\n",
       "      <td>2</td>\n",
       "    </tr>\n",
       "    <tr>\n",
       "      <th>F</th>\n",
       "      <td>2</td>\n",
       "      <td>2</td>\n",
       "      <td>2</td>\n",
       "      <td>2</td>\n",
       "      <td>2</td>\n",
       "      <td>2</td>\n",
       "      <td>2</td>\n",
       "      <td>2</td>\n",
       "      <td>1</td>\n",
       "    </tr>\n",
       "  </tbody>\n",
       "</table>\n",
       "</div>"
      ],
      "text/plain": [
       "     gap  A  K  P  K  K  P  Y  I\n",
       "gap    0  3  3  3  3  3  3  3  3\n",
       "K      2  1  1  3  3  3  3  3  3\n",
       "P      2  2  2  1  3  3  3  3  3\n",
       "F      2  2  2  2  1  3  3  1  3\n",
       "K      2  2  1  3  1  1  3  3  3\n",
       "R      2  2  2  1  2  1  3  3  3\n",
       "T      2  1  2  1  2  2  1  3  3\n",
       "C      2  2  2  2  2  2  2  1  1\n",
       "Y      2  2  2  2  2  2  2  1  3\n",
       "K      2  2  1  2  1  1  3  2  1\n",
       "P      2  2  2  1  2  2  1  2  2\n",
       "F      2  2  2  2  2  2  2  2  1"
      ]
     },
     "metadata": {},
     "output_type": "display_data"
    }
   ],
   "source": [
    "# Traceback Movement interpretation/mapping\n",
    "# 0 - done, 1 - diagonal, 2 - up, 3 - left\n",
    "gpsa_prot.pprint(ids='TM')"
   ]
  },
  {
   "cell_type": "markdown",
   "id": "dadd6a3d",
   "metadata": {
    "papermill": {
     "duration": 0.05972,
     "end_time": "2023-05-10T06:28:44.983055",
     "exception": false,
     "start_time": "2023-05-10T06:28:44.923335",
     "status": "completed"
    },
    "tags": []
   },
   "source": [
    " ### **<mark style=\"background-color:#323232;color:white;border-radius:5px;opacity:0.9\">NEEDLEMAN-WUNSCH</mark>**  **| RECONSTRUCTING ALIGNMENT**\n",
    " - In global alignment, to realign the two sequences, we start at the **<span style='color:#E888BB'>bottom right hand corner</span>** (the global score, which was 7)\n",
    " - In literature, typically you'd find arrows as an indicator of how to realign, but **<span style='color:#E888BB'>uniquely set numbers</span>** work as well:\n",
    " > 0 - done, 1 - diagonal, 2 - up, 3 - left\n",
    " - The alignment is **<span style='color:#E888BB'>built in reverse order</span>**, as we start at the very end corner, so here are the simple rules:\n",
    " > - If we move diagonally (1), we set the column to both of the character\n",
    " > - If we move vertically (up/2), the column will contain the first sequence character & a gap in the second\n",
    " > - If we move horizontally (left/3), the column will contain the second sequence character & a gap in the first"
   ]
  },
  {
   "cell_type": "code",
   "execution_count": 10,
   "id": "e16d248b",
   "metadata": {
    "execution": {
     "iopub.execute_input": "2023-05-10T06:28:45.104766Z",
     "iopub.status.busy": "2023-05-10T06:28:45.103989Z",
     "iopub.status.idle": "2023-05-10T06:28:45.109790Z",
     "shell.execute_reply": "2023-05-10T06:28:45.110446Z",
     "shell.execute_reply.started": "2023-05-10T06:14:00.438318Z"
    },
    "papermill": {
     "duration": 0.067828,
     "end_time": "2023-05-10T06:28:45.110657",
     "exception": false,
     "start_time": "2023-05-10T06:28:45.042829",
     "status": "completed"
    },
    "tags": []
   },
   "outputs": [
    {
     "name": "stdout",
     "output_type": "stream",
     "text": [
      "Alignment with 2 rows and 12 columns.\n",
      "-KPFKRTCYKPF\n",
      "AKP-KKP-Y--I\n",
      "\n"
     ]
    }
   ],
   "source": [
    "realign = gpsa_prot.realign() # deduce alignment from TM matrix    \n",
    "print(realign)"
   ]
  },
  {
   "cell_type": "markdown",
   "id": "f031fb02",
   "metadata": {
    "papermill": {
     "duration": 0.059245,
     "end_time": "2023-05-10T06:28:45.228107",
     "exception": false,
     "start_time": "2023-05-10T06:28:45.168862",
     "status": "completed"
    },
    "tags": []
   },
   "source": [
    "### <b><span style='color:#E888BB'> 5.6 |</span> Local Alignment Walkthrough </b>\n",
    "\n",
    "- As with the **<span style='color:#E888BB'>needleman-wunsch</span>** alignment, the **<span style='color:#E888BB'>smith-waterman</span>** algorithm also revolves around filling two matrices **<span style='color:#E888BB'>scoring & traceback</span>** matrices\n",
    "- To start iterating from the top left corner to the bottom right, we need to initialise the top-left corner of both matrices\n",
    "- Some minor variation does exist between the two specified alignment algorithms: **<mark style=\"background-color:#323232;color:white;border-radius:5px;opacity:0.9\">NEEDLEMAN-WUNSCH</mark>** **<mark style=\"background-color:#323232;color:white;border-radius:5px;opacity:0.9\">SMITH-WATERMAN</mark>**\n",
    "\n",
    "### **<mark style=\"background-color:#323232;color:white;border-radius:5px;opacity:0.9\">SMITH-WATERMAN</mark>**  **| INITIAL CONDITION EXAMPLE**\n",
    "- In the Smith-Waterman case, the matrix top left side is initialised with 0 as shown in **[this reference](https://vlab.amrita.edu/?sub=3&brch=274&sim=1433&cnt=1)**"
   ]
  },
  {
   "cell_type": "code",
   "execution_count": 11,
   "id": "dba10fdd",
   "metadata": {
    "execution": {
     "iopub.execute_input": "2023-05-10T06:28:45.352381Z",
     "iopub.status.busy": "2023-05-10T06:28:45.351071Z",
     "iopub.status.idle": "2023-05-10T06:28:45.374332Z",
     "shell.execute_reply": "2023-05-10T06:28:45.373669Z",
     "shell.execute_reply.started": "2023-05-10T06:14:00.449565Z"
    },
    "papermill": {
     "duration": 0.086979,
     "end_time": "2023-05-10T06:28:45.374508",
     "exception": false,
     "start_time": "2023-05-10T06:28:45.287529",
     "status": "completed"
    },
    "tags": []
   },
   "outputs": [
    {
     "data": {
      "text/html": [
       "<div>\n",
       "<style scoped>\n",
       "    .dataframe tbody tr th:only-of-type {\n",
       "        vertical-align: middle;\n",
       "    }\n",
       "\n",
       "    .dataframe tbody tr th {\n",
       "        vertical-align: top;\n",
       "    }\n",
       "\n",
       "    .dataframe thead th {\n",
       "        text-align: right;\n",
       "    }\n",
       "</style>\n",
       "<table border=\"1\" class=\"dataframe\">\n",
       "  <thead>\n",
       "    <tr style=\"text-align: right;\">\n",
       "      <th></th>\n",
       "      <th>gap</th>\n",
       "      <th>P</th>\n",
       "      <th>H</th>\n",
       "      <th>S</th>\n",
       "      <th>W</th>\n",
       "      <th>G</th>\n",
       "    </tr>\n",
       "  </thead>\n",
       "  <tbody>\n",
       "    <tr>\n",
       "      <th>gap</th>\n",
       "      <td>0</td>\n",
       "      <td>0.0</td>\n",
       "      <td>0.0</td>\n",
       "      <td>0.0</td>\n",
       "      <td>0.0</td>\n",
       "      <td>0.0</td>\n",
       "    </tr>\n",
       "    <tr>\n",
       "      <th>H</th>\n",
       "      <td>0</td>\n",
       "      <td>NaN</td>\n",
       "      <td>NaN</td>\n",
       "      <td>NaN</td>\n",
       "      <td>NaN</td>\n",
       "      <td>NaN</td>\n",
       "    </tr>\n",
       "    <tr>\n",
       "      <th>G</th>\n",
       "      <td>0</td>\n",
       "      <td>NaN</td>\n",
       "      <td>NaN</td>\n",
       "      <td>NaN</td>\n",
       "      <td>NaN</td>\n",
       "      <td>NaN</td>\n",
       "    </tr>\n",
       "    <tr>\n",
       "      <th>W</th>\n",
       "      <td>0</td>\n",
       "      <td>NaN</td>\n",
       "      <td>NaN</td>\n",
       "      <td>NaN</td>\n",
       "      <td>NaN</td>\n",
       "      <td>NaN</td>\n",
       "    </tr>\n",
       "    <tr>\n",
       "      <th>A</th>\n",
       "      <td>0</td>\n",
       "      <td>NaN</td>\n",
       "      <td>NaN</td>\n",
       "      <td>NaN</td>\n",
       "      <td>NaN</td>\n",
       "      <td>NaN</td>\n",
       "    </tr>\n",
       "    <tr>\n",
       "      <th>G</th>\n",
       "      <td>0</td>\n",
       "      <td>NaN</td>\n",
       "      <td>NaN</td>\n",
       "      <td>NaN</td>\n",
       "      <td>NaN</td>\n",
       "      <td>NaN</td>\n",
       "    </tr>\n",
       "  </tbody>\n",
       "</table>\n",
       "</div>"
      ],
      "text/plain": [
       "     gap    P    H    S    W    G\n",
       "gap    0  0.0  0.0  0.0  0.0  0.0\n",
       "H      0  NaN  NaN  NaN  NaN  NaN\n",
       "G      0  NaN  NaN  NaN  NaN  NaN\n",
       "W      0  NaN  NaN  NaN  NaN  NaN\n",
       "A      0  NaN  NaN  NaN  NaN  NaN\n",
       "G      0  NaN  NaN  NaN  NaN  NaN"
      ]
     },
     "metadata": {},
     "output_type": "display_data"
    }
   ],
   "source": [
    "seq3 = SQ(seq=\"HGWAG\",seq_type='aa')\n",
    "seq4 = SQ(seq=\"PHSWG\",seq_type='aa')\n",
    "\n",
    "sm = SUBM()\n",
    "sm.read(blosum62)\n",
    "\n",
    "lpsa_prot = PSA(seqs=[seq3,seq4],\n",
    "                subm=sm,\n",
    "                g=-2)    \n",
    "\n",
    "lpsa_prot.initial_condition(ids='sW')\n",
    "lpsa_prot.pprint(ids='SM')"
   ]
  },
  {
   "cell_type": "markdown",
   "id": "a963e4dc",
   "metadata": {
    "papermill": {
     "duration": 0.061103,
     "end_time": "2023-05-10T06:28:45.497448",
     "exception": false,
     "start_time": "2023-05-10T06:28:45.436345",
     "status": "completed"
    },
    "tags": []
   },
   "source": [
    "### **<mark style=\"background-color:#323232;color:white;border-radius:5px;opacity:0.9\">SMITH-WATERMAN</mark>**  **| FILLED SM & TM MATRICES**\n",
    "\n",
    "- The matrix size of <code>.SM</code> & <code>.TM</code> is proportional to the sizes of the input sequences <code>.seq1</code> & <code>.seq2</code>\n",
    "- In the example below, we have a symmetric matrix, as both sequences are of identical length\n",
    "- We can also see the usage order of all class methods below\n",
    "> - In the example below, we'll locally align two sequences, <code>KPFKRTCYKPF</code> & <code>AKPKKPYI</code>\n",
    "> - And fill the matrices using the <code>sW()</code> method, after which the matrices can be called using <code>.SM</code> & <code>.TM</code>, or shown via the <code>pprint</code> method\n",
    "- The best score turns out to be 7, and we have a few cases where we have a maximum, however no multiple case scenario is taken into account in the code"
   ]
  },
  {
   "cell_type": "code",
   "execution_count": 12,
   "id": "bd06682a",
   "metadata": {
    "execution": {
     "iopub.execute_input": "2023-05-10T06:28:45.623556Z",
     "iopub.status.busy": "2023-05-10T06:28:45.622718Z",
     "iopub.status.idle": "2023-05-10T06:28:45.645799Z",
     "shell.execute_reply": "2023-05-10T06:28:45.646528Z",
     "shell.execute_reply.started": "2023-05-10T06:14:00.476566Z"
    },
    "papermill": {
     "duration": 0.087891,
     "end_time": "2023-05-10T06:28:45.646723",
     "exception": false,
     "start_time": "2023-05-10T06:28:45.558832",
     "status": "completed"
    },
    "tags": []
   },
   "outputs": [
    {
     "name": "stdout",
     "output_type": "stream",
     "text": [
      "Finalised Score Matrix\n"
     ]
    },
    {
     "data": {
      "text/html": [
       "<div>\n",
       "<style scoped>\n",
       "    .dataframe tbody tr th:only-of-type {\n",
       "        vertical-align: middle;\n",
       "    }\n",
       "\n",
       "    .dataframe tbody tr th {\n",
       "        vertical-align: top;\n",
       "    }\n",
       "\n",
       "    .dataframe thead th {\n",
       "        text-align: right;\n",
       "    }\n",
       "</style>\n",
       "<table border=\"1\" class=\"dataframe\">\n",
       "  <thead>\n",
       "    <tr style=\"text-align: right;\">\n",
       "      <th></th>\n",
       "      <th>gap</th>\n",
       "      <th>A</th>\n",
       "      <th>K</th>\n",
       "      <th>P</th>\n",
       "      <th>K</th>\n",
       "      <th>K</th>\n",
       "      <th>P</th>\n",
       "      <th>Y</th>\n",
       "      <th>I</th>\n",
       "    </tr>\n",
       "  </thead>\n",
       "  <tbody>\n",
       "    <tr>\n",
       "      <th>gap</th>\n",
       "      <td>0</td>\n",
       "      <td>0</td>\n",
       "      <td>0</td>\n",
       "      <td>0</td>\n",
       "      <td>0</td>\n",
       "      <td>0</td>\n",
       "      <td>0</td>\n",
       "      <td>0</td>\n",
       "      <td>0</td>\n",
       "    </tr>\n",
       "    <tr>\n",
       "      <th>K</th>\n",
       "      <td>0</td>\n",
       "      <td>0</td>\n",
       "      <td>5</td>\n",
       "      <td>0</td>\n",
       "      <td>5</td>\n",
       "      <td>5</td>\n",
       "      <td>0</td>\n",
       "      <td>0</td>\n",
       "      <td>0</td>\n",
       "    </tr>\n",
       "    <tr>\n",
       "      <th>P</th>\n",
       "      <td>0</td>\n",
       "      <td>0</td>\n",
       "      <td>0</td>\n",
       "      <td>4</td>\n",
       "      <td>0</td>\n",
       "      <td>3</td>\n",
       "      <td>4</td>\n",
       "      <td>0</td>\n",
       "      <td>0</td>\n",
       "    </tr>\n",
       "    <tr>\n",
       "      <th>F</th>\n",
       "      <td>0</td>\n",
       "      <td>0</td>\n",
       "      <td>0</td>\n",
       "      <td>0</td>\n",
       "      <td>1</td>\n",
       "      <td>0</td>\n",
       "      <td>0</td>\n",
       "      <td>7</td>\n",
       "      <td>0</td>\n",
       "    </tr>\n",
       "    <tr>\n",
       "      <th>K</th>\n",
       "      <td>0</td>\n",
       "      <td>0</td>\n",
       "      <td>5</td>\n",
       "      <td>0</td>\n",
       "      <td>5</td>\n",
       "      <td>6</td>\n",
       "      <td>0</td>\n",
       "      <td>0</td>\n",
       "      <td>4</td>\n",
       "    </tr>\n",
       "    <tr>\n",
       "      <th>R</th>\n",
       "      <td>0</td>\n",
       "      <td>0</td>\n",
       "      <td>2</td>\n",
       "      <td>3</td>\n",
       "      <td>2</td>\n",
       "      <td>7</td>\n",
       "      <td>4</td>\n",
       "      <td>0</td>\n",
       "      <td>0</td>\n",
       "    </tr>\n",
       "    <tr>\n",
       "      <th>T</th>\n",
       "      <td>0</td>\n",
       "      <td>0</td>\n",
       "      <td>0</td>\n",
       "      <td>1</td>\n",
       "      <td>2</td>\n",
       "      <td>1</td>\n",
       "      <td>6</td>\n",
       "      <td>2</td>\n",
       "      <td>0</td>\n",
       "    </tr>\n",
       "    <tr>\n",
       "      <th>C</th>\n",
       "      <td>0</td>\n",
       "      <td>0</td>\n",
       "      <td>0</td>\n",
       "      <td>0</td>\n",
       "      <td>0</td>\n",
       "      <td>0</td>\n",
       "      <td>0</td>\n",
       "      <td>4</td>\n",
       "      <td>1</td>\n",
       "    </tr>\n",
       "    <tr>\n",
       "      <th>Y</th>\n",
       "      <td>0</td>\n",
       "      <td>0</td>\n",
       "      <td>0</td>\n",
       "      <td>0</td>\n",
       "      <td>0</td>\n",
       "      <td>0</td>\n",
       "      <td>0</td>\n",
       "      <td>7</td>\n",
       "      <td>3</td>\n",
       "    </tr>\n",
       "    <tr>\n",
       "      <th>K</th>\n",
       "      <td>0</td>\n",
       "      <td>0</td>\n",
       "      <td>5</td>\n",
       "      <td>0</td>\n",
       "      <td>5</td>\n",
       "      <td>5</td>\n",
       "      <td>0</td>\n",
       "      <td>0</td>\n",
       "      <td>4</td>\n",
       "    </tr>\n",
       "    <tr>\n",
       "      <th>P</th>\n",
       "      <td>0</td>\n",
       "      <td>0</td>\n",
       "      <td>0</td>\n",
       "      <td>4</td>\n",
       "      <td>0</td>\n",
       "      <td>3</td>\n",
       "      <td>4</td>\n",
       "      <td>0</td>\n",
       "      <td>0</td>\n",
       "    </tr>\n",
       "    <tr>\n",
       "      <th>F</th>\n",
       "      <td>0</td>\n",
       "      <td>0</td>\n",
       "      <td>0</td>\n",
       "      <td>0</td>\n",
       "      <td>1</td>\n",
       "      <td>0</td>\n",
       "      <td>0</td>\n",
       "      <td>7</td>\n",
       "      <td>0</td>\n",
       "    </tr>\n",
       "  </tbody>\n",
       "</table>\n",
       "</div>"
      ],
      "text/plain": [
       "     gap  A  K  P  K  K  P  Y  I\n",
       "gap    0  0  0  0  0  0  0  0  0\n",
       "K      0  0  5  0  5  5  0  0  0\n",
       "P      0  0  0  4  0  3  4  0  0\n",
       "F      0  0  0  0  1  0  0  7  0\n",
       "K      0  0  5  0  5  6  0  0  4\n",
       "R      0  0  2  3  2  7  4  0  0\n",
       "T      0  0  0  1  2  1  6  2  0\n",
       "C      0  0  0  0  0  0  0  4  1\n",
       "Y      0  0  0  0  0  0  0  7  3\n",
       "K      0  0  5  0  5  5  0  0  4\n",
       "P      0  0  0  4  0  3  4  0  0\n",
       "F      0  0  0  0  1  0  0  7  0"
      ]
     },
     "metadata": {},
     "output_type": "display_data"
    },
    {
     "name": "stdout",
     "output_type": "stream",
     "text": [
      "\n",
      "length of symmetric matrix 12\n",
      "best alignment score: 7\n"
     ]
    }
   ],
   "source": [
    "seq3 = SQ(seq=\"KPFKRTCYKPF\",seq_type='aa')\n",
    "seq4 = SQ(seq=\"AKPKKPYI\",seq_type='aa')\n",
    "\n",
    "sm = SUBM()\n",
    "sm.read(blosum62)\n",
    "\n",
    "# # Global Sequence Alignment\n",
    "lpsa_prot = PSA(seqs=[seq3,seq4],\n",
    "                subm=sm,\n",
    "                g=-8)     \n",
    "lpsa_prot.sW()\n",
    "print('Finalised Score Matrix')\n",
    "lpsa_prot.pprint(ids='SM')\n",
    "print(f'\\nlength of symmetric matrix {len(lpsa_prot.SM)}')\n",
    "print(f'best alignment score: {lpsa_prot.score}')"
   ]
  },
  {
   "cell_type": "code",
   "execution_count": 13,
   "id": "bef9f442",
   "metadata": {
    "execution": {
     "iopub.execute_input": "2023-05-10T06:28:45.775903Z",
     "iopub.status.busy": "2023-05-10T06:28:45.775109Z",
     "iopub.status.idle": "2023-05-10T06:28:45.789885Z",
     "shell.execute_reply": "2023-05-10T06:28:45.790471Z",
     "shell.execute_reply.started": "2023-05-10T06:14:00.504164Z"
    },
    "papermill": {
     "duration": 0.082664,
     "end_time": "2023-05-10T06:28:45.790689",
     "exception": false,
     "start_time": "2023-05-10T06:28:45.708025",
     "status": "completed"
    },
    "tags": []
   },
   "outputs": [
    {
     "data": {
      "text/html": [
       "<div>\n",
       "<style scoped>\n",
       "    .dataframe tbody tr th:only-of-type {\n",
       "        vertical-align: middle;\n",
       "    }\n",
       "\n",
       "    .dataframe tbody tr th {\n",
       "        vertical-align: top;\n",
       "    }\n",
       "\n",
       "    .dataframe thead th {\n",
       "        text-align: right;\n",
       "    }\n",
       "</style>\n",
       "<table border=\"1\" class=\"dataframe\">\n",
       "  <thead>\n",
       "    <tr style=\"text-align: right;\">\n",
       "      <th></th>\n",
       "      <th>gap</th>\n",
       "      <th>A</th>\n",
       "      <th>K</th>\n",
       "      <th>P</th>\n",
       "      <th>K</th>\n",
       "      <th>K</th>\n",
       "      <th>P</th>\n",
       "      <th>Y</th>\n",
       "      <th>I</th>\n",
       "    </tr>\n",
       "  </thead>\n",
       "  <tbody>\n",
       "    <tr>\n",
       "      <th>gap</th>\n",
       "      <td>0</td>\n",
       "      <td>0</td>\n",
       "      <td>0</td>\n",
       "      <td>0</td>\n",
       "      <td>0</td>\n",
       "      <td>0</td>\n",
       "      <td>0</td>\n",
       "      <td>0</td>\n",
       "      <td>0</td>\n",
       "    </tr>\n",
       "    <tr>\n",
       "      <th>K</th>\n",
       "      <td>0</td>\n",
       "      <td>0</td>\n",
       "      <td>1</td>\n",
       "      <td>0</td>\n",
       "      <td>1</td>\n",
       "      <td>1</td>\n",
       "      <td>0</td>\n",
       "      <td>0</td>\n",
       "      <td>0</td>\n",
       "    </tr>\n",
       "    <tr>\n",
       "      <th>P</th>\n",
       "      <td>0</td>\n",
       "      <td>0</td>\n",
       "      <td>0</td>\n",
       "      <td>1</td>\n",
       "      <td>0</td>\n",
       "      <td>1</td>\n",
       "      <td>1</td>\n",
       "      <td>0</td>\n",
       "      <td>0</td>\n",
       "    </tr>\n",
       "    <tr>\n",
       "      <th>F</th>\n",
       "      <td>0</td>\n",
       "      <td>0</td>\n",
       "      <td>0</td>\n",
       "      <td>0</td>\n",
       "      <td>1</td>\n",
       "      <td>0</td>\n",
       "      <td>0</td>\n",
       "      <td>1</td>\n",
       "      <td>0</td>\n",
       "    </tr>\n",
       "    <tr>\n",
       "      <th>K</th>\n",
       "      <td>0</td>\n",
       "      <td>0</td>\n",
       "      <td>1</td>\n",
       "      <td>0</td>\n",
       "      <td>1</td>\n",
       "      <td>1</td>\n",
       "      <td>0</td>\n",
       "      <td>0</td>\n",
       "      <td>1</td>\n",
       "    </tr>\n",
       "    <tr>\n",
       "      <th>R</th>\n",
       "      <td>0</td>\n",
       "      <td>0</td>\n",
       "      <td>1</td>\n",
       "      <td>1</td>\n",
       "      <td>1</td>\n",
       "      <td>1</td>\n",
       "      <td>1</td>\n",
       "      <td>0</td>\n",
       "      <td>0</td>\n",
       "    </tr>\n",
       "    <tr>\n",
       "      <th>T</th>\n",
       "      <td>0</td>\n",
       "      <td>0</td>\n",
       "      <td>0</td>\n",
       "      <td>1</td>\n",
       "      <td>1</td>\n",
       "      <td>1</td>\n",
       "      <td>1</td>\n",
       "      <td>1</td>\n",
       "      <td>0</td>\n",
       "    </tr>\n",
       "    <tr>\n",
       "      <th>C</th>\n",
       "      <td>0</td>\n",
       "      <td>0</td>\n",
       "      <td>0</td>\n",
       "      <td>0</td>\n",
       "      <td>0</td>\n",
       "      <td>0</td>\n",
       "      <td>0</td>\n",
       "      <td>1</td>\n",
       "      <td>1</td>\n",
       "    </tr>\n",
       "    <tr>\n",
       "      <th>Y</th>\n",
       "      <td>0</td>\n",
       "      <td>0</td>\n",
       "      <td>0</td>\n",
       "      <td>0</td>\n",
       "      <td>0</td>\n",
       "      <td>0</td>\n",
       "      <td>0</td>\n",
       "      <td>1</td>\n",
       "      <td>1</td>\n",
       "    </tr>\n",
       "    <tr>\n",
       "      <th>K</th>\n",
       "      <td>0</td>\n",
       "      <td>0</td>\n",
       "      <td>1</td>\n",
       "      <td>0</td>\n",
       "      <td>1</td>\n",
       "      <td>1</td>\n",
       "      <td>0</td>\n",
       "      <td>0</td>\n",
       "      <td>1</td>\n",
       "    </tr>\n",
       "    <tr>\n",
       "      <th>P</th>\n",
       "      <td>0</td>\n",
       "      <td>0</td>\n",
       "      <td>0</td>\n",
       "      <td>1</td>\n",
       "      <td>0</td>\n",
       "      <td>1</td>\n",
       "      <td>1</td>\n",
       "      <td>0</td>\n",
       "      <td>0</td>\n",
       "    </tr>\n",
       "    <tr>\n",
       "      <th>F</th>\n",
       "      <td>0</td>\n",
       "      <td>0</td>\n",
       "      <td>0</td>\n",
       "      <td>0</td>\n",
       "      <td>1</td>\n",
       "      <td>0</td>\n",
       "      <td>0</td>\n",
       "      <td>1</td>\n",
       "      <td>0</td>\n",
       "    </tr>\n",
       "  </tbody>\n",
       "</table>\n",
       "</div>"
      ],
      "text/plain": [
       "     gap  A  K  P  K  K  P  Y  I\n",
       "gap    0  0  0  0  0  0  0  0  0\n",
       "K      0  0  1  0  1  1  0  0  0\n",
       "P      0  0  0  1  0  1  1  0  0\n",
       "F      0  0  0  0  1  0  0  1  0\n",
       "K      0  0  1  0  1  1  0  0  1\n",
       "R      0  0  1  1  1  1  1  0  0\n",
       "T      0  0  0  1  1  1  1  1  0\n",
       "C      0  0  0  0  0  0  0  1  1\n",
       "Y      0  0  0  0  0  0  0  1  1\n",
       "K      0  0  1  0  1  1  0  0  1\n",
       "P      0  0  0  1  0  1  1  0  0\n",
       "F      0  0  0  0  1  0  0  1  0"
      ]
     },
     "metadata": {},
     "output_type": "display_data"
    }
   ],
   "source": [
    "# Traceback Movement interpretation/mapping\n",
    "# 0 - done, 1 - diagonal, 2 - up, 3 - left\n",
    "lpsa_prot.pprint(ids='TM')"
   ]
  },
  {
   "cell_type": "markdown",
   "id": "531f0b63",
   "metadata": {
    "papermill": {
     "duration": 0.062155,
     "end_time": "2023-05-10T06:28:45.916117",
     "exception": false,
     "start_time": "2023-05-10T06:28:45.853962",
     "status": "completed"
    },
    "tags": []
   },
   "source": [
    " ### **<mark style=\"background-color:#323232;color:white;border-radius:5px;opacity:0.9\">SMITH-WATERMAN</mark>**  **| RECONSTRUCTING ALIGNMENT**\n",
    "\n",
    "- The best alignment can occur in any cell of the score/traceback matrix, unlike in the global alignment case\n",
    "- Searching for the maximum value in the score matrix, we can note that we have only one best alignment, with a score of 4 (column GA)\n",
    "- Taking into account local alignment, **<span style='color:#E888BB'>uniquely set numbers</span>** work as well:\n",
    " > 0 - terminate alignment, 1 - diagonal, 2 - up, 3 - left\n",
    "- The alignment is **<span style='color:#E888BB'>built in reverse order</span>**, as we start at the maximum score value, so here are the simple rules:\n",
    " > - If we move diagonally (1), we set the column to both of the character\n",
    " > - If we move vertically (up/2), the column will contain the first sequence character & a gap in the second\n",
    " > - If we move horizontally (left/3), the column will contain the second sequence character & a gap in the first\n",
    " > - If we end up at a value of 0, the alignment is terminated"
   ]
  },
  {
   "cell_type": "code",
   "execution_count": 14,
   "id": "be7661cf",
   "metadata": {
    "execution": {
     "iopub.execute_input": "2023-05-10T06:28:46.048342Z",
     "iopub.status.busy": "2023-05-10T06:28:46.047523Z",
     "iopub.status.idle": "2023-05-10T06:28:46.053707Z",
     "shell.execute_reply": "2023-05-10T06:28:46.054300Z",
     "shell.execute_reply.started": "2023-05-10T06:14:00.525140Z"
    },
    "papermill": {
     "duration": 0.072299,
     "end_time": "2023-05-10T06:28:46.054526",
     "exception": false,
     "start_time": "2023-05-10T06:28:45.982227",
     "status": "completed"
    },
    "tags": []
   },
   "outputs": [
    {
     "name": "stdout",
     "output_type": "stream",
     "text": [
      "Alignment with 2 rows and 3 columns.\n",
      "KPF\n",
      "KPY\n",
      "\n"
     ]
    }
   ],
   "source": [
    "realign = lpsa_prot.realign(ids='sW') # deduce alignment from TM matrix    \n",
    "print(realign) # print ALN class object"
   ]
  },
  {
   "cell_type": "markdown",
   "id": "847da46c",
   "metadata": {
    "papermill": {
     "duration": 0.062035,
     "end_time": "2023-05-10T06:28:46.179594",
     "exception": false,
     "start_time": "2023-05-10T06:28:46.117559",
     "status": "completed"
    },
    "tags": []
   },
   "source": [
    "### <b><span style='color:#E888BB'> 5.7 |</span> Visualise Alignment </b>\n",
    "\n",
    "- So we've filled the **<span style='color:#E888BB'>scoring (SM) & traceback matrix (TM)</span>**\n",
    "- Used the **<span style='color:#E888BB'>traceback matrix</span>** to **<span style='color:#E888BB'>reconstruct</span>** the sequence alignment\n",
    "- Now want to visualise the alignment (**<span style='color:#E888BB'>ALN</span>** object), to do that we can call the <code>.view()</code> method"
   ]
  },
  {
   "cell_type": "code",
   "execution_count": 15,
   "id": "1a651258",
   "metadata": {
    "_kg_hide-input": true,
    "execution": {
     "iopub.execute_input": "2023-05-10T06:28:46.322669Z",
     "iopub.status.busy": "2023-05-10T06:28:46.321635Z",
     "iopub.status.idle": "2023-05-10T06:28:46.324926Z",
     "shell.execute_reply": "2023-05-10T06:28:46.324286Z",
     "shell.execute_reply.started": "2023-05-10T06:14:00.537600Z"
    },
    "papermill": {
     "duration": 0.080077,
     "end_time": "2023-05-10T06:28:46.325117",
     "exception": false,
     "start_time": "2023-05-10T06:28:46.245040",
     "status": "completed"
    },
    "tags": []
   },
   "outputs": [],
   "source": [
    "# Nucleotide Sequence Example (Doesn't have to be identical length)\n",
    "seq1 = SQ(seq=\"tccCAGATATGTCAGGGGACACGAGcatgcagagac\",seq_type='dna')\n",
    "seq2 = SQ(seq=\"CATCATCATCATCATCATCATCATCATCAT\",seq_type='dna')\n",
    "\n",
    "# Create a substitute matrix (nucleotides)\n",
    "sm = SUBM()\n",
    "sm.make(\"ACGT\",1,0)    # match +1 / mismatch -1\n",
    "g = -2                 # gap penalty -2\n",
    "\n",
    "# Global PSA alignment (get score only)\n",
    "gpsa_nucl = PSA(seqs=[seq1,seq2],\n",
    "                subm=sm,\n",
    "                g=g)     \n",
    "\n",
    "gpsa_nucl.nW() # calculate score, SM & TM\n",
    "realign = gpsa_nucl.realign() # deduce alignment from TM matrix     "
   ]
  },
  {
   "cell_type": "code",
   "execution_count": 16,
   "id": "85096749",
   "metadata": {
    "execution": {
     "iopub.execute_input": "2023-05-10T06:28:46.459062Z",
     "iopub.status.busy": "2023-05-10T06:28:46.458183Z",
     "iopub.status.idle": "2023-05-10T06:28:46.620519Z",
     "shell.execute_reply": "2023-05-10T06:28:46.621353Z",
     "shell.execute_reply.started": "2023-05-10T06:14:00.557853Z"
    },
    "papermill": {
     "duration": 0.234815,
     "end_time": "2023-05-10T06:28:46.621587",
     "exception": false,
     "start_time": "2023-05-10T06:28:46.386772",
     "status": "completed"
    },
    "tags": []
   },
   "outputs": [
    {
     "data": {},
     "metadata": {},
     "output_type": "display_data"
    },
    {
     "data": {
      "application/vnd.holoviews_exec.v0+json": "",
      "text/html": [
       "<div id='1347'>\n",
       "\n",
       "\n",
       "\n",
       "\n",
       "\n",
       "  <div class=\"bk-root\" id=\"be8c52dc-f220-4a7a-aac7-e4bac4e5e836\" data-root-id=\"1347\"></div>\n",
       "</div>\n",
       "<script type=\"application/javascript\">(function(root) {\n",
       "  function embed_document(root) {\n",
       "    var docs_json = {\"8f15bf92-ebab-4181-bfd6-d8542713af98\":{\"defs\":[{\"extends\":null,\"module\":null,\"name\":\"ReactiveHTML1\",\"overrides\":[],\"properties\":[]},{\"extends\":null,\"module\":null,\"name\":\"FlexBox1\",\"overrides\":[],\"properties\":[{\"default\":\"flex-start\",\"kind\":null,\"name\":\"align_content\"},{\"default\":\"flex-start\",\"kind\":null,\"name\":\"align_items\"},{\"default\":\"row\",\"kind\":null,\"name\":\"flex_direction\"},{\"default\":\"wrap\",\"kind\":null,\"name\":\"flex_wrap\"},{\"default\":\"flex-start\",\"kind\":null,\"name\":\"justify_content\"}]},{\"extends\":null,\"module\":null,\"name\":\"TemplateActions1\",\"overrides\":[],\"properties\":[{\"default\":0,\"kind\":null,\"name\":\"open_modal\"},{\"default\":0,\"kind\":null,\"name\":\"close_modal\"}]},{\"extends\":null,\"module\":null,\"name\":\"MaterialTemplateActions1\",\"overrides\":[],\"properties\":[{\"default\":0,\"kind\":null,\"name\":\"open_modal\"},{\"default\":0,\"kind\":null,\"name\":\"close_modal\"}]}],\"roots\":{\"references\":[{\"attributes\":{\"coordinates\":null,\"formatter\":{\"id\":\"1328\"},\"group\":null,\"major_label_policy\":{\"id\":\"1329\"},\"ticker\":{\"id\":\"1276\"}},\"id\":\"1275\",\"type\":\"LinearAxis\"},{\"attributes\":{\"coordinates\":null,\"data_source\":{\"id\":\"1264\"},\"glyph\":{\"id\":\"1317\"},\"group\":null,\"hover_glyph\":null,\"view\":{\"id\":\"1322\"}},\"id\":\"1321\",\"type\":\"GlyphRenderer\"},{\"attributes\":{},\"id\":\"1273\",\"type\":\"LinearScale\"},{\"attributes\":{},\"id\":\"1313\",\"type\":\"ResetTool\"},{\"attributes\":{},\"id\":\"1285\",\"type\":\"ResetTool\"},{\"attributes\":{\"below\":[{\"id\":\"1275\"}],\"center\":[{\"id\":\"1278\"},{\"id\":\"1282\"}],\"height\":50,\"left\":[{\"id\":\"1279\"}],\"min_border\":0,\"renderers\":[{\"id\":\"1293\"}],\"title\":null,\"toolbar\":{\"id\":\"1287\"},\"toolbar_location\":null,\"width\":800,\"x_range\":{\"id\":\"1265\"},\"x_scale\":{\"id\":\"1271\"},\"y_range\":{\"id\":\"1269\"},\"y_scale\":{\"id\":\"1273\"}},\"id\":\"1266\",\"subtype\":\"Figure\",\"type\":\"Plot\"},{\"attributes\":{\"children\":[[{\"id\":\"1266\"},0,0],[{\"id\":\"1295\"},1,0]]},\"id\":\"1343\",\"type\":\"GridBox\"},{\"attributes\":{\"tools\":[{\"id\":\"1283\"},{\"id\":\"1284\"},{\"id\":\"1285\"},{\"id\":\"1286\"}]},\"id\":\"1287\",\"type\":\"Toolbar\"},{\"attributes\":{},\"id\":\"1286\",\"type\":\"SaveTool\"},{\"attributes\":{\"bounds\":\"auto\",\"end\":37},\"id\":\"1265\",\"type\":\"Range1d\"},{\"attributes\":{\"fill_alpha\":{\"value\":0.7},\"fill_color\":{\"field\":\"colors\"},\"height\":{\"value\":0.5},\"line_color\":{\"value\":null},\"width\":{\"value\":1},\"x\":{\"field\":\"x\"},\"y\":{\"field\":\"recty\"}},\"id\":\"1292\",\"type\":\"Rect\"},{\"attributes\":{},\"id\":\"1328\",\"type\":\"BasicTickFormatter\"},{\"attributes\":{\"children\":[{\"id\":\"1346\"}],\"margin\":[0,0,0,0],\"name\":\"Row00107\"},\"id\":\"1347\",\"type\":\"Row\"},{\"attributes\":{\"source\":{\"id\":\"1264\"}},\"id\":\"1294\",\"type\":\"CDSView\"},{\"attributes\":{\"end\":2},\"id\":\"1269\",\"type\":\"Range1d\"},{\"attributes\":{},\"id\":\"1301\",\"type\":\"LinearScale\"},{\"attributes\":{\"coordinates\":null,\"data_source\":{\"id\":\"1264\"},\"glyph\":{\"id\":\"1318\"},\"group\":null,\"hover_glyph\":null,\"view\":{\"id\":\"1320\"}},\"id\":\"1319\",\"type\":\"GlyphRenderer\"},{\"attributes\":{\"factors\":[\"sequence_601\",\"sequence_906\"]},\"id\":\"1299\",\"type\":\"FactorRange\"},{\"attributes\":{\"tools\":[{\"id\":\"1312\"},{\"id\":\"1313\"}]},\"id\":\"1314\",\"type\":\"Toolbar\"},{\"attributes\":{},\"id\":\"1280\",\"type\":\"BasicTicker\"},{\"attributes\":{},\"id\":\"1325\",\"type\":\"BasicTickFormatter\"},{\"attributes\":{},\"id\":\"1276\",\"type\":\"BasicTicker\"},{\"attributes\":{},\"id\":\"1303\",\"type\":\"CategoricalScale\"},{\"attributes\":{},\"id\":\"1326\",\"type\":\"AllLabels\"},{\"attributes\":{\"client_comm_id\":\"eb8f09b3eb6d4cc5ad83416bc3fefd36\",\"comm_id\":\"9fc948e99f4a4e6b88c3bdfb9d086ced\",\"plot_id\":\"1347\"},\"id\":\"1428\",\"type\":\"panel.models.comm_manager.CommManager\"},{\"attributes\":{\"toolbars\":[{\"id\":\"1287\"},{\"id\":\"1314\"}],\"tools\":[{\"id\":\"1283\"},{\"id\":\"1284\"},{\"id\":\"1285\"},{\"id\":\"1286\"},{\"id\":\"1312\"},{\"id\":\"1313\"}]},\"id\":\"1344\",\"type\":\"ProxyToolbar\"},{\"attributes\":{\"end\":36},\"id\":\"1297\",\"type\":\"Range1d\"},{\"attributes\":{},\"id\":\"1338\",\"type\":\"BasicTickFormatter\"},{\"attributes\":{\"toolbar\":{\"id\":\"1344\"},\"toolbar_location\":\"below\"},\"id\":\"1345\",\"type\":\"ToolbarBox\"},{\"attributes\":{\"coordinates\":null,\"formatter\":{\"id\":\"1338\"},\"group\":null,\"major_label_policy\":{\"id\":\"1339\"},\"major_label_text_font_style\":\"bold\",\"ticker\":{\"id\":\"1306\"}},\"id\":\"1305\",\"type\":\"LinearAxis\"},{\"attributes\":{},\"id\":\"1336\",\"type\":\"AllLabels\"},{\"attributes\":{\"axis\":{\"id\":\"1279\"},\"coordinates\":null,\"dimension\":1,\"group\":null,\"ticker\":null,\"visible\":false},\"id\":\"1282\",\"type\":\"Grid\"},{\"attributes\":{\"source\":{\"id\":\"1264\"}},\"id\":\"1322\",\"type\":\"CDSView\"},{\"attributes\":{},\"id\":\"1310\",\"type\":\"CategoricalTicker\"},{\"attributes\":{\"children\":[{\"id\":\"1343\"},{\"id\":\"1345\"}]},\"id\":\"1346\",\"type\":\"Column\"},{\"attributes\":{\"coordinates\":null,\"formatter\":{\"id\":\"1325\"},\"group\":null,\"major_label_policy\":{\"id\":\"1326\"},\"ticker\":{\"id\":\"1280\"},\"visible\":false},\"id\":\"1279\",\"type\":\"LinearAxis\"},{\"attributes\":{\"data\":{\"colors\":[\"#24CE5D\",\"#2C679E\",\"#2C679E\",\"#2C679E\",\"#2C679E\",\"#FF5733\",\"#2C679E\",\"#24CE5D\",\"#2C679E\",\"#24CE5D\",\"#FF5733\",\"#24CE5D\",\"#2C679E\",\"#2C679E\",\"#FF5733\",\"#FF5733\",\"#FF5733\",\"#FF5733\",\"#2C679E\",\"#2C679E\",\"#2C679E\",\"#2C679E\",\"#FF5733\",\"#2C679E\",\"#FF5733\",\"#2C679E\",\"#2C679E\",\"#24CE5D\",\"#FF5733\",\"#2C679E\",\"#2C679E\",\"#FF5733\",\"#2C679E\",\"#FF5733\",\"#2C679E\",\"#2C679E\",\"#2C679E\",\"#2C679E\",\"#24CE5D\",\"#2C679E\",\"#2C679E\",\"#24CE5D\",\"#2C679E\",\"white\",\"#2C679E\",\"#24CE5D\",\"white\",\"white\",\"#2C679E\",\"#2C679E\",\"#24CE5D\",\"#2C679E\",\"#2C679E\",\"#24CE5D\",\"white\",\"#2C679E\",\"#2C679E\",\"#24CE5D\",\"#2C679E\",\"#2C679E\",\"#24CE5D\",\"#2C679E\",\"#2C679E\",\"#24CE5D\",\"white\",\"#2C679E\",\"#2C679E\",\"#24CE5D\",\"#2C679E\",\"white\",\"#2C679E\",\"#24CE5D\"],\"recty\":{\"__ndarray__\":\"AAAAAAAA4D8AAAAAAADgPwAAAAAAAOA/AAAAAAAA4D8AAAAAAADgPwAAAAAAAOA/AAAAAAAA4D8AAAAAAADgPwAAAAAAAOA/AAAAAAAA4D8AAAAAAADgPwAAAAAAAOA/AAAAAAAA4D8AAAAAAADgPwAAAAAAAOA/AAAAAAAA4D8AAAAAAADgPwAAAAAAAOA/AAAAAAAA4D8AAAAAAADgPwAAAAAAAOA/AAAAAAAA4D8AAAAAAADgPwAAAAAAAOA/AAAAAAAA4D8AAAAAAADgPwAAAAAAAOA/AAAAAAAA4D8AAAAAAADgPwAAAAAAAOA/AAAAAAAA4D8AAAAAAADgPwAAAAAAAOA/AAAAAAAA4D8AAAAAAADgPwAAAAAAAOA/AAAAAAAA+D8AAAAAAAD4PwAAAAAAAPg/AAAAAAAA+D8AAAAAAAD4PwAAAAAAAPg/AAAAAAAA+D8AAAAAAAD4PwAAAAAAAPg/AAAAAAAA+D8AAAAAAAD4PwAAAAAAAPg/AAAAAAAA+D8AAAAAAAD4PwAAAAAAAPg/AAAAAAAA+D8AAAAAAAD4PwAAAAAAAPg/AAAAAAAA+D8AAAAAAAD4PwAAAAAAAPg/AAAAAAAA+D8AAAAAAAD4PwAAAAAAAPg/AAAAAAAA+D8AAAAAAAD4PwAAAAAAAPg/AAAAAAAA+D8AAAAAAAD4PwAAAAAAAPg/AAAAAAAA+D8AAAAAAAD4PwAAAAAAAPg/AAAAAAAA+D8AAAAAAAD4PwAAAAAAAPg/\",\"dtype\":\"float64\",\"order\":\"little\",\"shape\":[72]},\"text\":[\"T\",\"C\",\"C\",\"C\",\"A\",\"G\",\"A\",\"T\",\"A\",\"T\",\"G\",\"T\",\"C\",\"A\",\"G\",\"G\",\"G\",\"G\",\"A\",\"C\",\"A\",\"C\",\"G\",\"A\",\"G\",\"C\",\"A\",\"T\",\"G\",\"C\",\"A\",\"G\",\"A\",\"G\",\"A\",\"C\",\"C\",\"A\",\"T\",\"C\",\"A\",\"T\",\"C\",\"-\",\"A\",\"T\",\"-\",\"-\",\"C\",\"A\",\"T\",\"C\",\"A\",\"T\",\"-\",\"C\",\"A\",\"T\",\"C\",\"A\",\"T\",\"C\",\"A\",\"T\",\"-\",\"C\",\"A\",\"T\",\"C\",\"-\",\"A\",\"T\"],\"x\":{\"__ndarray__\":\"AAAAAAAA4D8AAAAAAAD4PwAAAAAAAARAAAAAAAAADEAAAAAAAAASQAAAAAAAABZAAAAAAAAAGkAAAAAAAAAeQAAAAAAAACFAAAAAAAAAI0AAAAAAAAAlQAAAAAAAACdAAAAAAAAAKUAAAAAAAAArQAAAAAAAAC1AAAAAAAAAL0AAAAAAAIAwQAAAAAAAgDFAAAAAAACAMkAAAAAAAIAzQAAAAAAAgDRAAAAAAACANUAAAAAAAIA2QAAAAAAAgDdAAAAAAACAOEAAAAAAAIA5QAAAAAAAgDpAAAAAAACAO0AAAAAAAIA8QAAAAAAAgD1AAAAAAACAPkAAAAAAAIA/QAAAAAAAQEBAAAAAAADAQEAAAAAAAEBBQAAAAAAAwEFAAAAAAAAA4D8AAAAAAAD4PwAAAAAAAARAAAAAAAAADEAAAAAAAAASQAAAAAAAABZAAAAAAAAAGkAAAAAAAAAeQAAAAAAAACFAAAAAAAAAI0AAAAAAAAAlQAAAAAAAACdAAAAAAAAAKUAAAAAAAAArQAAAAAAAAC1AAAAAAAAAL0AAAAAAAIAwQAAAAAAAgDFAAAAAAACAMkAAAAAAAIAzQAAAAAAAgDRAAAAAAACANUAAAAAAAIA2QAAAAAAAgDdAAAAAAACAOEAAAAAAAIA5QAAAAAAAgDpAAAAAAACAO0AAAAAAAIA8QAAAAAAAgD1AAAAAAACAPkAAAAAAAIA/QAAAAAAAQEBAAAAAAADAQEAAAAAAAEBBQAAAAAAAwEFA\",\"dtype\":\"float64\",\"order\":\"little\",\"shape\":[72]},\"y\":[0,0,0,0,0,0,0,0,0,0,0,0,0,0,0,0,0,0,0,0,0,0,0,0,0,0,0,0,0,0,0,0,0,0,0,0,1,1,1,1,1,1,1,1,1,1,1,1,1,1,1,1,1,1,1,1,1,1,1,1,1,1,1,1,1,1,1,1,1,1,1,1]},\"selected\":{\"id\":\"1331\"},\"selection_policy\":{\"id\":\"1330\"}},\"id\":\"1264\",\"type\":\"ColumnDataSource\"},{\"attributes\":{},\"id\":\"1306\",\"type\":\"BasicTicker\"},{\"attributes\":{\"axis\":{\"id\":\"1275\"},\"coordinates\":null,\"group\":null,\"ticker\":null,\"visible\":false},\"id\":\"1278\",\"type\":\"Grid\"},{\"attributes\":{\"axis\":{\"id\":\"1305\"},\"coordinates\":null,\"group\":null,\"ticker\":null,\"visible\":false},\"id\":\"1308\",\"type\":\"Grid\"},{\"attributes\":{\"fill_alpha\":{\"value\":0.7},\"fill_color\":{\"field\":\"colors\"},\"height\":{\"value\":1},\"line_color\":{\"value\":null},\"width\":{\"value\":1.0},\"x\":{\"field\":\"x\"},\"y\":{\"field\":\"recty\"}},\"id\":\"1318\",\"type\":\"Rect\"},{\"attributes\":{\"coordinates\":null,\"data_source\":{\"id\":\"1264\"},\"glyph\":{\"id\":\"1292\"},\"group\":null,\"hover_glyph\":null,\"view\":{\"id\":\"1294\"}},\"id\":\"1293\",\"type\":\"GlyphRenderer\"},{\"attributes\":{\"axis\":{\"id\":\"1309\"},\"coordinates\":null,\"dimension\":1,\"group\":null,\"ticker\":null,\"visible\":false},\"id\":\"1311\",\"type\":\"Grid\"},{\"attributes\":{},\"id\":\"1329\",\"type\":\"AllLabels\"},{\"attributes\":{\"text_align\":{\"value\":\"center\"},\"text_color\":{\"value\":\"black\"},\"text_font_size\":{\"value\":\"9pt\"},\"text_font_style\":{\"value\":\"bold\"},\"x\":{\"field\":\"x\"},\"y\":{\"field\":\"y\"}},\"id\":\"1317\",\"type\":\"Text\"},{\"attributes\":{\"coordinates\":null,\"formatter\":{\"id\":\"1335\"},\"group\":null,\"major_label_policy\":{\"id\":\"1336\"},\"major_tick_line_width\":0,\"minor_tick_line_width\":0,\"ticker\":{\"id\":\"1310\"}},\"id\":\"1309\",\"type\":\"CategoricalAxis\"},{\"attributes\":{\"source\":{\"id\":\"1264\"}},\"id\":\"1320\",\"type\":\"CDSView\"},{\"attributes\":{},\"id\":\"1339\",\"type\":\"AllLabels\"},{\"attributes\":{\"below\":[{\"id\":\"1305\"}],\"center\":[{\"id\":\"1308\"},{\"id\":\"1311\"}],\"height\":55,\"left\":[{\"id\":\"1309\"}],\"min_border\":0,\"renderers\":[{\"id\":\"1319\"},{\"id\":\"1321\"}],\"title\":null,\"toolbar\":{\"id\":\"1314\"},\"toolbar_location\":null,\"width\":800,\"x_range\":{\"id\":\"1297\"},\"x_scale\":{\"id\":\"1301\"},\"y_range\":{\"id\":\"1299\"},\"y_scale\":{\"id\":\"1303\"}},\"id\":\"1295\",\"subtype\":\"Figure\",\"type\":\"Plot\"},{\"attributes\":{},\"id\":\"1271\",\"type\":\"LinearScale\"},{\"attributes\":{\"dimensions\":\"width\"},\"id\":\"1283\",\"type\":\"PanTool\"},{\"attributes\":{},\"id\":\"1330\",\"type\":\"UnionRenderers\"},{\"attributes\":{\"dimensions\":\"width\"},\"id\":\"1312\",\"type\":\"PanTool\"},{\"attributes\":{},\"id\":\"1335\",\"type\":\"CategoricalTickFormatter\"},{\"attributes\":{\"dimensions\":\"width\"},\"id\":\"1284\",\"type\":\"WheelZoomTool\"},{\"attributes\":{},\"id\":\"1331\",\"type\":\"Selection\"}],\"root_ids\":[\"1347\",\"1428\"]},\"title\":\"Bokeh Application\",\"version\":\"2.4.0\"}};\n",
       "    var render_items = [{\"docid\":\"8f15bf92-ebab-4181-bfd6-d8542713af98\",\"root_ids\":[\"1347\"],\"roots\":{\"1347\":\"be8c52dc-f220-4a7a-aac7-e4bac4e5e836\"}}];\n",
       "    root.Bokeh.embed.embed_items_notebook(docs_json, render_items);\n",
       "  }\n",
       "  if (root.Bokeh !== undefined && root.Bokeh.Panel !== undefined) {\n",
       "    embed_document(root);\n",
       "  } else {\n",
       "    var attempts = 0;\n",
       "    var timer = setInterval(function(root) {\n",
       "      if (root.Bokeh !== undefined && root.Bokeh.Panel !== undefined) {\n",
       "        clearInterval(timer);\n",
       "        embed_document(root);\n",
       "      } else if (document.readyState == \"complete\") {\n",
       "        attempts++;\n",
       "        if (attempts > 200) {\n",
       "          clearInterval(timer);\n",
       "          console.log(\"Bokeh: ERROR: Unable to run BokehJS code because BokehJS library is missing\");\n",
       "        }\n",
       "      }\n",
       "    }, 25, root)\n",
       "  }\n",
       "})(window);</script>"
      ],
      "text/plain": [
       "Bokeh(Column)"
      ]
     },
     "metadata": {
      "application/vnd.holoviews_exec.v0+json": {
       "id": "1347"
      }
     },
     "output_type": "display_data"
    }
   ],
   "source": [
    "gpsa_nucl.view() # visualise alignment"
   ]
  },
  {
   "cell_type": "markdown",
   "id": "bf606efb",
   "metadata": {
    "papermill": {
     "duration": 0.063709,
     "end_time": "2023-05-10T06:28:46.749425",
     "exception": false,
     "start_time": "2023-05-10T06:28:46.685716",
     "status": "completed"
    },
    "tags": []
   },
   "source": [
    "### <b><span style='color:#E888BB'> 5.8 |</span> Pairwise Sequence Alignment Example </b>\n",
    "\n",
    "####  <b><span style='color:#E888BB'>HUMAN & MOUSE PROTEIN SEQUENCE ALIGNMENT</span></b> \n",
    "- So we know how to read realistic sequences from **<mark style=\"background-color:#323232;color:white;border-radius:5px;opacity:0.9\">FASTA</mark>** files, so let's look at a more realistic example\n",
    "- Now let’s align the **<span style='color:#E888BB'>human</span>** (<code>AAH12844.1.faa</code>) and **<span style='color:#E888BB'>mouse</span>** (<code>NP_001265185.1.faa</code>) major prion proteins typing their accession numbers\n",
    "- We'll also define a custom colorcoding palette **<mark style=\"background-color:#323232;color:white;border-radius:5px;opacity:0.9\">chage_aa</mark>**, custom palettes can be added using **<span style='color:#E888BB'>@staticmethod</span>** <code>get_colors</code> in class **<mark style=\"background-color:#323232;color:white;border-radius:5px;opacity:0.9\">ali_view</mark>** "
   ]
  },
  {
   "cell_type": "code",
   "execution_count": 17,
   "id": "0b0beaf5",
   "metadata": {
    "execution": {
     "iopub.execute_input": "2023-05-10T06:28:46.884687Z",
     "iopub.status.busy": "2023-05-10T06:28:46.883594Z",
     "iopub.status.idle": "2023-05-10T06:28:46.904504Z",
     "shell.execute_reply": "2023-05-10T06:28:46.905166Z",
     "shell.execute_reply.started": "2023-05-10T06:14:00.744790Z"
    },
    "papermill": {
     "duration": 0.091783,
     "end_time": "2023-05-10T06:28:46.905373",
     "exception": false,
     "start_time": "2023-05-10T06:28:46.813590",
     "status": "completed"
    },
    "tags": []
   },
   "outputs": [
    {
     "name": "stdout",
     "output_type": "stream",
     "text": [
      "[note] read -> FASTA [amino acid] | #seq: 1\n",
      "length of sequence: 253\n",
      "[note] read -> FASTA [amino acid] | #seq: 1\n",
      "length of sequence: 254\n"
     ]
    }
   ],
   "source": [
    "human = \"/kaggle/input/bioinformatics/sequences/AAH12844.1.faa\"      \n",
    "mouse = \"/kaggle/input/bioinformatics/sequences/NP_001265185.1.faa\"\n",
    "\n",
    "# Read sequences from FASTA files\n",
    "human_faa = readSeq(human).store(); print(f'length of sequence: {len(human_faa)}')\n",
    "mouse_faa = readSeq(mouse).store(); print(f'length of sequence: {len(mouse_faa)}')"
   ]
  },
  {
   "cell_type": "code",
   "execution_count": 18,
   "id": "8cc6c4b3",
   "metadata": {
    "execution": {
     "iopub.execute_input": "2023-05-10T06:28:47.045447Z",
     "iopub.status.busy": "2023-05-10T06:28:47.044644Z",
     "iopub.status.idle": "2023-05-10T06:28:47.490938Z",
     "shell.execute_reply": "2023-05-10T06:28:47.490136Z",
     "shell.execute_reply.started": "2023-05-10T06:14:00.789343Z"
    },
    "papermill": {
     "duration": 0.519643,
     "end_time": "2023-05-10T06:28:47.491123",
     "exception": false,
     "start_time": "2023-05-10T06:28:46.971480",
     "status": "completed"
    },
    "tags": []
   },
   "outputs": [
    {
     "data": {},
     "metadata": {},
     "output_type": "display_data"
    },
    {
     "data": {
      "application/vnd.holoviews_exec.v0+json": "",
      "text/html": [
       "<div id='1592'>\n",
       "\n",
       "\n",
       "\n",
       "\n",
       "\n",
       "  <div class=\"bk-root\" id=\"1cda9a6f-2e8e-4ed7-84ff-578525f9f0e2\" data-root-id=\"1592\"></div>\n",
       "</div>\n",
       "<script type=\"application/javascript\">(function(root) {\n",
       "  function embed_document(root) {\n",
       "    var docs_json = {\"8e3eb1c7-92c2-495d-9540-ae03de461473\":{\"defs\":[{\"extends\":null,\"module\":null,\"name\":\"ReactiveHTML1\",\"overrides\":[],\"properties\":[]},{\"extends\":null,\"module\":null,\"name\":\"FlexBox1\",\"overrides\":[],\"properties\":[{\"default\":\"flex-start\",\"kind\":null,\"name\":\"align_content\"},{\"default\":\"flex-start\",\"kind\":null,\"name\":\"align_items\"},{\"default\":\"row\",\"kind\":null,\"name\":\"flex_direction\"},{\"default\":\"wrap\",\"kind\":null,\"name\":\"flex_wrap\"},{\"default\":\"flex-start\",\"kind\":null,\"name\":\"justify_content\"}]},{\"extends\":null,\"module\":null,\"name\":\"TemplateActions1\",\"overrides\":[],\"properties\":[{\"default\":0,\"kind\":null,\"name\":\"open_modal\"},{\"default\":0,\"kind\":null,\"name\":\"close_modal\"}]},{\"extends\":null,\"module\":null,\"name\":\"MaterialTemplateActions1\",\"overrides\":[],\"properties\":[{\"default\":0,\"kind\":null,\"name\":\"open_modal\"},{\"default\":0,\"kind\":null,\"name\":\"close_modal\"}]}],\"roots\":{\"references\":[{\"attributes\":{},\"id\":\"1551\",\"type\":\"BasicTicker\"},{\"attributes\":{\"axis\":{\"id\":\"1550\"},\"coordinates\":null,\"group\":null,\"ticker\":null,\"visible\":false},\"id\":\"1553\",\"type\":\"Grid\"},{\"attributes\":{\"dimensions\":\"width\"},\"id\":\"1528\",\"type\":\"PanTool\"},{\"attributes\":{\"dimensions\":\"width\"},\"id\":\"1529\",\"type\":\"WheelZoomTool\"},{\"attributes\":{},\"id\":\"1571\",\"type\":\"AllLabels\"},{\"attributes\":{\"children\":[{\"id\":\"1591\"}],\"margin\":[0,0,0,0],\"name\":\"Row00111\"},\"id\":\"1592\",\"type\":\"Row\"},{\"attributes\":{\"fill_alpha\":{\"value\":0.7},\"fill_color\":{\"field\":\"colors\"},\"height\":{\"value\":1},\"line_color\":{\"value\":null},\"width\":{\"value\":1.0},\"x\":{\"field\":\"x\"},\"y\":{\"field\":\"recty\"}},\"id\":\"1563\",\"type\":\"Rect\"},{\"attributes\":{\"axis\":{\"id\":\"1554\"},\"coordinates\":null,\"dimension\":1,\"group\":null,\"ticker\":null,\"visible\":false},\"id\":\"1556\",\"type\":\"Grid\"},{\"attributes\":{\"coordinates\":null,\"formatter\":{\"id\":\"1580\"},\"group\":null,\"major_label_policy\":{\"id\":\"1581\"},\"major_tick_line_width\":0,\"minor_tick_line_width\":0,\"ticker\":{\"id\":\"1555\"}},\"id\":\"1554\",\"type\":\"CategoricalAxis\"},{\"attributes\":{},\"id\":\"1574\",\"type\":\"AllLabels\"},{\"attributes\":{},\"id\":\"1575\",\"type\":\"UnionRenderers\"},{\"attributes\":{\"coordinates\":null,\"data_source\":{\"id\":\"1509\"},\"glyph\":{\"id\":\"1562\"},\"group\":null,\"hover_glyph\":null,\"view\":{\"id\":\"1567\"}},\"id\":\"1566\",\"type\":\"GlyphRenderer\"},{\"attributes\":{},\"id\":\"1530\",\"type\":\"ResetTool\"},{\"attributes\":{},\"id\":\"1521\",\"type\":\"BasicTicker\"},{\"attributes\":{\"end\":2},\"id\":\"1514\",\"type\":\"Range1d\"},{\"attributes\":{},\"id\":\"1518\",\"type\":\"LinearScale\"},{\"attributes\":{\"coordinates\":null,\"formatter\":{\"id\":\"1583\"},\"group\":null,\"major_label_policy\":{\"id\":\"1584\"},\"major_label_text_font_style\":\"bold\",\"ticker\":{\"id\":\"1551\"}},\"id\":\"1550\",\"type\":\"LinearAxis\"},{\"attributes\":{},\"id\":\"1576\",\"type\":\"Selection\"},{\"attributes\":{\"below\":[{\"id\":\"1520\"}],\"center\":[{\"id\":\"1523\"},{\"id\":\"1527\"}],\"height\":50,\"left\":[{\"id\":\"1524\"}],\"min_border\":0,\"renderers\":[{\"id\":\"1538\"}],\"title\":null,\"toolbar\":{\"id\":\"1532\"},\"toolbar_location\":null,\"width\":800,\"x_range\":{\"id\":\"1510\"},\"x_scale\":{\"id\":\"1516\"},\"y_range\":{\"id\":\"1514\"},\"y_scale\":{\"id\":\"1518\"}},\"id\":\"1511\",\"subtype\":\"Figure\",\"type\":\"Plot\"},{\"attributes\":{\"toolbar\":{\"id\":\"1589\"},\"toolbar_location\":\"below\"},\"id\":\"1590\",\"type\":\"ToolbarBox\"},{\"attributes\":{},\"id\":\"1531\",\"type\":\"SaveTool\"},{\"attributes\":{\"dimensions\":\"width\"},\"id\":\"1557\",\"type\":\"PanTool\"},{\"attributes\":{\"tools\":[{\"id\":\"1528\"},{\"id\":\"1529\"},{\"id\":\"1530\"},{\"id\":\"1531\"}]},\"id\":\"1532\",\"type\":\"Toolbar\"},{\"attributes\":{},\"id\":\"1581\",\"type\":\"AllLabels\"},{\"attributes\":{\"client_comm_id\":\"4d9582acf86b42c093b2d4ca4c739475\",\"comm_id\":\"24005fff8f054c8996adf704a78930d3\",\"plot_id\":\"1592\"},\"id\":\"1673\",\"type\":\"panel.models.comm_manager.CommManager\"},{\"attributes\":{\"text_align\":{\"value\":\"center\"},\"text_color\":{\"value\":\"black\"},\"text_font_size\":{\"value\":\"9pt\"},\"text_font_style\":{\"value\":\"bold\"},\"x\":{\"field\":\"x\"},\"y\":{\"field\":\"y\"}},\"id\":\"1562\",\"type\":\"Text\"},{\"attributes\":{\"below\":[{\"id\":\"1550\"}],\"center\":[{\"id\":\"1553\"},{\"id\":\"1556\"}],\"height\":55,\"left\":[{\"id\":\"1554\"}],\"min_border\":0,\"renderers\":[{\"id\":\"1564\"},{\"id\":\"1566\"}],\"title\":null,\"toolbar\":{\"id\":\"1559\"},\"toolbar_location\":null,\"width\":800,\"x_range\":{\"id\":\"1542\"},\"x_scale\":{\"id\":\"1546\"},\"y_range\":{\"id\":\"1544\"},\"y_scale\":{\"id\":\"1548\"}},\"id\":\"1540\",\"subtype\":\"Figure\",\"type\":\"Plot\"},{\"attributes\":{},\"id\":\"1558\",\"type\":\"ResetTool\"},{\"attributes\":{},\"id\":\"1580\",\"type\":\"CategoricalTickFormatter\"},{\"attributes\":{},\"id\":\"1516\",\"type\":\"LinearScale\"},{\"attributes\":{},\"id\":\"1570\",\"type\":\"BasicTickFormatter\"},{\"attributes\":{},\"id\":\"1555\",\"type\":\"CategoricalTicker\"},{\"attributes\":{},\"id\":\"1583\",\"type\":\"BasicTickFormatter\"},{\"attributes\":{\"coordinates\":null,\"formatter\":{\"id\":\"1573\"},\"group\":null,\"major_label_policy\":{\"id\":\"1574\"},\"ticker\":{\"id\":\"1521\"}},\"id\":\"1520\",\"type\":\"LinearAxis\"},{\"attributes\":{},\"id\":\"1584\",\"type\":\"AllLabels\"},{\"attributes\":{\"source\":{\"id\":\"1509\"}},\"id\":\"1567\",\"type\":\"CDSView\"},{\"attributes\":{},\"id\":\"1548\",\"type\":\"CategoricalScale\"},{\"attributes\":{},\"id\":\"1525\",\"type\":\"BasicTicker\"},{\"attributes\":{\"children\":[{\"id\":\"1588\"},{\"id\":\"1590\"}]},\"id\":\"1591\",\"type\":\"Column\"},{\"attributes\":{\"axis\":{\"id\":\"1520\"},\"coordinates\":null,\"group\":null,\"ticker\":null,\"visible\":false},\"id\":\"1523\",\"type\":\"Grid\"},{\"attributes\":{\"coordinates\":null,\"data_source\":{\"id\":\"1509\"},\"glyph\":{\"id\":\"1563\"},\"group\":null,\"hover_glyph\":null,\"view\":{\"id\":\"1565\"}},\"id\":\"1564\",\"type\":\"GlyphRenderer\"},{\"attributes\":{\"source\":{\"id\":\"1509\"}},\"id\":\"1539\",\"type\":\"CDSView\"},{\"attributes\":{\"source\":{\"id\":\"1509\"}},\"id\":\"1565\",\"type\":\"CDSView\"},{\"attributes\":{\"axis\":{\"id\":\"1524\"},\"coordinates\":null,\"dimension\":1,\"group\":null,\"ticker\":null,\"visible\":false},\"id\":\"1527\",\"type\":\"Grid\"},{\"attributes\":{\"tools\":[{\"id\":\"1557\"},{\"id\":\"1558\"}]},\"id\":\"1559\",\"type\":\"Toolbar\"},{\"attributes\":{\"children\":[[{\"id\":\"1511\"},0,0],[{\"id\":\"1540\"},1,0]]},\"id\":\"1588\",\"type\":\"GridBox\"},{\"attributes\":{\"coordinates\":null,\"formatter\":{\"id\":\"1570\"},\"group\":null,\"major_label_policy\":{\"id\":\"1571\"},\"ticker\":{\"id\":\"1525\"},\"visible\":false},\"id\":\"1524\",\"type\":\"LinearAxis\"},{\"attributes\":{},\"id\":\"1546\",\"type\":\"LinearScale\"},{\"attributes\":{\"end\":50},\"id\":\"1542\",\"type\":\"Range1d\"},{\"attributes\":{\"factors\":[\"AAH12844.1\",\"NP_001265185.1\"]},\"id\":\"1544\",\"type\":\"FactorRange\"},{\"attributes\":{\"data\":{\"colors\":[\"#8081f7\",\"#8081f7\",\"white\",\"#8081f7\",\"#8081f7\",\"#8081f7\",\"#8081f7\",\"#8081f7\",\"#8081f7\",\"#8081f7\",\"#8081f7\",\"#8081f7\",\"#8081f7\",\"#8081f7\",\"#white\",\"white\",\"#8081f7\",\"white\",\"#fe8081\",\"#8081f7\",\"#8081f7\",\"#8081f7\",\"#8081f7\",\"#b3ff80\",\"#b3ff80\",\"#b3ff80\",\"#8081f7\",\"#b3ff80\",\"#8081f7\",\"#8081f7\",\"#8081f7\",\"#8081f7\",\"white\",\"#white\",\"#8081f7\",\"#8081f7\",\"white\",\"#b3ff80\",\"white\",\"#8081f7\",\"#8081f7\",\"white\",\"#8081f7\",\"white\",\"#8081f7\",\"#8081f7\",\"#8081f7\",\"white\",\"#b3ff80\",\"white\",\"#8081f7\",\"#8081f7\",\"white\",\"#8081f7\",\"#8081f7\",\"#8081f7\",\"#8081f7\",\"#8081f7\",\"#8081f7\",\"white\",\"#8081f7\",\"#b3ff80\",\"#8081f7\",\"#8081f7\",\"#8081f7\",\"#8081f7\",\"#8081f7\",\"white\",\"#8081f7\",\"#b3ff80\",\"#8081f7\",\"#8081f7\",\"#8081f7\",\"#8081f7\",\"#8081f7\",\"white\",\"#8081f7\",\"#b3ff80\",\"#8081f7\",\"#8081f7\",\"#8081f7\",\"#8081f7\",\"#8081f7\",\"white\",\"#8081f7\",\"#b3ff80\",\"#8081f7\",\"#8081f7\",\"#8081f7\",\"#8081f7\",\"#8081f7\",\"white\",\"#8081f7\",\"#8081f7\",\"#8081f7\",\"#white\",\"#b3ff80\",\"white\",\"white\",\"#8081f7\",\"white\",\"#b3ff80\",\"#8081f7\",\"white\",\"#b3ff80\",\"#8081f7\",\"#b3ff80\",\"#white\",\"white\",\"#8081f7\",\"#b3ff80\",\"#b3ff80\",\"#8081f7\",\"#8081f7\",\"#8081f7\",\"#8081f7\",\"#8081f7\",\"#8081f7\",\"#8081f7\",\"#8081f7\",\"#8081f7\",\"#8081f7\",\"#8081f7\",\"#8081f7\",\"#8081f7\",\"#8081f7\",\"#8081f7\",\"#8081f7\",\"white\",\"#8081f7\",\"#8081f7\",\"#8081f7\",\"white\",\"#8081f7\",\"#8081f7\",\"white\",\"#b3ff80\",\"#8081f7\",\"#8081f7\",\"#8081f7\",\"#b3ff80\",\"#8081f7\",\"#8081f7\",\"white\",\"#fe8081\",\"white\",\"#fe8081\",\"#fe8081\",\"#b3ff80\",\"white\",\"white\",\"#b3ff80\",\"#fe8081\",\"white\",\"#8081f7\",\"#b3ff80\",\"#b3ff80\",\"white\",\"#8081f7\",\"white\",\"white\",\"#8081f7\",\"white\",\"white\",\"#b3ff80\",\"#8081f7\",\"#8081f7\",\"#fe8081\",\"#fe8081\",\"white\",\"white\",\"white\",\"white\",\"white\",\"white\",\"#8081f7\",\"#8081f7\",\"#b3ff80\",\"#fe8081\",\"#8081f7\",\"#8081f7\",\"white\",\"#8081f7\",\"#white\",\"#8081f7\",\"#b3ff80\",\"white\",\"#b3ff80\",\"#white\",\"#8081f7\",\"#white\",\"#white\",\"#white\",\"#white\",\"#b3ff80\",\"#8081f7\",\"#fe8081\",\"white\",\"#8081f7\",\"#white\",\"#fe8081\",\"#white\",\"#fe8081\",\"#8081f7\",\"#b3ff80\",\"#8081f7\",\"#8081f7\",\"#fe8081\",\"#b3ff80\",\"#8081f7\",\"#8081f7\",\"#fe8081\",\"white\",\"#8081f7\",\"#8081f7\",\"#8081f7\",\"#white\",\"white\",\"white\",\"#fe8081\",\"#b3ff80\",\"#fe8081\",\"white\",\"white\",\"#8081f7\",\"white\",\"white\",\"white\",\"white\",\"white\",\"#b3ff80\",\"#8081f7\",\"white\",\"white\",\"#8081f7\",\"#8081f7\",\"#8081f7\",\"#8081f7\",\"white\",\"white\",\"#8081f7\",\"#8081f7\",\"#8081f7\",\"#8081f7\",\"#8081f7\",\"#8081f7\",\"#8081f7\",\"white\",\"#8081f7\",\"#8081f7\",\"#8081f7\",\"#8081f7\",\"#8081f7\",\"#8081f7\",\"#8081f7\",\"#8081f7\",\"#8081f7\",\"#8081f7\",\"white\",\"#8081f7\",\"#8081f7\",\"white\",\"#8081f7\",\"#8081f7\",\"#8081f7\",\"#8081f7\",\"#8081f7\",\"#8081f7\",\"#8081f7\",\"white\",\"#white\",\"#8081f7\",\"#8081f7\",\"#white\",\"#fe8081\",\"#8081f7\",\"#8081f7\",\"#8081f7\",\"#8081f7\",\"#b3ff80\",\"#b3ff80\",\"#b3ff80\",\"#8081f7\",\"#b3ff80\",\"#8081f7\",\"#8081f7\",\"#8081f7\",\"#8081f7\",\"white\",\"#white\",\"#8081f7\",\"#8081f7\",\"white\",\"#b3ff80\",\"white\",\"#8081f7\",\"#8081f7\",\"white\",\"#8081f7\",\"white\",\"#8081f7\",\"#8081f7\",\"#8081f7\",\"white\",\"#b3ff80\",\"white\",\"#8081f7\",\"#8081f7\",\"white\",\"#8081f7\",\"#8081f7\",\"#white\",\"white\",\"#8081f7\",\"#8081f7\",\"white\",\"#8081f7\",\"#b3ff80\",\"#8081f7\",\"#8081f7\",\"#8081f7\",\"#8081f7\",\"#8081f7\",\"white\",\"#8081f7\",\"#b3ff80\",\"#8081f7\",\"#8081f7\",\"white\",\"#8081f7\",\"#8081f7\",\"white\",\"#8081f7\",\"#b3ff80\",\"#8081f7\",\"#8081f7\",\"white\",\"#8081f7\",\"#8081f7\",\"white\",\"#8081f7\",\"#b3ff80\",\"#8081f7\",\"#8081f7\",\"#8081f7\",\"#8081f7\",\"#8081f7\",\"white\",\"#8081f7\",\"#8081f7\",\"#8081f7\",\"#white\",\"#b3ff80\",\"white\",\"white\",\"#8081f7\",\"white\",\"#b3ff80\",\"#8081f7\",\"white\",\"#b3ff80\",\"#8081f7\",\"#b3ff80\",\"#white\",\"white\",\"#8081f7\",\"#b3ff80\",\"#b3ff80\",\"#8081f7\",\"#8081f7\",\"#8081f7\",\"#8081f7\",\"#8081f7\",\"#8081f7\",\"#8081f7\",\"#8081f7\",\"#8081f7\",\"#8081f7\",\"#8081f7\",\"#8081f7\",\"#8081f7\",\"#8081f7\",\"#8081f7\",\"#8081f7\",\"white\",\"#8081f7\",\"#8081f7\",\"#8081f7\",\"white\",\"#8081f7\",\"#8081f7\",\"white\",\"#b3ff80\",\"#8081f7\",\"#8081f7\",\"#8081f7\",\"#b3ff80\",\"#8081f7\",\"#8081f7\",\"white\",\"#fe8081\",\"#8081f7\",\"#fe8081\",\"#fe8081\",\"#b3ff80\",\"white\",\"white\",\"#b3ff80\",\"#fe8081\",\"white\",\"#8081f7\",\"white\",\"#b3ff80\",\"white\",\"#8081f7\",\"white\",\"white\",\"#8081f7\",\"white\",\"white\",\"#b3ff80\",\"#8081f7\",\"#8081f7\",\"#fe8081\",\"white\",\"white\",\"white\",\"white\",\"white\",\"white\",\"white\",\"#8081f7\",\"#8081f7\",\"#b3ff80\",\"#fe8081\",\"#8081f7\",\"#8081f7\",\"white\",\"#8081f7\",\"#white\",\"#8081f7\",\"#b3ff80\",\"white\",\"#b3ff80\",\"#white\",\"#8081f7\",\"#white\",\"#white\",\"#white\",\"#white\",\"#b3ff80\",\"#8081f7\",\"#fe8081\",\"white\",\"#8081f7\",\"#white\",\"#fe8081\",\"#white\",\"#fe8081\",\"#8081f7\",\"#b3ff80\",\"#8081f7\",\"#8081f7\",\"#fe8081\",\"#b3ff80\",\"#8081f7\",\"#8081f7\",\"#fe8081\",\"white\",\"#8081f7\",\"#8081f7\",\"#8081f7\",\"#white\",\"white\",\"white\",\"white\",\"#b3ff80\",\"#fe8081\",\"white\",\"white\",\"#8081f7\",\"white\",\"white\",\"#fe8081\",\"#8081f7\",\"#b3ff80\",\"#b3ff80\",\"white\",\"white\",\"white\",\"#white\",\"#8081f7\",\"#8081f7\",\"#8081f7\",\"white\",\"white\",\"#8081f7\",\"#8081f7\",\"#8081f7\",\"#8081f7\",\"#8081f7\",\"#8081f7\",\"#8081f7\",\"white\",\"#8081f7\",\"#8081f7\",\"#8081f7\",\"#8081f7\",\"#8081f7\",\"#8081f7\",\"#8081f7\",\"#8081f7\"],\"recty\":{\"__ndarray__\":\"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\",\"dtype\":\"float64\",\"order\":\"little\",\"shape\":[512]},\"text\":[\"M\",\"A\",\"N\",\"L\",\"G\",\"C\",\"W\",\"M\",\"L\",\"V\",\"L\",\"F\",\"V\",\"A\",\"T\",\"-\",\"W\",\"S\",\"D\",\"L\",\"G\",\"L\",\"C\",\"K\",\"K\",\"R\",\"P\",\"K\",\"P\",\"G\",\"G\",\"W\",\"N\",\"T\",\"G\",\"G\",\"S\",\"R\",\"Y\",\"P\",\"G\",\"Q\",\"G\",\"S\",\"P\",\"G\",\"G\",\"N\",\"R\",\"Y\",\"P\",\"P\",\"Q\",\"G\",\"G\",\"G\",\"G\",\"W\",\"G\",\"Q\",\"P\",\"H\",\"G\",\"G\",\"G\",\"W\",\"G\",\"Q\",\"P\",\"H\",\"G\",\"G\",\"G\",\"W\",\"G\",\"Q\",\"P\",\"H\",\"G\",\"G\",\"G\",\"W\",\"G\",\"Q\",\"P\",\"H\",\"G\",\"G\",\"G\",\"W\",\"G\",\"Q\",\"G\",\"G\",\"G\",\"T\",\"H\",\"S\",\"Q\",\"W\",\"N\",\"K\",\"P\",\"S\",\"K\",\"P\",\"K\",\"T\",\"N\",\"M\",\"K\",\"H\",\"M\",\"A\",\"G\",\"A\",\"A\",\"A\",\"A\",\"G\",\"A\",\"V\",\"V\",\"G\",\"G\",\"L\",\"G\",\"G\",\"Y\",\"V\",\"L\",\"G\",\"S\",\"A\",\"M\",\"S\",\"R\",\"P\",\"I\",\"I\",\"H\",\"F\",\"G\",\"S\",\"D\",\"Y\",\"E\",\"D\",\"R\",\"Y\",\"Y\",\"R\",\"E\",\"N\",\"M\",\"H\",\"R\",\"Y\",\"P\",\"N\",\"Q\",\"V\",\"Y\",\"Y\",\"R\",\"P\",\"M\",\"D\",\"E\",\"Y\",\"S\",\"N\",\"Q\",\"N\",\"N\",\"F\",\"V\",\"H\",\"D\",\"C\",\"V\",\"N\",\"I\",\"T\",\"I\",\"K\",\"Q\",\"H\",\"T\",\"V\",\"T\",\"T\",\"T\",\"T\",\"K\",\"G\",\"E\",\"N\",\"F\",\"T\",\"E\",\"T\",\"D\",\"V\",\"K\",\"M\",\"M\",\"E\",\"R\",\"V\",\"V\",\"E\",\"Q\",\"M\",\"C\",\"I\",\"T\",\"Q\",\"Y\",\"E\",\"R\",\"E\",\"S\",\"Q\",\"A\",\"Y\",\"Y\",\"-\",\"-\",\"Q\",\"R\",\"G\",\"S\",\"S\",\"M\",\"V\",\"L\",\"F\",\"S\",\"S\",\"P\",\"P\",\"V\",\"I\",\"L\",\"L\",\"I\",\"S\",\"F\",\"L\",\"I\",\"F\",\"L\",\"I\",\"V\",\"G\",\"M\",\"A\",\"N\",\"L\",\"G\",\"Y\",\"W\",\"L\",\"L\",\"A\",\"L\",\"F\",\"V\",\"-\",\"T\",\"M\",\"W\",\"T\",\"D\",\"V\",\"G\",\"L\",\"C\",\"K\",\"K\",\"R\",\"P\",\"K\",\"P\",\"G\",\"G\",\"W\",\"N\",\"T\",\"G\",\"G\",\"S\",\"R\",\"Y\",\"P\",\"G\",\"Q\",\"G\",\"S\",\"P\",\"G\",\"G\",\"N\",\"R\",\"Y\",\"P\",\"P\",\"Q\",\"G\",\"G\",\"T\",\"-\",\"W\",\"G\",\"Q\",\"P\",\"H\",\"G\",\"G\",\"G\",\"W\",\"G\",\"Q\",\"P\",\"H\",\"G\",\"G\",\"S\",\"W\",\"G\",\"Q\",\"P\",\"H\",\"G\",\"G\",\"S\",\"W\",\"G\",\"Q\",\"P\",\"H\",\"G\",\"G\",\"G\",\"W\",\"G\",\"Q\",\"G\",\"G\",\"G\",\"T\",\"H\",\"N\",\"Q\",\"W\",\"N\",\"K\",\"P\",\"S\",\"K\",\"P\",\"K\",\"T\",\"N\",\"L\",\"K\",\"H\",\"V\",\"A\",\"G\",\"A\",\"A\",\"A\",\"A\",\"G\",\"A\",\"V\",\"V\",\"G\",\"G\",\"L\",\"G\",\"G\",\"Y\",\"M\",\"L\",\"G\",\"S\",\"A\",\"M\",\"S\",\"R\",\"P\",\"M\",\"I\",\"H\",\"F\",\"G\",\"N\",\"D\",\"W\",\"E\",\"D\",\"R\",\"Y\",\"Y\",\"R\",\"E\",\"N\",\"M\",\"Y\",\"R\",\"Y\",\"P\",\"N\",\"Q\",\"V\",\"Y\",\"Y\",\"R\",\"P\",\"V\",\"D\",\"Q\",\"Y\",\"S\",\"N\",\"Q\",\"N\",\"N\",\"F\",\"V\",\"H\",\"D\",\"C\",\"V\",\"N\",\"I\",\"T\",\"I\",\"K\",\"Q\",\"H\",\"T\",\"V\",\"T\",\"T\",\"T\",\"T\",\"K\",\"G\",\"E\",\"N\",\"F\",\"T\",\"E\",\"T\",\"D\",\"V\",\"K\",\"M\",\"M\",\"E\",\"R\",\"V\",\"V\",\"E\",\"Q\",\"M\",\"C\",\"V\",\"T\",\"Q\",\"Y\",\"Q\",\"K\",\"E\",\"S\",\"Q\",\"A\",\"Y\",\"Y\",\"D\",\"G\",\"R\",\"R\",\"S\",\"S\",\"S\",\"T\",\"V\",\"L\",\"F\",\"S\",\"S\",\"P\",\"P\",\"V\",\"I\",\"L\",\"L\",\"I\",\"S\",\"F\",\"L\",\"I\",\"F\",\"L\",\"I\",\"V\",\"G\"],\"x\":{\"__ndarray__\":\"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\",\"dtype\":\"float64\",\"order\":\"little\",\"shape\":[512]},\"y\":[0,0,0,0,0,0,0,0,0,0,0,0,0,0,0,0,0,0,0,0,0,0,0,0,0,0,0,0,0,0,0,0,0,0,0,0,0,0,0,0,0,0,0,0,0,0,0,0,0,0,0,0,0,0,0,0,0,0,0,0,0,0,0,0,0,0,0,0,0,0,0,0,0,0,0,0,0,0,0,0,0,0,0,0,0,0,0,0,0,0,0,0,0,0,0,0,0,0,0,0,0,0,0,0,0,0,0,0,0,0,0,0,0,0,0,0,0,0,0,0,0,0,0,0,0,0,0,0,0,0,0,0,0,0,0,0,0,0,0,0,0,0,0,0,0,0,0,0,0,0,0,0,0,0,0,0,0,0,0,0,0,0,0,0,0,0,0,0,0,0,0,0,0,0,0,0,0,0,0,0,0,0,0,0,0,0,0,0,0,0,0,0,0,0,0,0,0,0,0,0,0,0,0,0,0,0,0,0,0,0,0,0,0,0,0,0,0,0,0,0,0,0,0,0,0,0,0,0,0,0,0,0,0,0,0,0,0,0,0,0,0,0,0,0,0,0,0,0,0,0,0,0,0,0,0,0,1,1,1,1,1,1,1,1,1,1,1,1,1,1,1,1,1,1,1,1,1,1,1,1,1,1,1,1,1,1,1,1,1,1,1,1,1,1,1,1,1,1,1,1,1,1,1,1,1,1,1,1,1,1,1,1,1,1,1,1,1,1,1,1,1,1,1,1,1,1,1,1,1,1,1,1,1,1,1,1,1,1,1,1,1,1,1,1,1,1,1,1,1,1,1,1,1,1,1,1,1,1,1,1,1,1,1,1,1,1,1,1,1,1,1,1,1,1,1,1,1,1,1,1,1,1,1,1,1,1,1,1,1,1,1,1,1,1,1,1,1,1,1,1,1,1,1,1,1,1,1,1,1,1,1,1,1,1,1,1,1,1,1,1,1,1,1,1,1,1,1,1,1,1,1,1,1,1,1,1,1,1,1,1,1,1,1,1,1,1,1,1,1,1,1,1,1,1,1,1,1,1,1,1,1,1,1,1,1,1,1,1,1,1,1,1,1,1,1,1,1,1,1,1,1,1,1,1,1,1,1,1,1,1,1,1,1,1,1,1,1,1,1,1,1,1,1,1,1,1,1,1,1,1,1,1]},\"selected\":{\"id\":\"1576\"},\"selection_policy\":{\"id\":\"1575\"}},\"id\":\"1509\",\"type\":\"ColumnDataSource\"},{\"attributes\":{\"fill_alpha\":{\"value\":0.7},\"fill_color\":{\"field\":\"colors\"},\"height\":{\"value\":0.5},\"line_color\":{\"value\":null},\"width\":{\"value\":1},\"x\":{\"field\":\"x\"},\"y\":{\"field\":\"recty\"}},\"id\":\"1537\",\"type\":\"Rect\"},{\"attributes\":{},\"id\":\"1573\",\"type\":\"BasicTickFormatter\"},{\"attributes\":{\"toolbars\":[{\"id\":\"1532\"},{\"id\":\"1559\"}],\"tools\":[{\"id\":\"1528\"},{\"id\":\"1529\"},{\"id\":\"1530\"},{\"id\":\"1531\"},{\"id\":\"1557\"},{\"id\":\"1558\"}]},\"id\":\"1589\",\"type\":\"ProxyToolbar\"},{\"attributes\":{\"coordinates\":null,\"data_source\":{\"id\":\"1509\"},\"glyph\":{\"id\":\"1537\"},\"group\":null,\"hover_glyph\":null,\"view\":{\"id\":\"1539\"}},\"id\":\"1538\",\"type\":\"GlyphRenderer\"},{\"attributes\":{\"bounds\":\"auto\",\"end\":257},\"id\":\"1510\",\"type\":\"Range1d\"}],\"root_ids\":[\"1592\",\"1673\"]},\"title\":\"Bokeh Application\",\"version\":\"2.4.0\"}};\n",
       "    var render_items = [{\"docid\":\"8e3eb1c7-92c2-495d-9540-ae03de461473\",\"root_ids\":[\"1592\"],\"roots\":{\"1592\":\"1cda9a6f-2e8e-4ed7-84ff-578525f9f0e2\"}}];\n",
       "    root.Bokeh.embed.embed_items_notebook(docs_json, render_items);\n",
       "  }\n",
       "  if (root.Bokeh !== undefined && root.Bokeh.Panel !== undefined) {\n",
       "    embed_document(root);\n",
       "  } else {\n",
       "    var attempts = 0;\n",
       "    var timer = setInterval(function(root) {\n",
       "      if (root.Bokeh !== undefined && root.Bokeh.Panel !== undefined) {\n",
       "        clearInterval(timer);\n",
       "        embed_document(root);\n",
       "      } else if (document.readyState == \"complete\") {\n",
       "        attempts++;\n",
       "        if (attempts > 200) {\n",
       "          clearInterval(timer);\n",
       "          console.log(\"Bokeh: ERROR: Unable to run BokehJS code because BokehJS library is missing\");\n",
       "        }\n",
       "      }\n",
       "    }, 25, root)\n",
       "  }\n",
       "})(window);</script>"
      ],
      "text/plain": [
       "Bokeh(Column)"
      ]
     },
     "metadata": {
      "application/vnd.holoviews_exec.v0+json": {
       "id": "1592"
      }
     },
     "output_type": "display_data"
    }
   ],
   "source": [
    "# Instantiate substitution matrix\n",
    "subm62 = SUBM()\n",
    "subm62.read(\"/kaggle/input/bioinformatics/substitution_matrices/blosum62.mat\")\n",
    "\n",
    "alin = PSA(seqs=[human_faa,mouse_faa], # define sequences\n",
    "           subm=subm62,g=-3,         # use BLOSUM62 substitution matrix\n",
    "           colcod = 'charge_aa') # use colourcoding in view\n",
    "\n",
    "alin.nW() # calculte SM, TM matrices \n",
    "alin.realign(ids='nW') # get the alignment from TM matrix\n",
    "alin.view() # visualise alignment"
   ]
  },
  {
   "cell_type": "code",
   "execution_count": null,
   "id": "6d9770eb",
   "metadata": {
    "papermill": {
     "duration": 0.066001,
     "end_time": "2023-05-10T06:28:47.625490",
     "exception": false,
     "start_time": "2023-05-10T06:28:47.559489",
     "status": "completed"
    },
    "tags": []
   },
   "outputs": [],
   "source": []
  },
  {
   "cell_type": "markdown",
   "id": "663abc7c",
   "metadata": {
    "papermill": {
     "duration": 0.067017,
     "end_time": "2023-05-10T06:28:47.758537",
     "exception": false,
     "start_time": "2023-05-10T06:28:47.691520",
     "status": "completed"
    },
    "tags": []
   },
   "source": [
    "# <div style=\"padding: 30px;color:white;margin:10;font-size:60%;text-align:left;display:fill;border-radius:10px;background-color:#FFFFFF;overflow:hidden;background-color:#E888BB\"><b><span style='color:#FFFFFF'>6 |</span></b> <b>Multiple Sequence Alignment</b></div>\n",
    "\n",
    "### <b><span style='color:#E888BB'> 6.1 |</span> Progressive Alignment Approach </b>\n",
    "\n",
    "- We looked at **<span style='color:#E888BB'>PSA</span>**, now we'll focus on utilising it for **<span style='color:#E888BB'>multiple sequence alignment</span>**:\n",
    "- The method first calls **<span style='color:#E888BB'>PSA</span>**, then progressively, subsequent sequences are added and a consensus is constantly found iteratively\n",
    "- Unlike **<span style='color:#E888BB'>PSA</span>**, here we'll only be concerning ourselves with **<span style='color:#E888BB'>global sequence alignment</span>**\n",
    "\n",
    "#### **<span style='color:#E888BB'>ITERATIVELY ADD SEQUENCES</span>** - **PROGRESSIVE APPROACH** \n",
    "- Various approaches exists for **<span style='color:#E888BB'>MSA</span>**, one such method is called the **<mark style=\"background-color:#E888BB;color:white;border-radius:5px;opacity:0.9\">progressive algorithm</mark>** apprach\n",
    "- It's quite a straightforward iterative approach, however it lacks scalability for large number of sequences \n",
    "- Usually replaced by more advanced methods like **<mark style=\"background-color:#E888BB;color:white;border-radius:5px;opacity:0.9\">ClustalW</mark>**, **<mark style=\"background-color:#E888BB;color:white;border-radius:5px;opacity:0.9\">ClustalOmega</mark>**, and **<mark style=\"background-color:#E888BB;color:white;border-radius:5px;opacity:0.9\">Muscle</mark>**, which are incorporated into libraries like **<span style='color:#E888BB'>Bioconductor</span>**\n",
    "\n",
    "In the **<mark style=\"background-color:#E888BB;color:white;border-radius:5px;opacity:0.9\">progressive algorithm</mark>** approach:\n",
    "- **<mark style=\"background-color:#E888BB;color:white;border-radius:5px;opacity:0.9\">STEP 1</mark>** We **<span style='color:#E888BB'>start with two sequences</span>** from a list of **2+ sequences** & first align the two globally with PSA\n",
    "- Subseqent steps will involve repeating the following for each addition sequence after the pair:\n",
    "> - **<mark style=\"background-color:#323232;color:white;border-radius:5px;opacity:0.9\">STEP 2</mark>** Determining a **<span style='color:#E888BB'>consensus between the two sequences that were aligned</span>**; creating the **first sequence** in subsequent PSA operations\n",
    "> - For the **<span style='color:#E888BB'>second sequence</span>**, we add the next sequence in the list, thus we have two sequences again (REPEAT STEP1)\n",
    "\n",
    "**<mark style=\"background-color:#323232;color:white;border-radius:5px;opacity:0.9\">CONSENSUS</mark><span style='color:#5D2ECC'></span>** | **[SCIENCEDIRECT](https://www.sciencedirect.com/topics/medicine-and-dentistry/consensus-sequence)**\n",
    "\n",
    "> - A consensus sequence is a sequence of DNA, RNA, or protein that represents aligned, related sequences\n",
    "> - The consensus sequence of the related sequences can be defined in different ways, but is normally defined by the most common nucleotide(s) or amino acid residue(s) at each position"
   ]
  },
  {
   "cell_type": "markdown",
   "id": "15390faf",
   "metadata": {
    "papermill": {
     "duration": 0.065572,
     "end_time": "2023-05-10T06:28:47.891199",
     "exception": false,
     "start_time": "2023-05-10T06:28:47.825627",
     "status": "completed"
    },
    "tags": []
   },
   "source": [
    "### <b><span style='color:#E888BB'> 6.2 |</span> Multiple Sequence Alignment </b>\n",
    "\n",
    "- The method for progressive approach to **<span style='color:#E888BB'>MSA</span>** was described above, now let's show the actual class that we'll be using\n",
    "\n",
    "**<mark style=\"background-color:#323232;color:white;border-radius:5px;opacity:0.9\">CONSTRUCTOR</mark>**\n",
    "\n",
    "- <code>seqs</code> - The constructor stores the list of sequence (SQ) objects\n",
    "- <code>subm</code> - The substitution matrix object/instance\n",
    "- <code>g</code> - The gap penalty model (constant value)\n",
    "- <code>colcod</code> - The colourcoding of each character in the visualisation <code>.view()</code>\n",
    "\n",
    "**<mark style=\"background-color:#323232;color:white;border-radius:5px;opacity:0.9\">GENERAL CLASS METHODS</mark>**\n",
    "- <code>num_seqs</code> - Return the number of sequences in the alignment\n",
    "- <code>add_ali</code> - Helper function, used by other functions in order to add an alignment to the existing alignment\n",
    "- <code>align_consensus</code> - Main progressive MSA method/function\n",
    "- <code>view</code> - view MSA alignment"
   ]
  },
  {
   "cell_type": "markdown",
   "id": "c5071ff4",
   "metadata": {
    "papermill": {
     "duration": 0.064879,
     "end_time": "2023-05-10T06:28:48.022003",
     "exception": false,
     "start_time": "2023-05-10T06:28:47.957124",
     "status": "completed"
    },
    "tags": []
   },
   "source": [
    "### <b><span style='color:#E888BB'> 6.3 |</span> Examples </b>"
   ]
  },
  {
   "cell_type": "code",
   "execution_count": 19,
   "id": "8588826f",
   "metadata": {
    "execution": {
     "iopub.execute_input": "2023-05-10T06:28:48.162239Z",
     "iopub.status.busy": "2023-05-10T06:28:48.161038Z",
     "iopub.status.idle": "2023-05-10T06:28:48.349581Z",
     "shell.execute_reply": "2023-05-10T06:28:48.348833Z",
     "shell.execute_reply.started": "2023-05-10T06:14:01.231494Z"
    },
    "papermill": {
     "duration": 0.262205,
     "end_time": "2023-05-10T06:28:48.349753",
     "exception": false,
     "start_time": "2023-05-10T06:28:48.087548",
     "status": "completed"
    },
    "tags": []
   },
   "outputs": [
    {
     "data": {},
     "metadata": {},
     "output_type": "display_data"
    },
    {
     "data": {
      "application/vnd.holoviews_exec.v0+json": "",
      "text/html": [
       "<div id='1837'>\n",
       "\n",
       "\n",
       "\n",
       "\n",
       "\n",
       "  <div class=\"bk-root\" id=\"b046d5f6-786a-479a-af1d-ebe5216eeb25\" data-root-id=\"1837\"></div>\n",
       "</div>\n",
       "<script type=\"application/javascript\">(function(root) {\n",
       "  function embed_document(root) {\n",
       "    var docs_json = {\"6e9a8834-16df-40e8-8c1f-9247a74c6475\":{\"defs\":[{\"extends\":null,\"module\":null,\"name\":\"ReactiveHTML1\",\"overrides\":[],\"properties\":[]},{\"extends\":null,\"module\":null,\"name\":\"FlexBox1\",\"overrides\":[],\"properties\":[{\"default\":\"flex-start\",\"kind\":null,\"name\":\"align_content\"},{\"default\":\"flex-start\",\"kind\":null,\"name\":\"align_items\"},{\"default\":\"row\",\"kind\":null,\"name\":\"flex_direction\"},{\"default\":\"wrap\",\"kind\":null,\"name\":\"flex_wrap\"},{\"default\":\"flex-start\",\"kind\":null,\"name\":\"justify_content\"}]},{\"extends\":null,\"module\":null,\"name\":\"TemplateActions1\",\"overrides\":[],\"properties\":[{\"default\":0,\"kind\":null,\"name\":\"open_modal\"},{\"default\":0,\"kind\":null,\"name\":\"close_modal\"}]},{\"extends\":null,\"module\":null,\"name\":\"MaterialTemplateActions1\",\"overrides\":[],\"properties\":[{\"default\":0,\"kind\":null,\"name\":\"open_modal\"},{\"default\":0,\"kind\":null,\"name\":\"close_modal\"}]}],\"roots\":{\"references\":[{\"attributes\":{},\"id\":\"1820\",\"type\":\"UnionRenderers\"},{\"attributes\":{\"dimensions\":\"width\"},\"id\":\"1774\",\"type\":\"WheelZoomTool\"},{\"attributes\":{},\"id\":\"1803\",\"type\":\"ResetTool\"},{\"attributes\":{},\"id\":\"1821\",\"type\":\"Selection\"},{\"attributes\":{\"coordinates\":null,\"data_source\":{\"id\":\"1754\"},\"glyph\":{\"id\":\"1807\"},\"group\":null,\"hover_glyph\":null,\"view\":{\"id\":\"1812\"}},\"id\":\"1811\",\"type\":\"GlyphRenderer\"},{\"attributes\":{\"below\":[{\"id\":\"1795\"}],\"center\":[{\"id\":\"1798\"},{\"id\":\"1801\"}],\"height\":100,\"left\":[{\"id\":\"1799\"}],\"min_border\":0,\"renderers\":[{\"id\":\"1809\"},{\"id\":\"1811\"}],\"title\":null,\"toolbar\":{\"id\":\"1804\"},\"toolbar_location\":null,\"width\":800,\"x_range\":{\"id\":\"1787\"},\"x_scale\":{\"id\":\"1791\"},\"y_range\":{\"id\":\"1789\"},\"y_scale\":{\"id\":\"1793\"}},\"id\":\"1785\",\"subtype\":\"Figure\",\"type\":\"Plot\"},{\"attributes\":{\"toolbars\":[{\"id\":\"1777\"},{\"id\":\"1804\"}],\"tools\":[{\"id\":\"1773\"},{\"id\":\"1774\"},{\"id\":\"1775\"},{\"id\":\"1776\"},{\"id\":\"1802\"},{\"id\":\"1803\"}]},\"id\":\"1834\",\"type\":\"ProxyToolbar\"},{\"attributes\":{\"coordinates\":null,\"data_source\":{\"id\":\"1754\"},\"glyph\":{\"id\":\"1808\"},\"group\":null,\"hover_glyph\":null,\"view\":{\"id\":\"1810\"}},\"id\":\"1809\",\"type\":\"GlyphRenderer\"},{\"attributes\":{\"fill_alpha\":{\"value\":0.7},\"fill_color\":{\"field\":\"colors\"},\"height\":{\"value\":0.5},\"line_color\":{\"value\":null},\"width\":{\"value\":1},\"x\":{\"field\":\"x\"},\"y\":{\"field\":\"recty\"}},\"id\":\"1782\",\"type\":\"Rect\"},{\"attributes\":{\"coordinates\":null,\"formatter\":{\"id\":\"1815\"},\"group\":null,\"major_label_policy\":{\"id\":\"1816\"},\"ticker\":{\"id\":\"1770\"},\"visible\":false},\"id\":\"1769\",\"type\":\"LinearAxis\"},{\"attributes\":{\"axis\":{\"id\":\"1769\"},\"coordinates\":null,\"dimension\":1,\"group\":null,\"ticker\":null,\"visible\":false},\"id\":\"1772\",\"type\":\"Grid\"},{\"attributes\":{},\"id\":\"1826\",\"type\":\"AllLabels\"},{\"attributes\":{\"coordinates\":null,\"formatter\":{\"id\":\"1828\"},\"group\":null,\"major_label_policy\":{\"id\":\"1829\"},\"major_label_text_font_style\":\"bold\",\"ticker\":{\"id\":\"1796\"}},\"id\":\"1795\",\"type\":\"LinearAxis\"},{\"attributes\":{\"source\":{\"id\":\"1754\"}},\"id\":\"1812\",\"type\":\"CDSView\"},{\"attributes\":{},\"id\":\"1825\",\"type\":\"CategoricalTickFormatter\"},{\"attributes\":{\"toolbar\":{\"id\":\"1834\"},\"toolbar_location\":\"below\"},\"id\":\"1835\",\"type\":\"ToolbarBox\"},{\"attributes\":{},\"id\":\"1775\",\"type\":\"ResetTool\"},{\"attributes\":{},\"id\":\"1770\",\"type\":\"BasicTicker\"},{\"attributes\":{},\"id\":\"1828\",\"type\":\"BasicTickFormatter\"},{\"attributes\":{},\"id\":\"1776\",\"type\":\"SaveTool\"},{\"attributes\":{\"source\":{\"id\":\"1754\"}},\"id\":\"1810\",\"type\":\"CDSView\"},{\"attributes\":{\"coordinates\":null,\"formatter\":{\"id\":\"1818\"},\"group\":null,\"major_label_policy\":{\"id\":\"1819\"},\"ticker\":{\"id\":\"1766\"}},\"id\":\"1765\",\"type\":\"LinearAxis\"},{\"attributes\":{},\"id\":\"1793\",\"type\":\"CategoricalScale\"},{\"attributes\":{},\"id\":\"1829\",\"type\":\"AllLabels\"},{\"attributes\":{\"children\":[[{\"id\":\"1756\"},0,0],[{\"id\":\"1785\"},1,0]]},\"id\":\"1833\",\"type\":\"GridBox\"},{\"attributes\":{},\"id\":\"1761\",\"type\":\"LinearScale\"},{\"attributes\":{},\"id\":\"1800\",\"type\":\"CategoricalTicker\"},{\"attributes\":{\"factors\":[\"sequence0\",\"sequence1\",\"sequence2\",\"sequence3\",\"sequence4\"]},\"id\":\"1789\",\"type\":\"FactorRange\"},{\"attributes\":{},\"id\":\"1763\",\"type\":\"LinearScale\"},{\"attributes\":{\"axis\":{\"id\":\"1765\"},\"coordinates\":null,\"group\":null,\"ticker\":null,\"visible\":false},\"id\":\"1768\",\"type\":\"Grid\"},{\"attributes\":{\"text_align\":{\"value\":\"center\"},\"text_color\":{\"value\":\"black\"},\"text_font_size\":{\"value\":\"9pt\"},\"text_font_style\":{\"value\":\"bold\"},\"x\":{\"field\":\"x\"},\"y\":{\"field\":\"y\"}},\"id\":\"1807\",\"type\":\"Text\"},{\"attributes\":{\"tools\":[{\"id\":\"1773\"},{\"id\":\"1774\"},{\"id\":\"1775\"},{\"id\":\"1776\"}]},\"id\":\"1777\",\"type\":\"Toolbar\"},{\"attributes\":{},\"id\":\"1791\",\"type\":\"LinearScale\"},{\"attributes\":{\"coordinates\":null,\"formatter\":{\"id\":\"1825\"},\"group\":null,\"major_label_policy\":{\"id\":\"1826\"},\"major_tick_line_width\":0,\"minor_tick_line_width\":0,\"ticker\":{\"id\":\"1800\"}},\"id\":\"1799\",\"type\":\"CategoricalAxis\"},{\"attributes\":{\"children\":[{\"id\":\"1836\"}],\"margin\":[0,0,0,0],\"name\":\"Row00115\"},\"id\":\"1837\",\"type\":\"Row\"},{\"attributes\":{},\"id\":\"1815\",\"type\":\"BasicTickFormatter\"},{\"attributes\":{},\"id\":\"1766\",\"type\":\"BasicTicker\"},{\"attributes\":{},\"id\":\"1796\",\"type\":\"BasicTicker\"},{\"attributes\":{\"coordinates\":null,\"data_source\":{\"id\":\"1754\"},\"glyph\":{\"id\":\"1782\"},\"group\":null,\"hover_glyph\":null,\"view\":{\"id\":\"1784\"}},\"id\":\"1783\",\"type\":\"GlyphRenderer\"},{\"attributes\":{\"end\":5},\"id\":\"1759\",\"type\":\"Range1d\"},{\"attributes\":{\"end\":28},\"id\":\"1787\",\"type\":\"Range1d\"},{\"attributes\":{\"tools\":[{\"id\":\"1802\"},{\"id\":\"1803\"}]},\"id\":\"1804\",\"type\":\"Toolbar\"},{\"attributes\":{\"axis\":{\"id\":\"1799\"},\"coordinates\":null,\"dimension\":1,\"group\":null,\"ticker\":null,\"visible\":false},\"id\":\"1801\",\"type\":\"Grid\"},{\"attributes\":{\"source\":{\"id\":\"1754\"}},\"id\":\"1784\",\"type\":\"CDSView\"},{\"attributes\":{},\"id\":\"1818\",\"type\":\"BasicTickFormatter\"},{\"attributes\":{\"children\":[{\"id\":\"1833\"},{\"id\":\"1835\"}]},\"id\":\"1836\",\"type\":\"Column\"},{\"attributes\":{\"bounds\":\"auto\",\"end\":29},\"id\":\"1755\",\"type\":\"Range1d\"},{\"attributes\":{\"data\":{\"colors\":[\"#2C679E\",\"#24CE5D\",\"#2C679E\",\"#FF5733\",\"#2C679E\",\"#2C679E\",\"white\",\"#2C679E\",\"#24CE5D\",\"white\",\"#2C679E\",\"#2C679E\",\"#24CE5D\",\"#2C679E\",\"#2C679E\",\"white\",\"white\",\"#FF5733\",\"white\",\"#FF5733\",\"#2C679E\",\"#2C679E\",\"white\",\"#2C679E\",\"white\",\"white\",\"#FF5733\",\"white\",\"#2C679E\",\"white\",\"#2C679E\",\"#2C679E\",\"#2C679E\",\"white\",\"white\",\"#2C679E\",\"#24CE5D\",\"#FF5733\",\"#2C679E\",\"#2C679E\",\"#2C679E\",\"#2C679E\",\"#2C679E\",\"#24CE5D\",\"#2C679E\",\"#FF5733\",\"#2C679E\",\"#FF5733\",\"#2C679E\",\"white\",\"white\",\"#2C679E\",\"white\",\"white\",\"white\",\"white\",\"#2C679E\",\"#24CE5D\",\"white\",\"#FF5733\",\"white\",\"#2C679E\",\"white\",\"#2C679E\",\"white\",\"white\",\"#2C679E\",\"#2C679E\",\"#24CE5D\",\"#FF5733\",\"#FF5733\",\"white\",\"#2C679E\",\"#FF5733\",\"#2C679E\",\"#2C679E\",\"#2C679E\",\"#2C679E\",\"white\",\"#24CE5D\",\"white\",\"white\",\"#FF5733\",\"#2C679E\",\"#2C679E\",\"#24CE5D\",\"#FF5733\",\"#FF5733\",\"#2C679E\",\"white\",\"white\",\"#2C679E\",\"white\",\"white\",\"#2C679E\",\"#2C679E\",\"#24CE5D\",\"#FF5733\",\"white\",\"white\",\"white\",\"#FF5733\",\"white\",\"#FF5733\",\"#2C679E\",\"#FF5733\",\"#24CE5D\",\"#2C679E\",\"#2C679E\",\"#24CE5D\",\"#FF5733\",\"white\",\"#2C679E\",\"#24CE5D\",\"#FF5733\",\"#FF5733\",\"#2C679E\",\"#2C679E\",\"#2C679E\",\"#2C679E\",\"#24CE5D\",\"white\",\"white\",\"#2C679E\",\"white\",\"#2C679E\",\"#FF5733\",\"#FF5733\",\"white\",\"#FF5733\",\"#2C679E\",\"white\",\"#2C679E\",\"white\",\"white\",\"#2C679E\",\"#2C679E\",\"#2C679E\",\"white\",\"white\"],\"recty\":{\"__ndarray__\":\"AAAAAAAA4D8AAAAAAADgPwAAAAAAAOA/AAAAAAAA4D8AAAAAAADgPwAAAAAAAOA/AAAAAAAA4D8AAAAAAADgPwAAAAAAAOA/AAAAAAAA4D8AAAAAAADgPwAAAAAAAOA/AAAAAAAA4D8AAAAAAADgPwAAAAAAAOA/AAAAAAAA4D8AAAAAAADgPwAAAAAAAOA/AAAAAAAA4D8AAAAAAADgPwAAAAAAAOA/AAAAAAAA4D8AAAAAAADgPwAAAAAAAOA/AAAAAAAA4D8AAAAAAADgPwAAAAAAAOA/AAAAAAAA4D8AAAAAAAD4PwAAAAAAAPg/AAAAAAAA+D8AAAAAAAD4PwAAAAAAAPg/AAAAAAAA+D8AAAAAAAD4PwAAAAAAAPg/AAAAAAAA+D8AAAAAAAD4PwAAAAAAAPg/AAAAAAAA+D8AAAAAAAD4PwAAAAAAAPg/AAAAAAAA+D8AAAAAAAD4PwAAAAAAAPg/AAAAAAAA+D8AAAAAAAD4PwAAAAAAAPg/AAAAAAAA+D8AAAAAAAD4PwAAAAAAAPg/AAAAAAAA+D8AAAAAAAD4PwAAAAAAAPg/AAAAAAAA+D8AAAAAAAD4PwAAAAAAAARAAAAAAAAABEAAAAAAAAAEQAAAAAAAAARAAAAAAAAABEAAAAAAAAAEQAAAAAAAAARAAAAAAAAABEAAAAAAAAAEQAAAAAAAAARAAAAAAAAABEAAAAAAAAAEQAAAAAAAAARAAAAAAAAABEAAAAAAAAAEQAAAAAAAAARAAAAAAAAABEAAAAAAAAAEQAAAAAAAAARAAAAAAAAABEAAAAAAAAAEQAAAAAAAAARAAAAAAAAABEAAAAAAAAAEQAAAAAAAAARAAAAAAAAABEAAAAAAAAAEQAAAAAAAAARAAAAAAAAADEAAAAAAAAAMQAAAAAAAAAxAAAAAAAAADEAAAAAAAAAMQAAAAAAAAAxAAAAAAAAADEAAAAAAAAAMQAAAAAAAAAxAAAAAAAAADEAAAAAAAAAMQAAAAAAAAAxAAAAAAAAADEAAAAAAAAAMQAAAAAAAAAxAAAAAAAAADEAAAAAAAAAMQAAAAAAAAAxAAAAAAAAADEAAAAAAAAAMQAAAAAAAAAxAAAAAAAAADEAAAAAAAAAMQAAAAAAAAAxAAAAAAAAADEAAAAAAAAAMQAAAAAAAAAxAAAAAAAAADEAAAAAAAAASQAAAAAAAABJAAAAAAAAAEkAAAAAAAAASQAAAAAAAABJAAAAAAAAAEkAAAAAAAAASQAAAAAAAABJAAAAAAAAAEkAAAAAAAAASQAAAAAAAABJAAAAAAAAAEkAAAAAAAAASQAAAAAAAABJAAAAAAAAAEkAAAAAAAAASQAAAAAAAABJAAAAAAAAAEkAAAAAAAAASQAAAAAAAABJAAAAAAAAAEkAAAAAAAAASQAAAAAAAABJAAAAAAAAAEkAAAAAAAAASQAAAAAAAABJAAAAAAAAAEkAAAAAAAAASQA==\",\"dtype\":\"float64\",\"order\":\"little\",\"shape\":[140]},\"text\":[\"A\",\"T\",\"A\",\"G\",\"C\",\"A\",\"-\",\"C\",\"T\",\"-\",\"C\",\"A\",\"T\",\"C\",\"C\",\"-\",\"-\",\"G\",\"-\",\"G\",\"C\",\"C\",\"-\",\"A\",\"-\",\"-\",\"G\",\"-\",\"A\",\"-\",\"A\",\"C\",\"C\",\"-\",\"-\",\"C\",\"T\",\"G\",\"C\",\"A\",\"A\",\"C\",\"A\",\"T\",\"A\",\"G\",\"A\",\"G\",\"C\",\"-\",\"-\",\"A\",\"-\",\"-\",\"-\",\"-\",\"A\",\"T\",\"-\",\"G\",\"-\",\"A\",\"-\",\"C\",\"-\",\"-\",\"C\",\"A\",\"T\",\"G\",\"G\",\"-\",\"A\",\"G\",\"A\",\"C\",\"C\",\"C\",\"-\",\"T\",\"-\",\"-\",\"G\",\"A\",\"A\",\"T\",\"G\",\"G\",\"C\",\"-\",\"-\",\"C\",\"-\",\"-\",\"C\",\"A\",\"T\",\"G\",\"-\",\"-\",\"-\",\"G\",\"-\",\"G\",\"C\",\"G\",\"T\",\"A\",\"C\",\"T\",\"G\",\"-\",\"A\",\"T\",\"G\",\"G\",\"C\",\"A\",\"A\",\"C\",\"T\",\"-\",\"-\",\"A\",\"-\",\"C\",\"G\",\"G\",\"-\",\"G\",\"A\",\"-\",\"C\",\"-\",\"-\",\"A\",\"C\",\"C\",\"-\",\"-\"],\"x\":{\"__ndarray__\":\"AAAAAAAA4D8AAAAAAAD4PwAAAAAAAARAAAAAAAAADEAAAAAAAAASQAAAAAAAABZAAAAAAAAAGkAAAAAAAAAeQAAAAAAAACFAAAAAAAAAI0AAAAAAAAAlQAAAAAAAACdAAAAAAAAAKUAAAAAAAAArQAAAAAAAAC1AAAAAAAAAL0AAAAAAAIAwQAAAAAAAgDFAAAAAAACAMkAAAAAAAIAzQAAAAAAAgDRAAAAAAACANUAAAAAAAIA2QAAAAAAAgDdAAAAAAACAOEAAAAAAAIA5QAAAAAAAgDpAAAAAAACAO0AAAAAAAADgPwAAAAAAAPg/AAAAAAAABEAAAAAAAAAMQAAAAAAAABJAAAAAAAAAFkAAAAAAAAAaQAAAAAAAAB5AAAAAAAAAIUAAAAAAAAAjQAAAAAAAACVAAAAAAAAAJ0AAAAAAAAApQAAAAAAAACtAAAAAAAAALUAAAAAAAAAvQAAAAAAAgDBAAAAAAACAMUAAAAAAAIAyQAAAAAAAgDNAAAAAAACANEAAAAAAAIA1QAAAAAAAgDZAAAAAAACAN0AAAAAAAIA4QAAAAAAAgDlAAAAAAACAOkAAAAAAAIA7QAAAAAAAAOA/AAAAAAAA+D8AAAAAAAAEQAAAAAAAAAxAAAAAAAAAEkAAAAAAAAAWQAAAAAAAABpAAAAAAAAAHkAAAAAAAAAhQAAAAAAAACNAAAAAAAAAJUAAAAAAAAAnQAAAAAAAAClAAAAAAAAAK0AAAAAAAAAtQAAAAAAAAC9AAAAAAACAMEAAAAAAAIAxQAAAAAAAgDJAAAAAAACAM0AAAAAAAIA0QAAAAAAAgDVAAAAAAACANkAAAAAAAIA3QAAAAAAAgDhAAAAAAACAOUAAAAAAAIA6QAAAAAAAgDtAAAAAAAAA4D8AAAAAAAD4PwAAAAAAAARAAAAAAAAADEAAAAAAAAASQAAAAAAAABZAAAAAAAAAGkAAAAAAAAAeQAAAAAAAACFAAAAAAAAAI0AAAAAAAAAlQAAAAAAAACdAAAAAAAAAKUAAAAAAAAArQAAAAAAAAC1AAAAAAAAAL0AAAAAAAIAwQAAAAAAAgDFAAAAAAACAMkAAAAAAAIAzQAAAAAAAgDRAAAAAAACANUAAAAAAAIA2QAAAAAAAgDdAAAAAAACAOEAAAAAAAIA5QAAAAAAAgDpAAAAAAACAO0AAAAAAAADgPwAAAAAAAPg/AAAAAAAABEAAAAAAAAAMQAAAAAAAABJAAAAAAAAAFkAAAAAAAAAaQAAAAAAAAB5AAAAAAAAAIUAAAAAAAAAjQAAAAAAAACVAAAAAAAAAJ0AAAAAAAAApQAAAAAAAACtAAAAAAAAALUAAAAAAAAAvQAAAAAAAgDBAAAAAAACAMUAAAAAAAIAyQAAAAAAAgDNAAAAAAACANEAAAAAAAIA1QAAAAAAAgDZAAAAAAACAN0AAAAAAAIA4QAAAAAAAgDlAAAAAAACAOkAAAAAAAIA7QA==\",\"dtype\":\"float64\",\"order\":\"little\",\"shape\":[140]},\"y\":[0,0,0,0,0,0,0,0,0,0,0,0,0,0,0,0,0,0,0,0,0,0,0,0,0,0,0,0,1,1,1,1,1,1,1,1,1,1,1,1,1,1,1,1,1,1,1,1,1,1,1,1,1,1,1,1,2,2,2,2,2,2,2,2,2,2,2,2,2,2,2,2,2,2,2,2,2,2,2,2,2,2,2,2,3,3,3,3,3,3,3,3,3,3,3,3,3,3,3,3,3,3,3,3,3,3,3,3,3,3,3,3,4,4,4,4,4,4,4,4,4,4,4,4,4,4,4,4,4,4,4,4,4,4,4,4,4,4,4,4]},\"selected\":{\"id\":\"1821\"},\"selection_policy\":{\"id\":\"1820\"}},\"id\":\"1754\",\"type\":\"ColumnDataSource\"},{\"attributes\":{\"axis\":{\"id\":\"1795\"},\"coordinates\":null,\"group\":null,\"ticker\":null,\"visible\":false},\"id\":\"1798\",\"type\":\"Grid\"},{\"attributes\":{\"client_comm_id\":\"a43b38966dd64395acd4e8c7a5c53739\",\"comm_id\":\"1787c61200b1478887456ffc0d777d1a\",\"plot_id\":\"1837\"},\"id\":\"1918\",\"type\":\"panel.models.comm_manager.CommManager\"},{\"attributes\":{\"below\":[{\"id\":\"1765\"}],\"center\":[{\"id\":\"1768\"},{\"id\":\"1772\"}],\"height\":50,\"left\":[{\"id\":\"1769\"}],\"min_border\":0,\"renderers\":[{\"id\":\"1783\"}],\"title\":null,\"toolbar\":{\"id\":\"1777\"},\"toolbar_location\":null,\"width\":800,\"x_range\":{\"id\":\"1755\"},\"x_scale\":{\"id\":\"1761\"},\"y_range\":{\"id\":\"1759\"},\"y_scale\":{\"id\":\"1763\"}},\"id\":\"1756\",\"subtype\":\"Figure\",\"type\":\"Plot\"},{\"attributes\":{\"dimensions\":\"width\"},\"id\":\"1773\",\"type\":\"PanTool\"},{\"attributes\":{},\"id\":\"1816\",\"type\":\"AllLabels\"},{\"attributes\":{\"fill_alpha\":{\"value\":0.7},\"fill_color\":{\"field\":\"colors\"},\"height\":{\"value\":1},\"line_color\":{\"value\":null},\"width\":{\"value\":1.0},\"x\":{\"field\":\"x\"},\"y\":{\"field\":\"recty\"}},\"id\":\"1808\",\"type\":\"Rect\"},{\"attributes\":{\"dimensions\":\"width\"},\"id\":\"1802\",\"type\":\"PanTool\"},{\"attributes\":{},\"id\":\"1819\",\"type\":\"AllLabels\"}],\"root_ids\":[\"1837\",\"1918\"]},\"title\":\"Bokeh Application\",\"version\":\"2.4.0\"}};\n",
       "    var render_items = [{\"docid\":\"6e9a8834-16df-40e8-8c1f-9247a74c6475\",\"root_ids\":[\"1837\"],\"roots\":{\"1837\":\"b046d5f6-786a-479a-af1d-ebe5216eeb25\"}}];\n",
       "    root.Bokeh.embed.embed_items_notebook(docs_json, render_items);\n",
       "  }\n",
       "  if (root.Bokeh !== undefined && root.Bokeh.Panel !== undefined) {\n",
       "    embed_document(root);\n",
       "  } else {\n",
       "    var attempts = 0;\n",
       "    var timer = setInterval(function(root) {\n",
       "      if (root.Bokeh !== undefined && root.Bokeh.Panel !== undefined) {\n",
       "        clearInterval(timer);\n",
       "        embed_document(root);\n",
       "      } else if (document.readyState == \"complete\") {\n",
       "        attempts++;\n",
       "        if (attempts > 200) {\n",
       "          clearInterval(timer);\n",
       "          console.log(\"Bokeh: ERROR: Unable to run BokehJS code because BokehJS library is missing\");\n",
       "        }\n",
       "      }\n",
       "    }, 25, root)\n",
       "  }\n",
       "})(window);</script>"
      ],
      "text/plain": [
       "Bokeh(Column)"
      ]
     },
     "metadata": {
      "application/vnd.holoviews_exec.v0+json": {
       "id": "1837"
      }
     },
     "output_type": "display_data"
    }
   ],
   "source": [
    "# Define some sequences\n",
    "s1 = SQ(\"ATAGCACTCATCCGGCCAG\")\n",
    "s2 = SQ(\"AACCCTGCAACATAGAGCA\")\n",
    "s3 = SQ(\"ATGACCATGGAGACCCTGA\")\n",
    "s4 = SQ(\"ATGGCCCATGGGCGTACTG\")\n",
    "s5 = SQ(\"ATGGCAACTACGGGACACC\")\n",
    "\n",
    "# Like in PSA, set a substitution matrix\n",
    "sm = SUBM()\n",
    "sm.make(\"ACGT\",1,-1)\n",
    "\n",
    "# Initialisation of MSA problem\n",
    "ma = MSA(seqs=[s1,s2,s3,s4,s5], # set the sequences \n",
    "         subm=sm,               # set the substitution matrix\n",
    "         g=-1)                  # set the gap penalty model\n",
    "\n",
    "# Get the alignment\n",
    "al = ma.align_consensus() # Iteratively align sequences\n",
    "al.view() # visualise alignment "
   ]
  },
  {
   "cell_type": "markdown",
   "id": "631a5fd8",
   "metadata": {
    "papermill": {
     "duration": 0.066385,
     "end_time": "2023-05-10T06:28:48.483832",
     "exception": false,
     "start_time": "2023-05-10T06:28:48.417447",
     "status": "completed"
    },
    "tags": []
   },
   "source": [
    "# <div style=\"padding: 30px;color:white;margin:10;font-size:60%;text-align:left;display:fill;border-radius:10px;background-color:#FFFFFF;overflow:hidden;background-color:#E888BB\"><b><span style='color:#FFFFFF'>7 |</span></b> <b>BioPython Sequence Alignment</b></div>\n",
    "\n",
    "### <b><span style='color:#E888BB'> 7.1 |</span> Popular Bioinformatics Libraries </b>\n",
    "\n",
    "There are two libraries which are quite popular & accessable on Kaggle & both contain **<span style='color:#E888BB'>sequence alignment</span>** libraries:\n",
    "> - **<span style='color:#E888BB'>BioPython</span>** **(Python)** | Shown in **[Biopython | Bioinformatics Basics](https://www.kaggle.com/shtrausslearning/biopython-bioinformatics-basics)**:\n",
    "    - **<mark style=\"background-color:#323232;color:white;border-radius:5px;opacity:0.9\">Pairwise Sequence Alignment</mark>** is obtained using <code>pairwise2</code>\n",
    "    - **<mark style=\"background-color:#323232;color:white;border-radius:5px;opacity:0.9\">Multiple Sequence Alignment</mark>** is obtained using the <code>Align.MultipleSequenceAlignment</code>\n",
    "    \n",
    "    \n",
    "> - **<span style='color:#E888BB'>Bioconductor</span>** **(R)** - Another library that contains both:\n",
    "    -  **<mark style=\"background-color:#323232;color:white;border-radius:5px;opacity:0.9\">Pairwise Sequence Alignment</mark>** found in the <code>Biostrings</code> library\n",
    "    -  **<mark style=\"background-color:#323232;color:white;border-radius:5px;opacity:0.9\">Multiple Sequence Alignment</mark>** found in the <code>msa</code> library\n",
    "    \n",
    "The notebook being Python based, we'll look at the former & look at the latter in a separate notebook - **[Bioconductor | Bioinformatics Basics](https://www.kaggle.com/shtrausslearning/bioconductor-bioinformatics-basics)**\n",
    "\n",
    "### <b><span style='color:#E888BB'> 7.2 |</span> Sequence classes </b>\n",
    "    \n",
    "#### **<span style='color:#E888BB'>STORING SEQUENCES</span>**    \n",
    "The two main classes used for **<span style='color:#E888BB'>sequence</span>** storage in Biopython: \n",
    "> - <code>Seq</code> - Basic sequence storage class\n",
    "> - <code>SeqRecord</code> - More advanced sequence storage class, can store **<span style='color:#E888BB'>alignment</span>** as well ( require <code>Seq</code> class objects )"
   ]
  },
  {
   "cell_type": "code",
   "execution_count": 20,
   "id": "7fcf1ea2",
   "metadata": {
    "execution": {
     "iopub.execute_input": "2023-05-10T06:28:48.622663Z",
     "iopub.status.busy": "2023-05-10T06:28:48.621816Z",
     "iopub.status.idle": "2023-05-10T06:28:48.631615Z",
     "shell.execute_reply": "2023-05-10T06:28:48.632234Z",
     "shell.execute_reply.started": "2023-05-10T06:14:01.422925Z"
    },
    "papermill": {
     "duration": 0.081369,
     "end_time": "2023-05-10T06:28:48.632470",
     "exception": false,
     "start_time": "2023-05-10T06:28:48.551101",
     "status": "completed"
    },
    "tags": []
   },
   "outputs": [
    {
     "name": "stdout",
     "output_type": "stream",
     "text": [
      "ACAAATTCAATTCCATAACATTTATCCCAT \n",
      "\n"
     ]
    }
   ],
   "source": [
    "from Bio.pairwise2 import format_alignment  # formatted pairwise display \n",
    "from Bio import pairwise2 # pairwise sequece alignment\n",
    "from Bio.Seq import Seq # basic sequence class\n",
    "from Bio.SeqRecord import SeqRecord # more detailed sequence class \n",
    "\n",
    "# Basic String Format\n",
    "str_seq = 'ACAAATTCAATTCCATAACATTTATCCCAT'\n",
    "basic_seq = Seq(str_seq)\n",
    "print(basic_seq,'\\n')"
   ]
  },
  {
   "cell_type": "code",
   "execution_count": 21,
   "id": "c20410f9",
   "metadata": {
    "execution": {
     "iopub.execute_input": "2023-05-10T06:28:48.772638Z",
     "iopub.status.busy": "2023-05-10T06:28:48.771567Z",
     "iopub.status.idle": "2023-05-10T06:28:48.775168Z",
     "shell.execute_reply": "2023-05-10T06:28:48.775770Z",
     "shell.execute_reply.started": "2023-05-10T06:14:01.437361Z"
    },
    "papermill": {
     "duration": 0.07584,
     "end_time": "2023-05-10T06:28:48.775971",
     "exception": false,
     "start_time": "2023-05-10T06:28:48.700131",
     "status": "completed"
    },
    "tags": []
   },
   "outputs": [
    {
     "name": "stdout",
     "output_type": "stream",
     "text": [
      "<class 'Bio.Seq.Seq'>\n",
      "ID: basic_seq\n",
      "Name: <unknown name>\n",
      "Description: <unknown description>\n",
      "Number of features: 0\n",
      "Seq('ACAAATTCAATTCCATAACATTTATCCCAT')\n",
      "<class 'Bio.SeqRecord.SeqRecord'>\n"
     ]
    }
   ],
   "source": [
    "# Advanced String Format\n",
    "print(type(basic_seq))\n",
    "adv_seq = SeqRecord(basic_seq,id='basic_seq')\n",
    "print(adv_seq)\n",
    "print(type(adv_seq))"
   ]
  },
  {
   "cell_type": "markdown",
   "id": "544e7fd9",
   "metadata": {
    "papermill": {
     "duration": 0.067325,
     "end_time": "2023-05-10T06:28:48.910957",
     "exception": false,
     "start_time": "2023-05-10T06:28:48.843632",
     "status": "completed"
    },
    "tags": []
   },
   "source": [
    "### <b><span style='color:#E888BB'> 7.3 |</span> Pairwise Sequence Alignment </b>\n",
    "    \n",
    "#### **<span style='color:#E888BB'>MODULES - </span>ALIGNING SEQUENCES**  \n",
    "For BioPython **<span style='color:#E888BB'>Sequence Alignment</span>**:\n",
    "> - <code>Seq</code> & <code>string</code> formats can be used as inputs in <code>pairwise2</code>, \n",
    "> - However for <code>MultipleSeqAlignment</code>, we need to input sequences in the form of <code>SeqRecord</code> objects.\n",
    "\n",
    "#### <b><span style='color:#E888BB'>PAIRWISE SEQUENCE ALIGNMENT</span> - PAIRWISE2</b> \n",
    "- **<span style='color:#E888BB'>BioPython documentation</span>** | **[pairwise2](https://biopython.org/docs/1.75/api/Bio.pairwise2.html)**\n",
    "- Let's align two sequences <code>cseq1</code> & <code>cseq2</code> using a global alignment approach, we can input either <b>string sequences</b> or <b>SQ object sequences</b>\n",
    "- We can visualise the **region which has lots of gaps** (perhaps from **mutation**) & the **section which aligns perfectly**\n",
    "- We are looking at **<span style='color:#E888BB'>global alignment</span>** (<code>.global</code>) of these two sequences:\n",
    "> - with a **<span style='color:#E888BB'>match score of 1</span>** & **<span style='color:#E888BB'>missmatch score of 0</span>** (so **first letter is x**) & **<span style='color:#E888BB'>no gap penalty</span>** emposed (**second letter is x**)\n",
    "- We can note that for this example, we have more than one possible outcome for the same score as well\n",
    "\n",
    "### **POST ALIGNMENT**\n",
    "\n",
    "- Upon obtaining the alignment, results are of <code>Bio.pairwise2.Alignment</code> class type (<b>if there are no ties</b>)\n",
    "- Otherwise a list with the same class type is created for **all the possible alignmnent combinations**\n",
    "- <code>.format_alignment()</code> - used for sequence alignment visualisation (show <b>full_sequences</b>=True)\n",
    "\n",
    "<b><span style='color:#E888BB'>MORE EXAMPLES</span></b> | If you are interested in more detailed examples, you can check out the notebook **[BioPython | Bioinformatics Basics](https://www.kaggle.com/shtrausslearning/biopython-bioinformatics-basics)**"
   ]
  },
  {
   "cell_type": "code",
   "execution_count": 22,
   "id": "2ba8a8c4",
   "metadata": {
    "execution": {
     "iopub.execute_input": "2023-05-10T06:28:49.053239Z",
     "iopub.status.busy": "2023-05-10T06:28:49.052144Z",
     "iopub.status.idle": "2023-05-10T06:28:49.082136Z",
     "shell.execute_reply": "2023-05-10T06:28:49.081495Z",
     "shell.execute_reply.started": "2023-05-10T06:14:01.448204Z"
    },
    "papermill": {
     "duration": 0.102027,
     "end_time": "2023-05-10T06:28:49.082307",
     "exception": false,
     "start_time": "2023-05-10T06:28:48.980280",
     "status": "completed"
    },
    "tags": []
   },
   "outputs": [
    {
     "name": "stdout",
     "output_type": "stream",
     "text": [
      "PSA class: <class 'Bio.pairwise2.Alignment'>\n",
      "# Alternative optimal alignments: 11\n",
      "\n",
      "Aligned Sequence #0\n",
      "Alignment(seqA='AT-G-G---------CAGATAGA', seqB='ATAGAGAATAGATGGCAGATAGA', score=12.0, start=0, end=23)\n",
      "\n",
      "Showing all score ties:\n",
      "AT-G-G---------CAGATAGA\n",
      "|| | |         ||||||||\n",
      "ATAGAGAATAGATGGCAGATAGA\n",
      "  Score=12\n",
      "\n",
      "AT-G------G----CAGATAGA\n",
      "|| |      |    ||||||||\n",
      "ATAGAGAATAGATGGCAGATAGA\n",
      "  Score=12\n",
      "\n",
      "AT---G----G----CAGATAGA\n",
      "||   |    |    ||||||||\n",
      "ATAGAGAATAGATGGCAGATAGA\n",
      "  Score=12\n",
      "\n",
      "AT-G---------G-CAGATAGA\n",
      "|| |         | ||||||||\n",
      "ATAGAGAATAGATGGCAGATAGA\n",
      "  Score=12\n",
      "\n",
      "AT---G-------G-CAGATAGA\n",
      "||   |       | ||||||||\n",
      "ATAGAGAATAGATGGCAGATAGA\n",
      "  Score=12\n",
      "\n",
      "AT--------G--G-CAGATAGA\n",
      "||        |  | ||||||||\n",
      "ATAGAGAATAGATGGCAGATAGA\n",
      "  Score=12\n",
      "\n",
      "A-------T-G--G-CAGATAGA\n",
      "|       | |  | ||||||||\n",
      "ATAGAGAATAGATGGCAGATAGA\n",
      "  Score=12\n",
      "\n",
      "--A-----T-G--G-CAGATAGA\n",
      "  |     | |  | ||||||||\n",
      "ATAGAGAATAGATGGCAGATAGA\n",
      "  Score=12\n",
      "\n",
      "----A---T-G--G-CAGATAGA\n",
      "    |   | |  | ||||||||\n",
      "ATAGAGAATAGATGGCAGATAGA\n",
      "  Score=12\n",
      "\n",
      "------A-T-G--G-CAGATAGA\n",
      "      | | |  | ||||||||\n",
      "ATAGAGAATAGATGGCAGATAGA\n",
      "  Score=12\n",
      "\n",
      "-------AT-G--G-CAGATAGA\n",
      "       || |  | ||||||||\n",
      "ATAGAGAATAGATGGCAGATAGA\n",
      "  Score=12\n",
      "\n"
     ]
    }
   ],
   "source": [
    "''' Global Alignment of two DNA sequences'''\n",
    "\n",
    "# define an instance of Seq\n",
    "cseq1 = Seq('ATGGCAGATAGA')\n",
    "cseq2 = Seq('ATAGAGAATAGATGGCAGATAGA')\n",
    "\n",
    "# - (match score = 1, missmatch = 0), gap penalties = 0\n",
    "GDNA = pairwise2.align.globalxx(cseq1,cseq2)\n",
    "print(f'PSA class: {type(GDNA[0])}')\n",
    "print (f'# Alternative optimal alignments: {len(GDNA)}\\n')\n",
    "print('Aligned Sequence #0')\n",
    "print(GDNA[0])\n",
    "\n",
    "print('\\nShowing all score ties:')\n",
    "\n",
    "# print all the alignments (including ties)\n",
    "for i in GDNA: \n",
    "    print(format_alignment(*i,full_sequences=True))"
   ]
  },
  {
   "cell_type": "markdown",
   "id": "71113c9b",
   "metadata": {
    "papermill": {
     "duration": 0.066967,
     "end_time": "2023-05-10T06:28:49.216568",
     "exception": false,
     "start_time": "2023-05-10T06:28:49.149601",
     "status": "completed"
    },
    "tags": []
   },
   "source": [
    "### <b><span style='color:#E888BB'> 7.4 |</span> Multiple Sequence Alignment </b>\n",
    "\n",
    "#### <b><span style='color:#E888BB'>MULTIPLE SEQUENCE ALIGNMENT</span> - MultipleSeqAlignment</b> \n",
    "- **<span style='color:#E888BB'>BioPython documentation</span>** | **[MultipleSequenceAlignment](https://biopython.org/docs/1.76/api/Bio.Align.html)** (Class part of <code>Bio.Align</code> class)\n",
    "- Using this class, we can align **<span style='color:#E888BB'>nucleotide</span>** & **<span style='color:#E888BB'>amino acid sequences</span>**, with or without <b>gaps</b> present.\n",
    "- To align <b><span style='color:#E888BB'>Multiple Sequences</span></b> together ( <b>More than two</b> ), we can use the <code>.Align</code> class & call <code>MultipleSeqAlignment</code>\n",
    "- The alignment can be viewed using the **<mark style=\"background-color:#E888BB;color:white;border-radius:5px;opacity:0.9\">ali_view</mark>** class as well\n",
    "\n",
    "#### <b><span style='color:#E888BB'>USING SEQRECORD SEQUENCE FORMAT</span></b>\n",
    "\n",
    "- If we define sequences from <b>strings</b> we'll need to define an <code>Seq</code> instance & subsequently <code>SeqRecord</code> (only needing <code>id</code>)\n",
    "- However unlike <code>Bio.pairwise2</code>, we can't use direct <b>strings</b> in the alignment class input & need to define a <code>Seq</code> object for a particular sequence.\n",
    "- Followed by a defined <b>SeqRecord</b> instance that has its defined <b>sequence ID</b>."
   ]
  },
  {
   "cell_type": "code",
   "execution_count": 23,
   "id": "906bd37c",
   "metadata": {
    "execution": {
     "iopub.execute_input": "2023-05-10T06:28:49.367066Z",
     "iopub.status.busy": "2023-05-10T06:28:49.365872Z",
     "iopub.status.idle": "2023-05-10T06:28:49.372509Z",
     "shell.execute_reply": "2023-05-10T06:28:49.371716Z",
     "shell.execute_reply.started": "2023-05-10T06:14:01.486832Z"
    },
    "papermill": {
     "duration": 0.085708,
     "end_time": "2023-05-10T06:28:49.372670",
     "exception": false,
     "start_time": "2023-05-10T06:28:49.286962",
     "status": "completed"
    },
    "tags": []
   },
   "outputs": [
    {
     "name": "stdout",
     "output_type": "stream",
     "text": [
      "Alignment with 4 rows and 30 columns\n",
      "MHQAIFIYQIGYPLKSGYIQSIRSPEYDNW seq1\n",
      "MH__IFIYQIGYALKSGYIQSIRSPEY_NW seq2\n",
      "MHQAIFI_QIGYALKSGY_QSIRSPEYDNW seq3\n",
      "MHQAMHI_KSGYA__SGY_QSIRSPEYDNW seq4\n"
     ]
    }
   ],
   "source": [
    "from Bio.SeqRecord import SeqRecord\n",
    "from Bio.Align import MultipleSeqAlignment as MSABIO\n",
    "\n",
    "# String format of alignment\n",
    "aa1 = \"MHQAIFIYQIGYPLKSGYIQSIRSPEYDNW\"\n",
    "aa2 = \"MH__IFIYQIGYALKSGYIQSIRSPEY_NW\"\n",
    "aa3 = \"MHQAIFI_QIGYALKSGY_QSIRSPEYDNW\"\n",
    "aa4 = \"MHQAMHI_KSGYA__SGY_QSIRSPEYDNW\"\n",
    "\n",
    "# Sequence Class instances\n",
    "seq_aa1 = Seq(aa1)\n",
    "seq_aa2 = Seq(aa2)\n",
    "seq_aa3 = Seq(aa3)\n",
    "seq_aa4 = Seq(aa4)\n",
    " \n",
    "# Create a sequence record w/ a defined ID\n",
    "seqr1 = SeqRecord(seq_aa1,id=\"seq1\")\n",
    "seqr2 = SeqRecord(seq_aa2,id=\"seq2\")\n",
    "seqr3 = SeqRecord(seq_aa3,id=\"seq3\")\n",
    "seqr4 = SeqRecord(seq_aa4,id=\"seq4\")\n",
    "lst_seq = [seqr1,seqr2,seqr3,seqr4]\n",
    "\n",
    "# Multiple Sequence Alignment\n",
    "alin = MSABIO(lst_seq)\n",
    "print(alin)"
   ]
  },
  {
   "cell_type": "markdown",
   "id": "f4a62e90",
   "metadata": {
    "papermill": {
     "duration": 0.069744,
     "end_time": "2023-05-10T06:28:49.513140",
     "exception": false,
     "start_time": "2023-05-10T06:28:49.443396",
     "status": "completed"
    },
    "tags": []
   },
   "source": [
    "# <div style=\"padding: 30px;color:white;margin:10;font-size:60%;text-align:left;display:fill;border-radius:10px;background-color:#FFFFFF;overflow:hidden;background-color:#E888BB\"><b><span style='color:#FFFFFF'>8 |</span></b> <b>IMPORTANT TAKEAWAYS</b></div>\n",
    "\n",
    "#### <b><span style='color:#E888BB'>ALIGNING SEQUENCES USING THE BIOPYLIB MODULE</span> </b> \n",
    "- Examples of aligning **multiple sequences** in the **<mark style=\"background-color:#323232;color:white;border-radius:5px;opacity:0.9\">SQ</mark>** format using **<mark style=\"background-color:#323232;color:white;border-radius:5px;opacity:0.9\">PSA</mark>** & **<mark style=\"background-color:#323232;color:white;border-radius:5px;opacity:0.9\">MSA</mark>** & visualising the alignment using **<mark style=\"background-color:#323232;color:white;border-radius:5px;opacity:0.9\">bokeh</mark>**"
   ]
  },
  {
   "cell_type": "code",
   "execution_count": 24,
   "id": "f71eb28b",
   "metadata": {
    "execution": {
     "iopub.execute_input": "2023-05-10T06:28:49.661982Z",
     "iopub.status.busy": "2023-05-10T06:28:49.660841Z",
     "iopub.status.idle": "2023-05-10T06:28:50.108404Z",
     "shell.execute_reply": "2023-05-10T06:28:50.108980Z",
     "shell.execute_reply.started": "2023-05-10T06:15:23.992347Z"
    },
    "papermill": {
     "duration": 0.525746,
     "end_time": "2023-05-10T06:28:50.109189",
     "exception": false,
     "start_time": "2023-05-10T06:28:49.583443",
     "status": "completed"
    },
    "tags": []
   },
   "outputs": [
    {
     "name": "stdout",
     "output_type": "stream",
     "text": [
      "[note] read -> FASTA [amino acid] | #seq: 1\n",
      "length of sequence: 253\n",
      "[note] read -> FASTA [amino acid] | #seq: 1\n",
      "length of sequence: 254\n"
     ]
    },
    {
     "data": {},
     "metadata": {},
     "output_type": "display_data"
    },
    {
     "data": {
      "application/vnd.holoviews_exec.v0+json": "",
      "text/html": [
       "<div id='2082'>\n",
       "\n",
       "\n",
       "\n",
       "\n",
       "\n",
       "  <div class=\"bk-root\" id=\"0eaa0d65-85fd-4d66-b1bc-89d80992d6c0\" data-root-id=\"2082\"></div>\n",
       "</div>\n",
       "<script type=\"application/javascript\">(function(root) {\n",
       "  function embed_document(root) {\n",
       "    var docs_json = {\"5a225265-02a2-43f1-a9d5-15f5d4020322\":{\"defs\":[{\"extends\":null,\"module\":null,\"name\":\"ReactiveHTML1\",\"overrides\":[],\"properties\":[]},{\"extends\":null,\"module\":null,\"name\":\"FlexBox1\",\"overrides\":[],\"properties\":[{\"default\":\"flex-start\",\"kind\":null,\"name\":\"align_content\"},{\"default\":\"flex-start\",\"kind\":null,\"name\":\"align_items\"},{\"default\":\"row\",\"kind\":null,\"name\":\"flex_direction\"},{\"default\":\"wrap\",\"kind\":null,\"name\":\"flex_wrap\"},{\"default\":\"flex-start\",\"kind\":null,\"name\":\"justify_content\"}]},{\"extends\":null,\"module\":null,\"name\":\"TemplateActions1\",\"overrides\":[],\"properties\":[{\"default\":0,\"kind\":null,\"name\":\"open_modal\"},{\"default\":0,\"kind\":null,\"name\":\"close_modal\"}]},{\"extends\":null,\"module\":null,\"name\":\"MaterialTemplateActions1\",\"overrides\":[],\"properties\":[{\"default\":0,\"kind\":null,\"name\":\"open_modal\"},{\"default\":0,\"kind\":null,\"name\":\"close_modal\"}]}],\"roots\":{\"references\":[{\"attributes\":{\"client_comm_id\":\"2743972a336a483084ac2e4b5f4addff\",\"comm_id\":\"ef2f2e84796640228dec3c4bd613f62e\",\"plot_id\":\"2082\"},\"id\":\"2163\",\"type\":\"panel.models.comm_manager.CommManager\"},{\"attributes\":{\"axis\":{\"id\":\"2044\"},\"coordinates\":null,\"dimension\":1,\"group\":null,\"ticker\":null,\"visible\":false},\"id\":\"2046\",\"type\":\"Grid\"},{\"attributes\":{},\"id\":\"2060\",\"type\":\"BasicTickFormatter\"},{\"attributes\":{\"bounds\":\"auto\",\"end\":257},\"id\":\"2000\",\"type\":\"Range1d\"},{\"attributes\":{\"coordinates\":null,\"formatter\":{\"id\":\"2070\"},\"group\":null,\"major_label_policy\":{\"id\":\"2071\"},\"major_tick_line_width\":0,\"minor_tick_line_width\":0,\"ticker\":{\"id\":\"2045\"}},\"id\":\"2044\",\"type\":\"CategoricalAxis\"},{\"attributes\":{},\"id\":\"2063\",\"type\":\"BasicTickFormatter\"},{\"attributes\":{\"coordinates\":null,\"data_source\":{\"id\":\"1999\"},\"glyph\":{\"id\":\"2052\"},\"group\":null,\"hover_glyph\":null,\"view\":{\"id\":\"2057\"}},\"id\":\"2056\",\"type\":\"GlyphRenderer\"},{\"attributes\":{\"fill_alpha\":{\"value\":0.7},\"fill_color\":{\"field\":\"colors\"},\"height\":{\"value\":1},\"line_color\":{\"value\":null},\"width\":{\"value\":1.0},\"x\":{\"field\":\"x\"},\"y\":{\"field\":\"recty\"}},\"id\":\"2053\",\"type\":\"Rect\"},{\"attributes\":{},\"id\":\"2020\",\"type\":\"ResetTool\"},{\"attributes\":{},\"id\":\"2061\",\"type\":\"AllLabels\"},{\"attributes\":{\"dimensions\":\"width\"},\"id\":\"2019\",\"type\":\"WheelZoomTool\"},{\"attributes\":{\"dimensions\":\"width\"},\"id\":\"2047\",\"type\":\"PanTool\"},{\"attributes\":{},\"id\":\"2011\",\"type\":\"BasicTicker\"},{\"attributes\":{},\"id\":\"2021\",\"type\":\"SaveTool\"},{\"attributes\":{\"tools\":[{\"id\":\"2018\"},{\"id\":\"2019\"},{\"id\":\"2020\"},{\"id\":\"2021\"}]},\"id\":\"2022\",\"type\":\"Toolbar\"},{\"attributes\":{},\"id\":\"2064\",\"type\":\"AllLabels\"},{\"attributes\":{\"text_align\":{\"value\":\"center\"},\"text_color\":{\"value\":\"black\"},\"text_font_size\":{\"value\":\"9pt\"},\"text_font_style\":{\"value\":\"bold\"},\"x\":{\"field\":\"x\"},\"y\":{\"field\":\"y\"}},\"id\":\"2052\",\"type\":\"Text\"},{\"attributes\":{},\"id\":\"2048\",\"type\":\"ResetTool\"},{\"attributes\":{},\"id\":\"2065\",\"type\":\"UnionRenderers\"},{\"attributes\":{},\"id\":\"2066\",\"type\":\"Selection\"},{\"attributes\":{},\"id\":\"2006\",\"type\":\"LinearScale\"},{\"attributes\":{\"coordinates\":null,\"formatter\":{\"id\":\"2063\"},\"group\":null,\"major_label_policy\":{\"id\":\"2064\"},\"ticker\":{\"id\":\"2011\"}},\"id\":\"2010\",\"type\":\"LinearAxis\"},{\"attributes\":{},\"id\":\"2074\",\"type\":\"AllLabels\"},{\"attributes\":{},\"id\":\"2036\",\"type\":\"LinearScale\"},{\"attributes\":{\"source\":{\"id\":\"1999\"}},\"id\":\"2057\",\"type\":\"CDSView\"},{\"attributes\":{\"tools\":[{\"id\":\"2047\"},{\"id\":\"2048\"}]},\"id\":\"2049\",\"type\":\"Toolbar\"},{\"attributes\":{\"coordinates\":null,\"data_source\":{\"id\":\"1999\"},\"glyph\":{\"id\":\"2053\"},\"group\":null,\"hover_glyph\":null,\"view\":{\"id\":\"2055\"}},\"id\":\"2054\",\"type\":\"GlyphRenderer\"},{\"attributes\":{\"children\":[{\"id\":\"2078\"},{\"id\":\"2080\"}]},\"id\":\"2081\",\"type\":\"Column\"},{\"attributes\":{\"coordinates\":null,\"data_source\":{\"id\":\"1999\"},\"glyph\":{\"id\":\"2027\"},\"group\":null,\"hover_glyph\":null,\"view\":{\"id\":\"2029\"}},\"id\":\"2028\",\"type\":\"GlyphRenderer\"},{\"attributes\":{\"toolbars\":[{\"id\":\"2022\"},{\"id\":\"2049\"}],\"tools\":[{\"id\":\"2018\"},{\"id\":\"2019\"},{\"id\":\"2020\"},{\"id\":\"2021\"},{\"id\":\"2047\"},{\"id\":\"2048\"}]},\"id\":\"2079\",\"type\":\"ProxyToolbar\"},{\"attributes\":{},\"id\":\"2015\",\"type\":\"BasicTicker\"},{\"attributes\":{\"end\":2},\"id\":\"2004\",\"type\":\"Range1d\"},{\"attributes\":{\"axis\":{\"id\":\"2010\"},\"coordinates\":null,\"group\":null,\"ticker\":null,\"visible\":false},\"id\":\"2013\",\"type\":\"Grid\"},{\"attributes\":{\"below\":[{\"id\":\"2040\"}],\"center\":[{\"id\":\"2043\"},{\"id\":\"2046\"}],\"height\":55,\"left\":[{\"id\":\"2044\"}],\"min_border\":0,\"renderers\":[{\"id\":\"2054\"},{\"id\":\"2056\"}],\"title\":null,\"toolbar\":{\"id\":\"2049\"},\"toolbar_location\":null,\"width\":800,\"x_range\":{\"id\":\"2032\"},\"x_scale\":{\"id\":\"2036\"},\"y_range\":{\"id\":\"2034\"},\"y_scale\":{\"id\":\"2038\"}},\"id\":\"2030\",\"subtype\":\"Figure\",\"type\":\"Plot\"},{\"attributes\":{\"end\":50},\"id\":\"2032\",\"type\":\"Range1d\"},{\"attributes\":{},\"id\":\"2070\",\"type\":\"CategoricalTickFormatter\"},{\"attributes\":{\"axis\":{\"id\":\"2014\"},\"coordinates\":null,\"dimension\":1,\"group\":null,\"ticker\":null,\"visible\":false},\"id\":\"2017\",\"type\":\"Grid\"},{\"attributes\":{},\"id\":\"2071\",\"type\":\"AllLabels\"},{\"attributes\":{\"coordinates\":null,\"formatter\":{\"id\":\"2060\"},\"group\":null,\"major_label_policy\":{\"id\":\"2061\"},\"ticker\":{\"id\":\"2015\"},\"visible\":false},\"id\":\"2014\",\"type\":\"LinearAxis\"},{\"attributes\":{},\"id\":\"2038\",\"type\":\"CategoricalScale\"},{\"attributes\":{\"fill_alpha\":{\"value\":0.7},\"fill_color\":{\"field\":\"colors\"},\"height\":{\"value\":0.5},\"line_color\":{\"value\":null},\"width\":{\"value\":1},\"x\":{\"field\":\"x\"},\"y\":{\"field\":\"recty\"}},\"id\":\"2027\",\"type\":\"Rect\"},{\"attributes\":{\"factors\":[\"AAH12844.1\",\"NP_001265185.1\"]},\"id\":\"2034\",\"type\":\"FactorRange\"},{\"attributes\":{},\"id\":\"2008\",\"type\":\"LinearScale\"},{\"attributes\":{\"below\":[{\"id\":\"2010\"}],\"center\":[{\"id\":\"2013\"},{\"id\":\"2017\"}],\"height\":50,\"left\":[{\"id\":\"2014\"}],\"min_border\":0,\"renderers\":[{\"id\":\"2028\"}],\"title\":null,\"toolbar\":{\"id\":\"2022\"},\"toolbar_location\":null,\"width\":800,\"x_range\":{\"id\":\"2000\"},\"x_scale\":{\"id\":\"2006\"},\"y_range\":{\"id\":\"2004\"},\"y_scale\":{\"id\":\"2008\"}},\"id\":\"2001\",\"subtype\":\"Figure\",\"type\":\"Plot\"},{\"attributes\":{\"data\":{\"colors\":[\"#8081f7\",\"#8081f7\",\"white\",\"#8081f7\",\"#8081f7\",\"#8081f7\",\"#8081f7\",\"#8081f7\",\"#8081f7\",\"#8081f7\",\"#8081f7\",\"#8081f7\",\"#8081f7\",\"#8081f7\",\"#white\",\"white\",\"#8081f7\",\"white\",\"#fe8081\",\"#8081f7\",\"#8081f7\",\"#8081f7\",\"#8081f7\",\"#b3ff80\",\"#b3ff80\",\"#b3ff80\",\"#8081f7\",\"#b3ff80\",\"#8081f7\",\"#8081f7\",\"#8081f7\",\"#8081f7\",\"white\",\"#white\",\"#8081f7\",\"#8081f7\",\"white\",\"#b3ff80\",\"white\",\"#8081f7\",\"#8081f7\",\"white\",\"#8081f7\",\"white\",\"#8081f7\",\"#8081f7\",\"#8081f7\",\"white\",\"#b3ff80\",\"white\",\"#8081f7\",\"#8081f7\",\"white\",\"#8081f7\",\"#8081f7\",\"#8081f7\",\"#8081f7\",\"#8081f7\",\"#8081f7\",\"white\",\"#8081f7\",\"#b3ff80\",\"#8081f7\",\"#8081f7\",\"#8081f7\",\"#8081f7\",\"#8081f7\",\"white\",\"#8081f7\",\"#b3ff80\",\"#8081f7\",\"#8081f7\",\"#8081f7\",\"#8081f7\",\"#8081f7\",\"white\",\"#8081f7\",\"#b3ff80\",\"#8081f7\",\"#8081f7\",\"#8081f7\",\"#8081f7\",\"#8081f7\",\"white\",\"#8081f7\",\"#b3ff80\",\"#8081f7\",\"#8081f7\",\"#8081f7\",\"#8081f7\",\"#8081f7\",\"white\",\"#8081f7\",\"#8081f7\",\"#8081f7\",\"#white\",\"#b3ff80\",\"white\",\"white\",\"#8081f7\",\"white\",\"#b3ff80\",\"#8081f7\",\"white\",\"#b3ff80\",\"#8081f7\",\"#b3ff80\",\"#white\",\"white\",\"#8081f7\",\"#b3ff80\",\"#b3ff80\",\"#8081f7\",\"#8081f7\",\"#8081f7\",\"#8081f7\",\"#8081f7\",\"#8081f7\",\"#8081f7\",\"#8081f7\",\"#8081f7\",\"#8081f7\",\"#8081f7\",\"#8081f7\",\"#8081f7\",\"#8081f7\",\"#8081f7\",\"#8081f7\",\"white\",\"#8081f7\",\"#8081f7\",\"#8081f7\",\"white\",\"#8081f7\",\"#8081f7\",\"white\",\"#b3ff80\",\"#8081f7\",\"#8081f7\",\"#8081f7\",\"#b3ff80\",\"#8081f7\",\"#8081f7\",\"white\",\"#fe8081\",\"white\",\"#fe8081\",\"#fe8081\",\"#b3ff80\",\"white\",\"white\",\"#b3ff80\",\"#fe8081\",\"white\",\"#8081f7\",\"#b3ff80\",\"#b3ff80\",\"white\",\"#8081f7\",\"white\",\"white\",\"#8081f7\",\"white\",\"white\",\"#b3ff80\",\"#8081f7\",\"#8081f7\",\"#fe8081\",\"#fe8081\",\"white\",\"white\",\"white\",\"white\",\"white\",\"white\",\"#8081f7\",\"#8081f7\",\"#b3ff80\",\"#fe8081\",\"#8081f7\",\"#8081f7\",\"white\",\"#8081f7\",\"#white\",\"#8081f7\",\"#b3ff80\",\"white\",\"#b3ff80\",\"#white\",\"#8081f7\",\"#white\",\"#white\",\"#white\",\"#white\",\"#b3ff80\",\"#8081f7\",\"#fe8081\",\"white\",\"#8081f7\",\"#white\",\"#fe8081\",\"#white\",\"#fe8081\",\"#8081f7\",\"#b3ff80\",\"#8081f7\",\"#8081f7\",\"#fe8081\",\"#b3ff80\",\"#8081f7\",\"#8081f7\",\"#fe8081\",\"white\",\"#8081f7\",\"#8081f7\",\"#8081f7\",\"#white\",\"white\",\"white\",\"#fe8081\",\"#b3ff80\",\"#fe8081\",\"white\",\"white\",\"#8081f7\",\"white\",\"white\",\"white\",\"white\",\"white\",\"#b3ff80\",\"#8081f7\",\"white\",\"white\",\"#8081f7\",\"#8081f7\",\"#8081f7\",\"#8081f7\",\"white\",\"white\",\"#8081f7\",\"#8081f7\",\"#8081f7\",\"#8081f7\",\"#8081f7\",\"#8081f7\",\"#8081f7\",\"white\",\"#8081f7\",\"#8081f7\",\"#8081f7\",\"#8081f7\",\"#8081f7\",\"#8081f7\",\"#8081f7\",\"#8081f7\",\"#8081f7\",\"#8081f7\",\"white\",\"#8081f7\",\"#8081f7\",\"white\",\"#8081f7\",\"#8081f7\",\"#8081f7\",\"#8081f7\",\"#8081f7\",\"#8081f7\",\"#8081f7\",\"white\",\"#white\",\"#8081f7\",\"#8081f7\",\"#white\",\"#fe8081\",\"#8081f7\",\"#8081f7\",\"#8081f7\",\"#8081f7\",\"#b3ff80\",\"#b3ff80\",\"#b3ff80\",\"#8081f7\",\"#b3ff80\",\"#8081f7\",\"#8081f7\",\"#8081f7\",\"#8081f7\",\"white\",\"#white\",\"#8081f7\",\"#8081f7\",\"white\",\"#b3ff80\",\"white\",\"#8081f7\",\"#8081f7\",\"white\",\"#8081f7\",\"white\",\"#8081f7\",\"#8081f7\",\"#8081f7\",\"white\",\"#b3ff80\",\"white\",\"#8081f7\",\"#8081f7\",\"white\",\"#8081f7\",\"#8081f7\",\"#white\",\"white\",\"#8081f7\",\"#8081f7\",\"white\",\"#8081f7\",\"#b3ff80\",\"#8081f7\",\"#8081f7\",\"#8081f7\",\"#8081f7\",\"#8081f7\",\"white\",\"#8081f7\",\"#b3ff80\",\"#8081f7\",\"#8081f7\",\"white\",\"#8081f7\",\"#8081f7\",\"white\",\"#8081f7\",\"#b3ff80\",\"#8081f7\",\"#8081f7\",\"white\",\"#8081f7\",\"#8081f7\",\"white\",\"#8081f7\",\"#b3ff80\",\"#8081f7\",\"#8081f7\",\"#8081f7\",\"#8081f7\",\"#8081f7\",\"white\",\"#8081f7\",\"#8081f7\",\"#8081f7\",\"#white\",\"#b3ff80\",\"white\",\"white\",\"#8081f7\",\"white\",\"#b3ff80\",\"#8081f7\",\"white\",\"#b3ff80\",\"#8081f7\",\"#b3ff80\",\"#white\",\"white\",\"#8081f7\",\"#b3ff80\",\"#b3ff80\",\"#8081f7\",\"#8081f7\",\"#8081f7\",\"#8081f7\",\"#8081f7\",\"#8081f7\",\"#8081f7\",\"#8081f7\",\"#8081f7\",\"#8081f7\",\"#8081f7\",\"#8081f7\",\"#8081f7\",\"#8081f7\",\"#8081f7\",\"#8081f7\",\"white\",\"#8081f7\",\"#8081f7\",\"#8081f7\",\"white\",\"#8081f7\",\"#8081f7\",\"white\",\"#b3ff80\",\"#8081f7\",\"#8081f7\",\"#8081f7\",\"#b3ff80\",\"#8081f7\",\"#8081f7\",\"white\",\"#fe8081\",\"#8081f7\",\"#fe8081\",\"#fe8081\",\"#b3ff80\",\"white\",\"white\",\"#b3ff80\",\"#fe8081\",\"white\",\"#8081f7\",\"white\",\"#b3ff80\",\"white\",\"#8081f7\",\"white\",\"white\",\"#8081f7\",\"white\",\"white\",\"#b3ff80\",\"#8081f7\",\"#8081f7\",\"#fe8081\",\"white\",\"white\",\"white\",\"white\",\"white\",\"white\",\"white\",\"#8081f7\",\"#8081f7\",\"#b3ff80\",\"#fe8081\",\"#8081f7\",\"#8081f7\",\"white\",\"#8081f7\",\"#white\",\"#8081f7\",\"#b3ff80\",\"white\",\"#b3ff80\",\"#white\",\"#8081f7\",\"#white\",\"#white\",\"#white\",\"#white\",\"#b3ff80\",\"#8081f7\",\"#fe8081\",\"white\",\"#8081f7\",\"#white\",\"#fe8081\",\"#white\",\"#fe8081\",\"#8081f7\",\"#b3ff80\",\"#8081f7\",\"#8081f7\",\"#fe8081\",\"#b3ff80\",\"#8081f7\",\"#8081f7\",\"#fe8081\",\"white\",\"#8081f7\",\"#8081f7\",\"#8081f7\",\"#white\",\"white\",\"white\",\"white\",\"#b3ff80\",\"#fe8081\",\"white\",\"white\",\"#8081f7\",\"white\",\"white\",\"#fe8081\",\"#8081f7\",\"#b3ff80\",\"#b3ff80\",\"white\",\"white\",\"white\",\"#white\",\"#8081f7\",\"#8081f7\",\"#8081f7\",\"white\",\"white\",\"#8081f7\",\"#8081f7\",\"#8081f7\",\"#8081f7\",\"#8081f7\",\"#8081f7\",\"#8081f7\",\"white\",\"#8081f7\",\"#8081f7\",\"#8081f7\",\"#8081f7\",\"#8081f7\",\"#8081f7\",\"#8081f7\",\"#8081f7\"],\"recty\":{\"__ndarray__\":\"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\",\"dtype\":\"float64\",\"order\":\"little\",\"shape\":[512]},\"text\":[\"M\",\"A\",\"N\",\"L\",\"G\",\"C\",\"W\",\"M\",\"L\",\"V\",\"L\",\"F\",\"V\",\"A\",\"T\",\"-\",\"W\",\"S\",\"D\",\"L\",\"G\",\"L\",\"C\",\"K\",\"K\",\"R\",\"P\",\"K\",\"P\",\"G\",\"G\",\"W\",\"N\",\"T\",\"G\",\"G\",\"S\",\"R\",\"Y\",\"P\",\"G\",\"Q\",\"G\",\"S\",\"P\",\"G\",\"G\",\"N\",\"R\",\"Y\",\"P\",\"P\",\"Q\",\"G\",\"G\",\"G\",\"G\",\"W\",\"G\",\"Q\",\"P\",\"H\",\"G\",\"G\",\"G\",\"W\",\"G\",\"Q\",\"P\",\"H\",\"G\",\"G\",\"G\",\"W\",\"G\",\"Q\",\"P\",\"H\",\"G\",\"G\",\"G\",\"W\",\"G\",\"Q\",\"P\",\"H\",\"G\",\"G\",\"G\",\"W\",\"G\",\"Q\",\"G\",\"G\",\"G\",\"T\",\"H\",\"S\",\"Q\",\"W\",\"N\",\"K\",\"P\",\"S\",\"K\",\"P\",\"K\",\"T\",\"N\",\"M\",\"K\",\"H\",\"M\",\"A\",\"G\",\"A\",\"A\",\"A\",\"A\",\"G\",\"A\",\"V\",\"V\",\"G\",\"G\",\"L\",\"G\",\"G\",\"Y\",\"V\",\"L\",\"G\",\"S\",\"A\",\"M\",\"S\",\"R\",\"P\",\"I\",\"I\",\"H\",\"F\",\"G\",\"S\",\"D\",\"Y\",\"E\",\"D\",\"R\",\"Y\",\"Y\",\"R\",\"E\",\"N\",\"M\",\"H\",\"R\",\"Y\",\"P\",\"N\",\"Q\",\"V\",\"Y\",\"Y\",\"R\",\"P\",\"M\",\"D\",\"E\",\"Y\",\"S\",\"N\",\"Q\",\"N\",\"N\",\"F\",\"V\",\"H\",\"D\",\"C\",\"V\",\"N\",\"I\",\"T\",\"I\",\"K\",\"Q\",\"H\",\"T\",\"V\",\"T\",\"T\",\"T\",\"T\",\"K\",\"G\",\"E\",\"N\",\"F\",\"T\",\"E\",\"T\",\"D\",\"V\",\"K\",\"M\",\"M\",\"E\",\"R\",\"V\",\"V\",\"E\",\"Q\",\"M\",\"C\",\"I\",\"T\",\"Q\",\"Y\",\"E\",\"R\",\"E\",\"S\",\"Q\",\"A\",\"Y\",\"Y\",\"-\",\"-\",\"Q\",\"R\",\"G\",\"S\",\"S\",\"M\",\"V\",\"L\",\"F\",\"S\",\"S\",\"P\",\"P\",\"V\",\"I\",\"L\",\"L\",\"I\",\"S\",\"F\",\"L\",\"I\",\"F\",\"L\",\"I\",\"V\",\"G\",\"M\",\"A\",\"N\",\"L\",\"G\",\"Y\",\"W\",\"L\",\"L\",\"A\",\"L\",\"F\",\"V\",\"-\",\"T\",\"M\",\"W\",\"T\",\"D\",\"V\",\"G\",\"L\",\"C\",\"K\",\"K\",\"R\",\"P\",\"K\",\"P\",\"G\",\"G\",\"W\",\"N\",\"T\",\"G\",\"G\",\"S\",\"R\",\"Y\",\"P\",\"G\",\"Q\",\"G\",\"S\",\"P\",\"G\",\"G\",\"N\",\"R\",\"Y\",\"P\",\"P\",\"Q\",\"G\",\"G\",\"T\",\"-\",\"W\",\"G\",\"Q\",\"P\",\"H\",\"G\",\"G\",\"G\",\"W\",\"G\",\"Q\",\"P\",\"H\",\"G\",\"G\",\"S\",\"W\",\"G\",\"Q\",\"P\",\"H\",\"G\",\"G\",\"S\",\"W\",\"G\",\"Q\",\"P\",\"H\",\"G\",\"G\",\"G\",\"W\",\"G\",\"Q\",\"G\",\"G\",\"G\",\"T\",\"H\",\"N\",\"Q\",\"W\",\"N\",\"K\",\"P\",\"S\",\"K\",\"P\",\"K\",\"T\",\"N\",\"L\",\"K\",\"H\",\"V\",\"A\",\"G\",\"A\",\"A\",\"A\",\"A\",\"G\",\"A\",\"V\",\"V\",\"G\",\"G\",\"L\",\"G\",\"G\",\"Y\",\"M\",\"L\",\"G\",\"S\",\"A\",\"M\",\"S\",\"R\",\"P\",\"M\",\"I\",\"H\",\"F\",\"G\",\"N\",\"D\",\"W\",\"E\",\"D\",\"R\",\"Y\",\"Y\",\"R\",\"E\",\"N\",\"M\",\"Y\",\"R\",\"Y\",\"P\",\"N\",\"Q\",\"V\",\"Y\",\"Y\",\"R\",\"P\",\"V\",\"D\",\"Q\",\"Y\",\"S\",\"N\",\"Q\",\"N\",\"N\",\"F\",\"V\",\"H\",\"D\",\"C\",\"V\",\"N\",\"I\",\"T\",\"I\",\"K\",\"Q\",\"H\",\"T\",\"V\",\"T\",\"T\",\"T\",\"T\",\"K\",\"G\",\"E\",\"N\",\"F\",\"T\",\"E\",\"T\",\"D\",\"V\",\"K\",\"M\",\"M\",\"E\",\"R\",\"V\",\"V\",\"E\",\"Q\",\"M\",\"C\",\"V\",\"T\",\"Q\",\"Y\",\"Q\",\"K\",\"E\",\"S\",\"Q\",\"A\",\"Y\",\"Y\",\"D\",\"G\",\"R\",\"R\",\"S\",\"S\",\"S\",\"T\",\"V\",\"L\",\"F\",\"S\",\"S\",\"P\",\"P\",\"V\",\"I\",\"L\",\"L\",\"I\",\"S\",\"F\",\"L\",\"I\",\"F\",\"L\",\"I\",\"V\",\"G\"],\"x\":{\"__ndarray__\":\"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\",\"dtype\":\"float64\",\"order\":\"little\",\"shape\":[512]},\"y\":[0,0,0,0,0,0,0,0,0,0,0,0,0,0,0,0,0,0,0,0,0,0,0,0,0,0,0,0,0,0,0,0,0,0,0,0,0,0,0,0,0,0,0,0,0,0,0,0,0,0,0,0,0,0,0,0,0,0,0,0,0,0,0,0,0,0,0,0,0,0,0,0,0,0,0,0,0,0,0,0,0,0,0,0,0,0,0,0,0,0,0,0,0,0,0,0,0,0,0,0,0,0,0,0,0,0,0,0,0,0,0,0,0,0,0,0,0,0,0,0,0,0,0,0,0,0,0,0,0,0,0,0,0,0,0,0,0,0,0,0,0,0,0,0,0,0,0,0,0,0,0,0,0,0,0,0,0,0,0,0,0,0,0,0,0,0,0,0,0,0,0,0,0,0,0,0,0,0,0,0,0,0,0,0,0,0,0,0,0,0,0,0,0,0,0,0,0,0,0,0,0,0,0,0,0,0,0,0,0,0,0,0,0,0,0,0,0,0,0,0,0,0,0,0,0,0,0,0,0,0,0,0,0,0,0,0,0,0,0,0,0,0,0,0,0,0,0,0,0,0,0,0,0,0,0,0,1,1,1,1,1,1,1,1,1,1,1,1,1,1,1,1,1,1,1,1,1,1,1,1,1,1,1,1,1,1,1,1,1,1,1,1,1,1,1,1,1,1,1,1,1,1,1,1,1,1,1,1,1,1,1,1,1,1,1,1,1,1,1,1,1,1,1,1,1,1,1,1,1,1,1,1,1,1,1,1,1,1,1,1,1,1,1,1,1,1,1,1,1,1,1,1,1,1,1,1,1,1,1,1,1,1,1,1,1,1,1,1,1,1,1,1,1,1,1,1,1,1,1,1,1,1,1,1,1,1,1,1,1,1,1,1,1,1,1,1,1,1,1,1,1,1,1,1,1,1,1,1,1,1,1,1,1,1,1,1,1,1,1,1,1,1,1,1,1,1,1,1,1,1,1,1,1,1,1,1,1,1,1,1,1,1,1,1,1,1,1,1,1,1,1,1,1,1,1,1,1,1,1,1,1,1,1,1,1,1,1,1,1,1,1,1,1,1,1,1,1,1,1,1,1,1,1,1,1,1,1,1,1,1,1,1,1,1,1,1,1,1,1,1,1,1,1,1,1,1,1,1,1,1,1,1]},\"selected\":{\"id\":\"2066\"},\"selection_policy\":{\"id\":\"2065\"}},\"id\":\"1999\",\"type\":\"ColumnDataSource\"},{\"attributes\":{\"source\":{\"id\":\"1999\"}},\"id\":\"2055\",\"type\":\"CDSView\"},{\"attributes\":{\"children\":[{\"id\":\"2081\"}],\"margin\":[0,0,0,0],\"name\":\"Row00119\"},\"id\":\"2082\",\"type\":\"Row\"},{\"attributes\":{},\"id\":\"2073\",\"type\":\"BasicTickFormatter\"},{\"attributes\":{\"children\":[[{\"id\":\"2001\"},0,0],[{\"id\":\"2030\"},1,0]]},\"id\":\"2078\",\"type\":\"GridBox\"},{\"attributes\":{\"coordinates\":null,\"formatter\":{\"id\":\"2073\"},\"group\":null,\"major_label_policy\":{\"id\":\"2074\"},\"major_label_text_font_style\":\"bold\",\"ticker\":{\"id\":\"2041\"}},\"id\":\"2040\",\"type\":\"LinearAxis\"},{\"attributes\":{\"source\":{\"id\":\"1999\"}},\"id\":\"2029\",\"type\":\"CDSView\"},{\"attributes\":{},\"id\":\"2045\",\"type\":\"CategoricalTicker\"},{\"attributes\":{\"dimensions\":\"width\"},\"id\":\"2018\",\"type\":\"PanTool\"},{\"attributes\":{},\"id\":\"2041\",\"type\":\"BasicTicker\"},{\"attributes\":{\"toolbar\":{\"id\":\"2079\"},\"toolbar_location\":\"below\"},\"id\":\"2080\",\"type\":\"ToolbarBox\"},{\"attributes\":{\"axis\":{\"id\":\"2040\"},\"coordinates\":null,\"group\":null,\"ticker\":null,\"visible\":false},\"id\":\"2043\",\"type\":\"Grid\"}],\"root_ids\":[\"2082\",\"2163\"]},\"title\":\"Bokeh Application\",\"version\":\"2.4.0\"}};\n",
       "    var render_items = [{\"docid\":\"5a225265-02a2-43f1-a9d5-15f5d4020322\",\"root_ids\":[\"2082\"],\"roots\":{\"2082\":\"0eaa0d65-85fd-4d66-b1bc-89d80992d6c0\"}}];\n",
       "    root.Bokeh.embed.embed_items_notebook(docs_json, render_items);\n",
       "  }\n",
       "  if (root.Bokeh !== undefined && root.Bokeh.Panel !== undefined) {\n",
       "    embed_document(root);\n",
       "  } else {\n",
       "    var attempts = 0;\n",
       "    var timer = setInterval(function(root) {\n",
       "      if (root.Bokeh !== undefined && root.Bokeh.Panel !== undefined) {\n",
       "        clearInterval(timer);\n",
       "        embed_document(root);\n",
       "      } else if (document.readyState == \"complete\") {\n",
       "        attempts++;\n",
       "        if (attempts > 200) {\n",
       "          clearInterval(timer);\n",
       "          console.log(\"Bokeh: ERROR: Unable to run BokehJS code because BokehJS library is missing\");\n",
       "        }\n",
       "      }\n",
       "    }, 25, root)\n",
       "  }\n",
       "})(window);</script>"
      ],
      "text/plain": [
       "Bokeh(Column)"
      ]
     },
     "metadata": {
      "application/vnd.holoviews_exec.v0+json": {
       "id": "2082"
      }
     },
     "output_type": "display_data"
    }
   ],
   "source": [
    "''' ALIGN TWO SEQUENCES '''\n",
    "\n",
    "# Path to two amino acid chains\n",
    "human = \"/kaggle/input/bioinformatics/sequences/AAH12844.1.faa\"      \n",
    "mouse = \"/kaggle/input/bioinformatics/sequences/NP_001265185.1.faa\"\n",
    "\n",
    "# Read sequences from FASTA files\n",
    "human_faa = readSeq(human).store(); print(f'length of sequence: {len(human_faa)}')\n",
    "mouse_faa = readSeq(mouse).store(); print(f'length of sequence: {len(mouse_faa)}')\n",
    "\n",
    "# Instantiate substitution matrix\n",
    "subm62 = SUBM()\n",
    "subm62.read(\"/kaggle/input/bioinformatics/substitution_matrices/blosum62.mat\")\n",
    "\n",
    "# Pairwise Sequence Alignment\n",
    "alin = PSA(seqs=[human_faa,mouse_faa], # define sequences\n",
    "           subm=subm62,g=-3,         # use BLOSUM62 substitution matrix\n",
    "           colcod = 'charge_aa') # use colourcoding in view\n",
    "\n",
    "# Needleman Wunsch Global Alignment\n",
    "alin.nW() # calculte SM, TM matrices \n",
    "alin.realign(ids='nW') # get the alignment from TM matrix\n",
    "alin.view() # visualise alignment"
   ]
  },
  {
   "cell_type": "code",
   "execution_count": 25,
   "id": "daf5bc44",
   "metadata": {
    "execution": {
     "iopub.execute_input": "2023-05-10T06:28:50.271347Z",
     "iopub.status.busy": "2023-05-10T06:28:50.270537Z",
     "iopub.status.idle": "2023-05-10T06:28:50.450507Z",
     "shell.execute_reply": "2023-05-10T06:28:50.449832Z",
     "shell.execute_reply.started": "2023-05-10T06:15:32.298465Z"
    },
    "papermill": {
     "duration": 0.269673,
     "end_time": "2023-05-10T06:28:50.450671",
     "exception": false,
     "start_time": "2023-05-10T06:28:50.180998",
     "status": "completed"
    },
    "tags": []
   },
   "outputs": [
    {
     "data": {},
     "metadata": {},
     "output_type": "display_data"
    },
    {
     "data": {
      "application/vnd.holoviews_exec.v0+json": "",
      "text/html": [
       "<div id='2327'>\n",
       "\n",
       "\n",
       "\n",
       "\n",
       "\n",
       "  <div class=\"bk-root\" id=\"4b888da1-29a8-4e83-9a89-5775c4417aab\" data-root-id=\"2327\"></div>\n",
       "</div>\n",
       "<script type=\"application/javascript\">(function(root) {\n",
       "  function embed_document(root) {\n",
       "    var docs_json = {\"7a71492a-2535-4e1a-a664-60f0215ebae6\":{\"defs\":[{\"extends\":null,\"module\":null,\"name\":\"ReactiveHTML1\",\"overrides\":[],\"properties\":[]},{\"extends\":null,\"module\":null,\"name\":\"FlexBox1\",\"overrides\":[],\"properties\":[{\"default\":\"flex-start\",\"kind\":null,\"name\":\"align_content\"},{\"default\":\"flex-start\",\"kind\":null,\"name\":\"align_items\"},{\"default\":\"row\",\"kind\":null,\"name\":\"flex_direction\"},{\"default\":\"wrap\",\"kind\":null,\"name\":\"flex_wrap\"},{\"default\":\"flex-start\",\"kind\":null,\"name\":\"justify_content\"}]},{\"extends\":null,\"module\":null,\"name\":\"TemplateActions1\",\"overrides\":[],\"properties\":[{\"default\":0,\"kind\":null,\"name\":\"open_modal\"},{\"default\":0,\"kind\":null,\"name\":\"close_modal\"}]},{\"extends\":null,\"module\":null,\"name\":\"MaterialTemplateActions1\",\"overrides\":[],\"properties\":[{\"default\":0,\"kind\":null,\"name\":\"open_modal\"},{\"default\":0,\"kind\":null,\"name\":\"close_modal\"}]}],\"roots\":{\"references\":[{\"attributes\":{\"coordinates\":null,\"formatter\":{\"id\":\"2305\"},\"group\":null,\"major_label_policy\":{\"id\":\"2306\"},\"ticker\":{\"id\":\"2260\"},\"visible\":false},\"id\":\"2259\",\"type\":\"LinearAxis\"},{\"attributes\":{},\"id\":\"2309\",\"type\":\"AllLabels\"},{\"attributes\":{},\"id\":\"2310\",\"type\":\"UnionRenderers\"},{\"attributes\":{\"coordinates\":null,\"formatter\":{\"id\":\"2318\"},\"group\":null,\"major_label_policy\":{\"id\":\"2319\"},\"major_label_text_font_style\":\"bold\",\"ticker\":{\"id\":\"2286\"}},\"id\":\"2285\",\"type\":\"LinearAxis\"},{\"attributes\":{},\"id\":\"2256\",\"type\":\"BasicTicker\"},{\"attributes\":{},\"id\":\"2266\",\"type\":\"SaveTool\"},{\"attributes\":{},\"id\":\"2311\",\"type\":\"Selection\"},{\"attributes\":{},\"id\":\"2253\",\"type\":\"LinearScale\"},{\"attributes\":{},\"id\":\"2281\",\"type\":\"LinearScale\"},{\"attributes\":{\"tools\":[{\"id\":\"2292\"},{\"id\":\"2293\"}]},\"id\":\"2294\",\"type\":\"Toolbar\"},{\"attributes\":{\"dimensions\":\"width\"},\"id\":\"2264\",\"type\":\"WheelZoomTool\"},{\"attributes\":{\"fill_alpha\":{\"value\":0.7},\"fill_color\":{\"field\":\"colors\"},\"height\":{\"value\":0.5},\"line_color\":{\"value\":null},\"width\":{\"value\":1},\"x\":{\"field\":\"x\"},\"y\":{\"field\":\"recty\"}},\"id\":\"2272\",\"type\":\"Rect\"},{\"attributes\":{},\"id\":\"2316\",\"type\":\"AllLabels\"},{\"attributes\":{\"fill_alpha\":{\"value\":0.7},\"fill_color\":{\"field\":\"colors\"},\"height\":{\"value\":1},\"line_color\":{\"value\":null},\"width\":{\"value\":1.0},\"x\":{\"field\":\"x\"},\"y\":{\"field\":\"recty\"}},\"id\":\"2298\",\"type\":\"Rect\"},{\"attributes\":{},\"id\":\"2315\",\"type\":\"CategoricalTickFormatter\"},{\"attributes\":{\"end\":5},\"id\":\"2249\",\"type\":\"Range1d\"},{\"attributes\":{},\"id\":\"2286\",\"type\":\"BasicTicker\"},{\"attributes\":{},\"id\":\"2318\",\"type\":\"BasicTickFormatter\"},{\"attributes\":{\"children\":[[{\"id\":\"2246\"},0,0],[{\"id\":\"2275\"},1,0]]},\"id\":\"2323\",\"type\":\"GridBox\"},{\"attributes\":{},\"id\":\"2251\",\"type\":\"LinearScale\"},{\"attributes\":{\"source\":{\"id\":\"2244\"}},\"id\":\"2300\",\"type\":\"CDSView\"},{\"attributes\":{\"coordinates\":null,\"data_source\":{\"id\":\"2244\"},\"glyph\":{\"id\":\"2298\"},\"group\":null,\"hover_glyph\":null,\"view\":{\"id\":\"2300\"}},\"id\":\"2299\",\"type\":\"GlyphRenderer\"},{\"attributes\":{},\"id\":\"2319\",\"type\":\"AllLabels\"},{\"attributes\":{\"factors\":[\"sequence0\",\"sequence1\",\"sequence2\",\"sequence3\",\"sequence4\"]},\"id\":\"2279\",\"type\":\"FactorRange\"},{\"attributes\":{\"coordinates\":null,\"formatter\":{\"id\":\"2308\"},\"group\":null,\"major_label_policy\":{\"id\":\"2309\"},\"ticker\":{\"id\":\"2256\"}},\"id\":\"2255\",\"type\":\"LinearAxis\"},{\"attributes\":{\"data\":{\"colors\":[\"#2C679E\",\"#24CE5D\",\"#2C679E\",\"#FF5733\",\"#2C679E\",\"#2C679E\",\"white\",\"#2C679E\",\"#24CE5D\",\"white\",\"#2C679E\",\"#2C679E\",\"#24CE5D\",\"#2C679E\",\"#2C679E\",\"white\",\"white\",\"#FF5733\",\"white\",\"#FF5733\",\"#2C679E\",\"#2C679E\",\"white\",\"#2C679E\",\"white\",\"white\",\"#FF5733\",\"white\",\"#2C679E\",\"white\",\"#2C679E\",\"#2C679E\",\"#2C679E\",\"white\",\"white\",\"#2C679E\",\"#24CE5D\",\"#FF5733\",\"#2C679E\",\"#2C679E\",\"#2C679E\",\"#2C679E\",\"#2C679E\",\"#24CE5D\",\"#2C679E\",\"#FF5733\",\"#2C679E\",\"#FF5733\",\"#2C679E\",\"white\",\"white\",\"#2C679E\",\"white\",\"white\",\"white\",\"white\",\"#2C679E\",\"#24CE5D\",\"white\",\"#FF5733\",\"white\",\"#2C679E\",\"white\",\"#2C679E\",\"white\",\"white\",\"#2C679E\",\"#2C679E\",\"#24CE5D\",\"#FF5733\",\"#FF5733\",\"white\",\"#2C679E\",\"#FF5733\",\"#2C679E\",\"#2C679E\",\"#2C679E\",\"#2C679E\",\"white\",\"#24CE5D\",\"white\",\"white\",\"#FF5733\",\"#2C679E\",\"#2C679E\",\"#24CE5D\",\"#FF5733\",\"#FF5733\",\"#2C679E\",\"white\",\"white\",\"#2C679E\",\"white\",\"white\",\"#2C679E\",\"#2C679E\",\"#24CE5D\",\"#FF5733\",\"white\",\"white\",\"white\",\"#FF5733\",\"white\",\"#FF5733\",\"#2C679E\",\"#FF5733\",\"#24CE5D\",\"#2C679E\",\"#2C679E\",\"#24CE5D\",\"#FF5733\",\"white\",\"#2C679E\",\"#24CE5D\",\"#FF5733\",\"#FF5733\",\"#2C679E\",\"#2C679E\",\"#2C679E\",\"#2C679E\",\"#24CE5D\",\"white\",\"white\",\"#2C679E\",\"white\",\"#2C679E\",\"#FF5733\",\"#FF5733\",\"white\",\"#FF5733\",\"#2C679E\",\"white\",\"#2C679E\",\"white\",\"white\",\"#2C679E\",\"#2C679E\",\"#2C679E\",\"white\",\"white\"],\"recty\":{\"__ndarray__\":\"AAAAAAAA4D8AAAAAAADgPwAAAAAAAOA/AAAAAAAA4D8AAAAAAADgPwAAAAAAAOA/AAAAAAAA4D8AAAAAAADgPwAAAAAAAOA/AAAAAAAA4D8AAAAAAADgPwAAAAAAAOA/AAAAAAAA4D8AAAAAAADgPwAAAAAAAOA/AAAAAAAA4D8AAAAAAADgPwAAAAAAAOA/AAAAAAAA4D8AAAAAAADgPwAAAAAAAOA/AAAAAAAA4D8AAAAAAADgPwAAAAAAAOA/AAAAAAAA4D8AAAAAAADgPwAAAAAAAOA/AAAAAAAA4D8AAAAAAAD4PwAAAAAAAPg/AAAAAAAA+D8AAAAAAAD4PwAAAAAAAPg/AAAAAAAA+D8AAAAAAAD4PwAAAAAAAPg/AAAAAAAA+D8AAAAAAAD4PwAAAAAAAPg/AAAAAAAA+D8AAAAAAAD4PwAAAAAAAPg/AAAAAAAA+D8AAAAAAAD4PwAAAAAAAPg/AAAAAAAA+D8AAAAAAAD4PwAAAAAAAPg/AAAAAAAA+D8AAAAAAAD4PwAAAAAAAPg/AAAAAAAA+D8AAAAAAAD4PwAAAAAAAPg/AAAAAAAA+D8AAAAAAAD4PwAAAAAAAARAAAAAAAAABEAAAAAAAAAEQAAAAAAAAARAAAAAAAAABEAAAAAAAAAEQAAAAAAAAARAAAAAAAAABEAAAAAAAAAEQAAAAAAAAARAAAAAAAAABEAAAAAAAAAEQAAAAAAAAARAAAAAAAAABEAAAAAAAAAEQAAAAAAAAARAAAAAAAAABEAAAAAAAAAEQAAAAAAAAARAAAAAAAAABEAAAAAAAAAEQAAAAAAAAARAAAAAAAAABEAAAAAAAAAEQAAAAAAAAARAAAAAAAAABEAAAAAAAAAEQAAAAAAAAARAAAAAAAAADEAAAAAAAAAMQAAAAAAAAAxAAAAAAAAADEAAAAAAAAAMQAAAAAAAAAxAAAAAAAAADEAAAAAAAAAMQAAAAAAAAAxAAAAAAAAADEAAAAAAAAAMQAAAAAAAAAxAAAAAAAAADEAAAAAAAAAMQAAAAAAAAAxAAAAAAAAADEAAAAAAAAAMQAAAAAAAAAxAAAAAAAAADEAAAAAAAAAMQAAAAAAAAAxAAAAAAAAADEAAAAAAAAAMQAAAAAAAAAxAAAAAAAAADEAAAAAAAAAMQAAAAAAAAAxAAAAAAAAADEAAAAAAAAASQAAAAAAAABJAAAAAAAAAEkAAAAAAAAASQAAAAAAAABJAAAAAAAAAEkAAAAAAAAASQAAAAAAAABJAAAAAAAAAEkAAAAAAAAASQAAAAAAAABJAAAAAAAAAEkAAAAAAAAASQAAAAAAAABJAAAAAAAAAEkAAAAAAAAASQAAAAAAAABJAAAAAAAAAEkAAAAAAAAASQAAAAAAAABJAAAAAAAAAEkAAAAAAAAASQAAAAAAAABJAAAAAAAAAEkAAAAAAAAASQAAAAAAAABJAAAAAAAAAEkAAAAAAAAASQA==\",\"dtype\":\"float64\",\"order\":\"little\",\"shape\":[140]},\"text\":[\"A\",\"T\",\"A\",\"G\",\"C\",\"A\",\"-\",\"C\",\"T\",\"-\",\"C\",\"A\",\"T\",\"C\",\"C\",\"-\",\"-\",\"G\",\"-\",\"G\",\"C\",\"C\",\"-\",\"A\",\"-\",\"-\",\"G\",\"-\",\"A\",\"-\",\"A\",\"C\",\"C\",\"-\",\"-\",\"C\",\"T\",\"G\",\"C\",\"A\",\"A\",\"C\",\"A\",\"T\",\"A\",\"G\",\"A\",\"G\",\"C\",\"-\",\"-\",\"A\",\"-\",\"-\",\"-\",\"-\",\"A\",\"T\",\"-\",\"G\",\"-\",\"A\",\"-\",\"C\",\"-\",\"-\",\"C\",\"A\",\"T\",\"G\",\"G\",\"-\",\"A\",\"G\",\"A\",\"C\",\"C\",\"C\",\"-\",\"T\",\"-\",\"-\",\"G\",\"A\",\"A\",\"T\",\"G\",\"G\",\"C\",\"-\",\"-\",\"C\",\"-\",\"-\",\"C\",\"A\",\"T\",\"G\",\"-\",\"-\",\"-\",\"G\",\"-\",\"G\",\"C\",\"G\",\"T\",\"A\",\"C\",\"T\",\"G\",\"-\",\"A\",\"T\",\"G\",\"G\",\"C\",\"A\",\"A\",\"C\",\"T\",\"-\",\"-\",\"A\",\"-\",\"C\",\"G\",\"G\",\"-\",\"G\",\"A\",\"-\",\"C\",\"-\",\"-\",\"A\",\"C\",\"C\",\"-\",\"-\"],\"x\":{\"__ndarray__\":\"AAAAAAAA4D8AAAAAAAD4PwAAAAAAAARAAAAAAAAADEAAAAAAAAASQAAAAAAAABZAAAAAAAAAGkAAAAAAAAAeQAAAAAAAACFAAAAAAAAAI0AAAAAAAAAlQAAAAAAAACdAAAAAAAAAKUAAAAAAAAArQAAAAAAAAC1AAAAAAAAAL0AAAAAAAIAwQAAAAAAAgDFAAAAAAACAMkAAAAAAAIAzQAAAAAAAgDRAAAAAAACANUAAAAAAAIA2QAAAAAAAgDdAAAAAAACAOEAAAAAAAIA5QAAAAAAAgDpAAAAAAACAO0AAAAAAAADgPwAAAAAAAPg/AAAAAAAABEAAAAAAAAAMQAAAAAAAABJAAAAAAAAAFkAAAAAAAAAaQAAAAAAAAB5AAAAAAAAAIUAAAAAAAAAjQAAAAAAAACVAAAAAAAAAJ0AAAAAAAAApQAAAAAAAACtAAAAAAAAALUAAAAAAAAAvQAAAAAAAgDBAAAAAAACAMUAAAAAAAIAyQAAAAAAAgDNAAAAAAACANEAAAAAAAIA1QAAAAAAAgDZAAAAAAACAN0AAAAAAAIA4QAAAAAAAgDlAAAAAAACAOkAAAAAAAIA7QAAAAAAAAOA/AAAAAAAA+D8AAAAAAAAEQAAAAAAAAAxAAAAAAAAAEkAAAAAAAAAWQAAAAAAAABpAAAAAAAAAHkAAAAAAAAAhQAAAAAAAACNAAAAAAAAAJUAAAAAAAAAnQAAAAAAAAClAAAAAAAAAK0AAAAAAAAAtQAAAAAAAAC9AAAAAAACAMEAAAAAAAIAxQAAAAAAAgDJAAAAAAACAM0AAAAAAAIA0QAAAAAAAgDVAAAAAAACANkAAAAAAAIA3QAAAAAAAgDhAAAAAAACAOUAAAAAAAIA6QAAAAAAAgDtAAAAAAAAA4D8AAAAAAAD4PwAAAAAAAARAAAAAAAAADEAAAAAAAAASQAAAAAAAABZAAAAAAAAAGkAAAAAAAAAeQAAAAAAAACFAAAAAAAAAI0AAAAAAAAAlQAAAAAAAACdAAAAAAAAAKUAAAAAAAAArQAAAAAAAAC1AAAAAAAAAL0AAAAAAAIAwQAAAAAAAgDFAAAAAAACAMkAAAAAAAIAzQAAAAAAAgDRAAAAAAACANUAAAAAAAIA2QAAAAAAAgDdAAAAAAACAOEAAAAAAAIA5QAAAAAAAgDpAAAAAAACAO0AAAAAAAADgPwAAAAAAAPg/AAAAAAAABEAAAAAAAAAMQAAAAAAAABJAAAAAAAAAFkAAAAAAAAAaQAAAAAAAAB5AAAAAAAAAIUAAAAAAAAAjQAAAAAAAACVAAAAAAAAAJ0AAAAAAAAApQAAAAAAAACtAAAAAAAAALUAAAAAAAAAvQAAAAAAAgDBAAAAAAACAMUAAAAAAAIAyQAAAAAAAgDNAAAAAAACANEAAAAAAAIA1QAAAAAAAgDZAAAAAAACAN0AAAAAAAIA4QAAAAAAAgDlAAAAAAACAOkAAAAAAAIA7QA==\",\"dtype\":\"float64\",\"order\":\"little\",\"shape\":[140]},\"y\":[0,0,0,0,0,0,0,0,0,0,0,0,0,0,0,0,0,0,0,0,0,0,0,0,0,0,0,0,1,1,1,1,1,1,1,1,1,1,1,1,1,1,1,1,1,1,1,1,1,1,1,1,1,1,1,1,2,2,2,2,2,2,2,2,2,2,2,2,2,2,2,2,2,2,2,2,2,2,2,2,2,2,2,2,3,3,3,3,3,3,3,3,3,3,3,3,3,3,3,3,3,3,3,3,3,3,3,3,3,3,3,3,4,4,4,4,4,4,4,4,4,4,4,4,4,4,4,4,4,4,4,4,4,4,4,4,4,4,4,4]},\"selected\":{\"id\":\"2311\"},\"selection_policy\":{\"id\":\"2310\"}},\"id\":\"2244\",\"type\":\"ColumnDataSource\"},{\"attributes\":{},\"id\":\"2260\",\"type\":\"BasicTicker\"},{\"attributes\":{\"dimensions\":\"width\"},\"id\":\"2292\",\"type\":\"PanTool\"},{\"attributes\":{\"toolbars\":[{\"id\":\"2267\"},{\"id\":\"2294\"}],\"tools\":[{\"id\":\"2263\"},{\"id\":\"2264\"},{\"id\":\"2265\"},{\"id\":\"2266\"},{\"id\":\"2292\"},{\"id\":\"2293\"}]},\"id\":\"2324\",\"type\":\"ProxyToolbar\"},{\"attributes\":{\"end\":28},\"id\":\"2277\",\"type\":\"Range1d\"},{\"attributes\":{},\"id\":\"2290\",\"type\":\"CategoricalTicker\"},{\"attributes\":{\"bounds\":\"auto\",\"end\":29},\"id\":\"2245\",\"type\":\"Range1d\"},{\"attributes\":{\"children\":[{\"id\":\"2326\"}],\"margin\":[0,0,0,0],\"name\":\"Row00123\"},\"id\":\"2327\",\"type\":\"Row\"},{\"attributes\":{\"tools\":[{\"id\":\"2263\"},{\"id\":\"2264\"},{\"id\":\"2265\"},{\"id\":\"2266\"}]},\"id\":\"2267\",\"type\":\"Toolbar\"},{\"attributes\":{},\"id\":\"2308\",\"type\":\"BasicTickFormatter\"},{\"attributes\":{\"axis\":{\"id\":\"2255\"},\"coordinates\":null,\"group\":null,\"ticker\":null,\"visible\":false},\"id\":\"2258\",\"type\":\"Grid\"},{\"attributes\":{\"children\":[{\"id\":\"2323\"},{\"id\":\"2325\"}]},\"id\":\"2326\",\"type\":\"Column\"},{\"attributes\":{\"coordinates\":null,\"data_source\":{\"id\":\"2244\"},\"glyph\":{\"id\":\"2297\"},\"group\":null,\"hover_glyph\":null,\"view\":{\"id\":\"2302\"}},\"id\":\"2301\",\"type\":\"GlyphRenderer\"},{\"attributes\":{\"axis\":{\"id\":\"2289\"},\"coordinates\":null,\"dimension\":1,\"group\":null,\"ticker\":null,\"visible\":false},\"id\":\"2291\",\"type\":\"Grid\"},{\"attributes\":{\"dimensions\":\"width\"},\"id\":\"2263\",\"type\":\"PanTool\"},{\"attributes\":{\"source\":{\"id\":\"2244\"}},\"id\":\"2274\",\"type\":\"CDSView\"},{\"attributes\":{},\"id\":\"2305\",\"type\":\"BasicTickFormatter\"},{\"attributes\":{\"source\":{\"id\":\"2244\"}},\"id\":\"2302\",\"type\":\"CDSView\"},{\"attributes\":{\"axis\":{\"id\":\"2259\"},\"coordinates\":null,\"dimension\":1,\"group\":null,\"ticker\":null,\"visible\":false},\"id\":\"2262\",\"type\":\"Grid\"},{\"attributes\":{\"coordinates\":null,\"formatter\":{\"id\":\"2315\"},\"group\":null,\"major_label_policy\":{\"id\":\"2316\"},\"major_tick_line_width\":0,\"minor_tick_line_width\":0,\"ticker\":{\"id\":\"2290\"}},\"id\":\"2289\",\"type\":\"CategoricalAxis\"},{\"attributes\":{},\"id\":\"2283\",\"type\":\"CategoricalScale\"},{\"attributes\":{},\"id\":\"2265\",\"type\":\"ResetTool\"},{\"attributes\":{\"axis\":{\"id\":\"2285\"},\"coordinates\":null,\"group\":null,\"ticker\":null,\"visible\":false},\"id\":\"2288\",\"type\":\"Grid\"},{\"attributes\":{\"text_align\":{\"value\":\"center\"},\"text_color\":{\"value\":\"black\"},\"text_font_size\":{\"value\":\"9pt\"},\"text_font_style\":{\"value\":\"bold\"},\"x\":{\"field\":\"x\"},\"y\":{\"field\":\"y\"}},\"id\":\"2297\",\"type\":\"Text\"},{\"attributes\":{\"client_comm_id\":\"957d3ae1a2dd4b7792526aae25061d61\",\"comm_id\":\"ce01467284014707b6d6cb1436580498\",\"plot_id\":\"2327\"},\"id\":\"2408\",\"type\":\"panel.models.comm_manager.CommManager\"},{\"attributes\":{\"below\":[{\"id\":\"2255\"}],\"center\":[{\"id\":\"2258\"},{\"id\":\"2262\"}],\"height\":50,\"left\":[{\"id\":\"2259\"}],\"min_border\":0,\"renderers\":[{\"id\":\"2273\"}],\"title\":null,\"toolbar\":{\"id\":\"2267\"},\"toolbar_location\":null,\"width\":800,\"x_range\":{\"id\":\"2245\"},\"x_scale\":{\"id\":\"2251\"},\"y_range\":{\"id\":\"2249\"},\"y_scale\":{\"id\":\"2253\"}},\"id\":\"2246\",\"subtype\":\"Figure\",\"type\":\"Plot\"},{\"attributes\":{\"coordinates\":null,\"data_source\":{\"id\":\"2244\"},\"glyph\":{\"id\":\"2272\"},\"group\":null,\"hover_glyph\":null,\"view\":{\"id\":\"2274\"}},\"id\":\"2273\",\"type\":\"GlyphRenderer\"},{\"attributes\":{},\"id\":\"2293\",\"type\":\"ResetTool\"},{\"attributes\":{},\"id\":\"2306\",\"type\":\"AllLabels\"},{\"attributes\":{\"toolbar\":{\"id\":\"2324\"},\"toolbar_location\":\"below\"},\"id\":\"2325\",\"type\":\"ToolbarBox\"},{\"attributes\":{\"below\":[{\"id\":\"2285\"}],\"center\":[{\"id\":\"2288\"},{\"id\":\"2291\"}],\"height\":100,\"left\":[{\"id\":\"2289\"}],\"min_border\":0,\"renderers\":[{\"id\":\"2299\"},{\"id\":\"2301\"}],\"title\":null,\"toolbar\":{\"id\":\"2294\"},\"toolbar_location\":null,\"width\":800,\"x_range\":{\"id\":\"2277\"},\"x_scale\":{\"id\":\"2281\"},\"y_range\":{\"id\":\"2279\"},\"y_scale\":{\"id\":\"2283\"}},\"id\":\"2275\",\"subtype\":\"Figure\",\"type\":\"Plot\"}],\"root_ids\":[\"2327\",\"2408\"]},\"title\":\"Bokeh Application\",\"version\":\"2.4.0\"}};\n",
       "    var render_items = [{\"docid\":\"7a71492a-2535-4e1a-a664-60f0215ebae6\",\"root_ids\":[\"2327\"],\"roots\":{\"2327\":\"4b888da1-29a8-4e83-9a89-5775c4417aab\"}}];\n",
       "    root.Bokeh.embed.embed_items_notebook(docs_json, render_items);\n",
       "  }\n",
       "  if (root.Bokeh !== undefined && root.Bokeh.Panel !== undefined) {\n",
       "    embed_document(root);\n",
       "  } else {\n",
       "    var attempts = 0;\n",
       "    var timer = setInterval(function(root) {\n",
       "      if (root.Bokeh !== undefined && root.Bokeh.Panel !== undefined) {\n",
       "        clearInterval(timer);\n",
       "        embed_document(root);\n",
       "      } else if (document.readyState == \"complete\") {\n",
       "        attempts++;\n",
       "        if (attempts > 200) {\n",
       "          clearInterval(timer);\n",
       "          console.log(\"Bokeh: ERROR: Unable to run BokehJS code because BokehJS library is missing\");\n",
       "        }\n",
       "      }\n",
       "    }, 25, root)\n",
       "  }\n",
       "})(window);</script>"
      ],
      "text/plain": [
       "Bokeh(Column)"
      ]
     },
     "metadata": {
      "application/vnd.holoviews_exec.v0+json": {
       "id": "2327"
      }
     },
     "output_type": "display_data"
    }
   ],
   "source": [
    "''' ALIGN MULTIPLE SEQUENCES '''\n",
    "\n",
    "# Define some sequences\n",
    "s1 = SQ(\"ATAGCACTCATCCGGCCAG\")\n",
    "s2 = SQ(\"AACCCTGCAACATAGAGCA\")\n",
    "s3 = SQ(\"ATGACCATGGAGACCCTGA\")\n",
    "s4 = SQ(\"ATGGCCCATGGGCGTACTG\")\n",
    "s5 = SQ(\"ATGGCAACTACGGGACACC\")\n",
    "\n",
    "# Like in PSA, set a substitution matrix\n",
    "sm = SUBM()\n",
    "sm.make(\"ACGT\",1,-1)\n",
    "\n",
    "# Initialisation of MSA problem\n",
    "ma = MSA(seqs=[s1,s2,s3,s4,s5], # set the sequences \n",
    "         subm=sm,               # set the substitution matrix\n",
    "         g=-1)                  # set the gap penalty model\n",
    "\n",
    "# Get the alignment\n",
    "al = ma.align_consensus() # Iteratively align sequences\n",
    "al.view() # visualise alignment "
   ]
  }
 ],
 "metadata": {
  "kernelspec": {
   "display_name": "Python 3",
   "language": "python",
   "name": "python3"
  },
  "language_info": {
   "codemirror_mode": {
    "name": "ipython",
    "version": 3
   },
   "file_extension": ".py",
   "mimetype": "text/x-python",
   "name": "python",
   "nbconvert_exporter": "python",
   "pygments_lexer": "ipython3",
   "version": "3.7.10"
  },
  "papermill": {
   "default_parameters": {},
   "duration": 38.780166,
   "end_time": "2023-05-10T06:28:51.538168",
   "environment_variables": {},
   "exception": null,
   "input_path": "__notebook__.ipynb",
   "output_path": "__notebook__.ipynb",
   "parameters": {},
   "start_time": "2023-05-10T06:28:12.758002",
   "version": "2.3.3"
  }
 },
 "nbformat": 4,
 "nbformat_minor": 5
}
